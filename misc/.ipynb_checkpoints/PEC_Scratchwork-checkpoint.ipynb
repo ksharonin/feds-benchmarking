{
 "cells": [
  {
   "cell_type": "markdown",
   "id": "ae40076b-0b07-4dc1-aa2f-ec0533f6e272",
   "metadata": {},
   "source": [
    "### Scratchwork for PEC Development"
   ]
  },
  {
   "cell_type": "markdown",
   "id": "562089f2-74a0-424d-9bd8-5be9b74c7dd2",
   "metadata": {},
   "source": [
    "Workflow:\n",
    "Input_VEDA + Input_Reference -> Output_Calculation\n",
    "\n",
    "Idea: one instance per calculation run\n",
    "Relations: Output_Calculation maps to a Input_VEDA + Input_Reference\n",
    "\n",
    "*VEDA Input: either an API or hard-passed URL to a VEDA dataset*\n",
    "- API: accessed through VEDA API (priority)\n",
    "- URL: directly passed for access (secondary due to complications)\n",
    "- Class\n",
    "- Global vars:\n",
    "    - Live track of all instances\n",
    "- Instance vars:\n",
    "    - Hash?\n",
    "    - CRS\n",
    "    - API or URL\n",
    "    - Bounding box\n",
    "    - Time\n",
    "- Methods: \n",
    "    - getInstanceDetails()\n",
    "    - \n",
    "\n",
    "*Reference Input: generalized input which we compare VEDA input to*\n",
    "- Class\n",
    "- Global vars:\n",
    "    - Live tracking\n",
    "    - \n",
    "- Instance vars:\n",
    "    - Hash?\n",
    "    - CRS\n",
    "    - URL/location\n",
    "    - Platform/how to read\n",
    "- Methods:\n",
    "    - Read_from_source()\n",
    "    - getInstanceDetails()\n",
    "\n",
    "*Calculation Output: generalized output containing all calculations + metadata/settings to replicate*\n",
    "- Class\n",
    "- Global vars:\n",
    "    - live_track_all\n",
    "- Instance vars:\n",
    "    - what_calculations\n",
    "    - meta_data\n",
    "- Methods:\n",
    "    - plot/visualize()\n",
    "    - get_metadata()\n",
    "    - dump_contents()\n",
    "    - regen_from_contents()\n",
    "\n",
    "Back-burner:\n",
    "- Able to load in previous instances by dumping contents to Output_Calculation?\n",
    "    - For plotting, re-analysis/re-generation, etc?\n",
    "- Do we want one ipynb run per results? Multi-tracking?\n",
    "    - Maybe not multiple instances, but we want to neatly track properties\n",
    "- Any subclasses? Private/Public\n",
    " \n",
    " \n",
    " \n",
    " #######################"
   ]
  },
  {
   "cell_type": "markdown",
   "id": "7f019d2d-fa33-40ec-a58b-15b430bdd1ea",
   "metadata": {},
   "source": [
    "# Test ArcGIS online reading"
   ]
  },
  {
   "cell_type": "code",
   "execution_count": null,
   "id": "77db590d-b1a7-4c63-a2f2-86550d311841",
   "metadata": {
    "tags": []
   },
   "outputs": [],
   "source": [
    "#!pip install arcgis"
   ]
  },
  {
   "cell_type": "code",
   "execution_count": 3,
   "id": "0dd770e3-2bd0-4e06-afd8-49fbcf49c744",
   "metadata": {
    "tags": []
   },
   "outputs": [
    {
     "name": "stdout",
     "output_type": "stream",
     "text": [
      "GeoJSON data downloaded and saved to output.geojson\n"
     ]
    }
   ],
   "source": [
    "import requests\n",
    "\n",
    "geojson_url = \"https://services3.arcgis.com/T4QMspbfLg3qTGWY/arcgis/rest/services/WFIGS_Interagency_Perimeters_Current/FeatureServer/0/query?outFields=*&where=1%3D1&f=geojson\"\n",
    "\n",
    "response = requests.get(geojson_url)\n",
    "\n",
    "if response.status_code == 200:\n",
    "    with open(\"output.geojson\", \"wb\") as geojson_file:\n",
    "        geojson_file.write(response.content)\n",
    "    print(\"GeoJSON data downloaded and saved to output.geojson\")\n",
    "else:\n",
    "    print(f\"Failed to retrieve data. Status code: {response.status_code}\")\n"
   ]
  },
  {
   "cell_type": "code",
   "execution_count": 6,
   "id": "40287461-1c60-4d82-983f-522d3bc934ef",
   "metadata": {
    "tags": []
   },
   "outputs": [
    {
     "name": "stderr",
     "output_type": "stream",
     "text": [
      "/tmp/ipykernel_411/3861623131.py:10: UserWarning: Column names longer than 10 characters will be truncated when saved to ESRI Shapefile.\n",
      "  gdf.to_file(output_shapefile)\n"
     ]
    },
    {
     "data": {
      "image/png": "[encoded data removed]",
      "text/plain": [
       "<Figure size 640x480 with 1 Axes>"
      ]
     },
     "metadata": {},
     "output_type": "display_data"
    },
    {
     "name": "stdout",
     "output_type": "stream",
     "text": [
      "   OBJECTID  poly_SourceOID poly_IncidentName           poly_FeatureCategory  \\\n",
      "0     17421         17647.0          Hat Rock  Wildfire Daily Fire Perimeter   \n",
      "1     18118         33547.0              Flat  Wildfire Daily Fire Perimeter   \n",
      "2     18426         36447.0           Bedrock  Wildfire Daily Fire Perimeter   \n",
      "3     18618         29541.0           Lowline  Wildfire Daily Fire Perimeter   \n",
      "4     18823         32446.0    Classic Canyon  Wildfire Daily Fire Perimeter   \n",
      "\n",
      "            poly_MapMethod  poly_GISAcres  poly_CreateDate  poly_DateCurrent  \\\n",
      "0            Mixed Methods   16816.510979    1686966369000     1686966417000   \n",
      "1            Mixed Methods   34241.688063    1692420054000     1696715435000   \n",
      "2  IR Image Interpretation   31589.200694    1693487522000     1694867082000   \n",
      "3            Mixed Methods    1899.305731    1691166205000     1692907973000   \n",
      "4            Mixed Methods     235.919245    1692139950000     1692140060000   \n",
      "\n",
      "   poly_PolygonDateTime                            poly_IRWINID  ...  \\\n",
      "0                   NaN  {581EB6AE-9DAA-451B-8372-42E515197461}  ...   \n",
      "1          1.692073e+12  {76502E27-4AE0-4100-A9AD-F1850B16333D}  ...   \n",
      "2                   NaN  {A07D9467-CE0F-46B8-ACA1-209FE8A4A9B4}  ...   \n",
      "3          1.692703e+12  {F7906B79-EC1C-4DA6-A0B3-3899A15E8645}  ...   \n",
      "4          1.690517e+12  {21F9271F-FFF9-410A-88BF-3874B48BBEFC}  ...   \n",
      "\n",
      "  attr_ModifiedOnDateTime_dt  attr_Source attr_IsCpxChild attr_CpxName  \\\n",
      "0              1696809634210        IRWIN               0         None   \n",
      "1              1697671876670        IRWIN               0         None   \n",
      "2              1696814171873        IRWIN               0         None   \n",
      "3              1697144122620        IRWIN               0         None   \n",
      "4              1696864743620        IRWIN               0         None   \n",
      "\n",
      "   attr_CpxID                     attr_SourceGlobalID  \\\n",
      "0        None  {7921498F-4E27-4FE0-89F4-AAB9A1A1095F}   \n",
      "1        None  {0F009350-CAB4-404E-B44C-1F8ADC9D92A2}   \n",
      "2        None  {78ECDAC2-C7EB-4775-91D4-D8B295C50A4D}   \n",
      "3        None  {48795974-9045-4B80-B792-78EBA663AC1E}   \n",
      "4        None  {41289862-21D7-43C2-8389-CE27B78CB68F}   \n",
      "\n",
      "                               GlobalID  Shape__Area Shape__Length  \\\n",
      "0  38af7cf5-925d-4df1-8b56-eefda8db590c     0.007886      0.731795   \n",
      "1  b5b7c839-05ba-42dc-9ff0-e1e635314532     0.015166      1.207142   \n",
      "2  11f28da9-f2ac-4996-a094-1aea4b2f0b9f     0.014342      2.165569   \n",
      "3  a078191c-37c6-4653-9382-292939f86753     0.000796      0.395085   \n",
      "4  9f46ef11-eb33-495e-b625-6ef51feb3634     0.000091      0.064106   \n",
      "\n",
      "                                            geometry  \n",
      "0  POLYGON ((-118.99366 45.97999, -118.98939 45.9...  \n",
      "1  MULTIPOLYGON (((-124.02402 42.47736, -124.0240...  \n",
      "2  MULTIPOLYGON (((-122.42777 44.01899, -122.4277...  \n",
      "3  MULTIPOLYGON (((-107.07501 38.70682, -107.0750...  \n",
      "4  MULTIPOLYGON (((-97.64435 31.59548, -97.64414 ...  \n",
      "\n",
      "[5 rows x 114 columns]\n",
      "<class 'geopandas.geodataframe.GeoDataFrame'>\n"
     ]
    }
   ],
   "source": [
    "import geopandas as gpd\n",
    "import matplotlib.pyplot as plt\n",
    "\n",
    "# Read the GeoJSON file\n",
    "geojson_file = \"output.geojson\"\n",
    "gdf = gpd.read_file(geojson_file)\n",
    "\n",
    "# Save the GeoDataFrame as a shapefile\n",
    "output_shapefile = \"output.shp\"\n",
    "gdf.to_file(output_shapefile)\n",
    "\n",
    "gdf.plot()\n",
    "\n",
    "# Show the plot\n",
    "plt.title(\"Shapefile Plot\")\n",
    "plt.show()\n",
    "\n",
    "print(gdf.head())\n",
    "print(type(gdf))"
   ]
  },
  {
   "cell_type": "markdown",
   "id": "aa5fd5c0-af4e-43b6-b5d7-d14e8912cb94",
   "metadata": {},
   "source": [
    "# Test VEDA API Access for FirePerims"
   ]
  },
  {
   "cell_type": "code",
   "execution_count": 3,
   "id": "aaa3d394-2c2e-4d04-8352-935b247d6b3c",
   "metadata": {
    "tags": []
   },
   "outputs": [
    {
     "name": "stdout",
     "output_type": "stream",
     "text": [
      "\u001b[33mWARNING: Running pip as the 'root' user can result in broken permissions and conflicting behaviour with the system package manager. It is recommended to use a virtual environment instead: https://pip.pypa.io/warnings/venv\u001b[0m\u001b[33m\n",
      "\u001b[0m"
     ]
    }
   ],
   "source": [
    "!pip install OWSLib==0.28.1 --quiet"
   ]
  },
  {
   "cell_type": "code",
   "execution_count": 40,
   "id": "241befff-a935-416b-a90a-1ce468a3f113",
   "metadata": {
    "tags": []
   },
   "outputs": [],
   "source": [
    "from owslib.ogcapi.features import Features\n",
    "import geopandas as gpd\n",
    "import datetime as dt\n",
    "from datetime import datetime, timedelta"
   ]
  },
  {
   "cell_type": "code",
   "execution_count": 41,
   "id": "a2ab0204-32d1-4840-9a3d-2ed9cced0492",
   "metadata": {
    "tags": []
   },
   "outputs": [
    {
     "data": {
      "text/plain": [
       "['public.eis_fire_lf_perimeter_nrt',\n",
       " 'public.eis_fire_lf_nfplist_nrt',\n",
       " 'public.eis_fire_lf_fireline_archive',\n",
       " 'public.eis_fire_lf_perimeter_archive',\n",
       " 'public.eis_fire_snapshot_perimeter_nrt',\n",
       " 'public.eis_fire_lf_newfirepix_nrt',\n",
       " 'public.eis_fire_lf_nfplist_archive',\n",
       " 'public.eis_fire_lf_newfirepix_archive',\n",
       " 'public.eis_fire_lf_fireline_nrt',\n",
       " 'public.eis_fire_snapshot_newfirepix_nrt',\n",
       " 'public.eis_fire_fwi',\n",
       " 'public.eis_fire_snapshot_fireline_nrt',\n",
       " 'public.st_squaregrid',\n",
       " 'public.st_hexagongrid',\n",
       " 'public.st_subdivide']"
      ]
     },
     "execution_count": 41,
     "metadata": {},
     "output_type": "execute_result"
    }
   ],
   "source": [
    "OGC_URL = \"https://firenrt.delta-backend.com\"\n",
    "\n",
    "w = Features(url=OGC_URL)\n",
    "w.feature_collections()"
   ]
  },
  {
   "cell_type": "code",
   "execution_count": 42,
   "id": "86c5622c-d79b-4b90-a79c-a37d866be1aa",
   "metadata": {
    "tags": []
   },
   "outputs": [
    {
     "name": "stdout",
     "output_type": "stream",
     "text": [
      "<class 'dict'>\n",
      "{'id': 'public.eis_fire_snapshot_perimeter_nrt', 'title': 'public.eis_fire_snapshot_perimeter_nrt', 'links': [{'href': 'https://firenrt.delta-backend.com/collections/public.eis_fire_snapshot_perimeter_nrt', 'rel': 'self', 'type': 'application/json'}, {'href': 'https://firenrt.delta-backend.com/collections/public.eis_fire_snapshot_perimeter_nrt/items', 'rel': 'items', 'type': 'application/geo+json', 'title': 'Items'}, {'href': 'https://firenrt.delta-backend.com/collections/public.eis_fire_snapshot_perimeter_nrt/items?f=csv', 'rel': 'alternate', 'type': 'text/csv', 'title': 'Items (CSV)'}, {'href': 'https://firenrt.delta-backend.com/collections/public.eis_fire_snapshot_perimeter_nrt/items?f=geojsonseq', 'rel': 'alternate', 'type': 'application/geo+json-seq', 'title': 'Items (GeoJSONSeq)'}, {'href': 'https://firenrt.delta-backend.com/collections/public.eis_fire_snapshot_perimeter_nrt/queryables', 'rel': 'queryables', 'type': 'application/schema+json', 'title': 'Queryables'}], 'extent': {'spatial': {'bbox': [[-124.40513610839844, 24.07025909423828, -63.038368225097656, 49.39781951904297]], 'crs': 'http://www.opengis.net/def/crs/OGC/1.3/CRS84'}, 'temporal': {'interval': [['2023-09-07T12:00:00+00:00', '2023-09-27T00:00:00+00:00']], 'trs': 'http://www.opengis.net/def/uom/ISO-8601/0/Gregorian'}}, 'itemType': 'feature', 'crs': ['http://www.opengis.net/def/crs/OGC/1.3/CRS84']}\n"
     ]
    }
   ],
   "source": [
    "perm = w.collection(\"public.eis_fire_snapshot_perimeter_nrt\")\n",
    "print(type(perm))\n",
    "print(perm)"
   ]
  },
  {
   "cell_type": "code",
   "execution_count": 43,
   "id": "4d4402fa-42f6-4f06-af4e-e6a89846bbf0",
   "metadata": {
    "tags": []
   },
   "outputs": [
    {
     "data": {
      "text/plain": [
       "['2023-09-07T12:00:00+00:00', '2023-09-27T00:00:00+00:00']"
      ]
     },
     "execution_count": 43,
     "metadata": {},
     "output_type": "execute_result"
    }
   ],
   "source": [
    "perm[\"extent\"][\"temporal\"][\"interval\"][0]"
   ]
  },
  {
   "cell_type": "code",
   "execution_count": 44,
   "id": "9df14f00-a9fd-410e-875d-0993e798defd",
   "metadata": {},
   "outputs": [
    {
     "name": "stdout",
     "output_type": "stream",
     "text": [
      "<class 'str'>\n",
      "Most Recent Time = 2023-09-27T00:00:00+00:00\n",
      "Last week = 2023-09-20T00:00:00+00:00\n"
     ]
    }
   ],
   "source": [
    "most_recent_time = max(*perm[\"extent\"][\"temporal\"][\"interval\"])\n",
    "print(type(most_recent_time))\n",
    "most_recent_time = max(*perm[\"extent\"][\"temporal\"][\"interval\"])\n",
    "now = dt.datetime.strptime(most_recent_time, \"%Y-%m-%dT%H:%M:%S+00:00\")\n",
    "last_week = now - dt.timedelta(weeks=1)\n",
    "last_week = dt.datetime.strftime(last_week, \"%Y-%m-%dT%H:%M:%S+00:00\")\n",
    "print(\"Most Recent Time =\", most_recent_time)\n",
    "print(\"Last week =\", last_week)"
   ]
  },
  {
   "cell_type": "code",
   "execution_count": 45,
   "id": "a2b2fda1-dc17-4d26-aa21-885dee47ed0d",
   "metadata": {
    "tags": []
   },
   "outputs": [
    {
     "name": "stdout",
     "output_type": "stream",
     "text": [
      "2023-09-20T00:00:00+00:00\n",
      "2023-09-27T00:00:00+00:00\n",
      "public.eis_fire_snapshot_perimeter_nrt ['-106.8', '24.5', '-72.9', '37.3'] ['2023-09-20T00:00:00+00:00/2023-09-27T00:00:00+00:00'] 1000\n"
     ]
    }
   ],
   "source": [
    "perm_results = w.collection_items(\n",
    "    \"public.eis_fire_snapshot_perimeter_nrt\",  # name of the dataset we want\n",
    "    bbox=[\"-106.8\", \"24.5\", \"-72.9\", \"37.3\"],  # coodrinates of bounding box,\n",
    "    datetime=[last_week + \"/\" + most_recent_time],  # date range\n",
    "    limit=1000,  # max number of items returned\n",
    "    filter=\"farea>5 AND duration>2\",  # additional filters based on queryable fields\n",
    ")\n",
    "# perm_results\n",
    "print(last_week)\n",
    "print(most_recent_time)\n",
    "\n",
    "perm_results = w.collection_items(\n",
    "    \"public.eis_fire_snapshot_perimeter_nrt\",  # name of the dataset we want\n",
    "    bbox=[\"-106.8\", \"24.5\", \"-72.9\", \"37.3\"],  # coodrinates of bounding box,\n",
    "    datetime=[last_week + \"/\" + most_recent_time],  # date range\n",
    "    limit=1000  # max number of items returned  # additional filters based on queryable fields\n",
    ")\n",
    "\n",
    "print(\"public.eis_fire_snapshot_perimeter_nrt\",  # name of the dataset we want\n",
    "      [\"-106.8\", \"24.5\", \"-72.9\", \"37.3\"],  # coodrinates of bounding box,\n",
    "     [last_week + \"/\" + most_recent_time],  # date range\n",
    "    1000)"
   ]
  },
  {
   "cell_type": "code",
   "execution_count": 46,
   "id": "7b4f68b4-53e2-4b6c-a9ba-60f776201b9b",
   "metadata": {
    "tags": []
   },
   "outputs": [
    {
     "name": "stdout",
     "output_type": "stream",
     "text": [
      "<class 'str'>\n"
     ]
    }
   ],
   "source": [
    "df = gpd.GeoDataFrame.from_features(perm_results[\"features\"])\n",
    "df\n",
    "\n",
    "print(type(df['t'][0]))"
   ]
  },
  {
   "cell_type": "code",
   "execution_count": 47,
   "id": "30ba1497-7d4c-4aab-94e1-bc3efbd9c8ad",
   "metadata": {
    "tags": []
   },
   "outputs": [
    {
     "name": "stdout",
     "output_type": "stream",
     "text": [
      "<class 'geopandas.geodataframe.GeoDataFrame'>\n",
      "<class 'str'>\n"
     ]
    },
    {
     "data": {
      "text/plain": [
       "Index(['geometry', 'duration', 'farea', 'fireid', 'flinelen', 'fperim',\n",
       "       'isactive', 'meanfrp', 'n_newpixels', 'n_pixels', 'ogc_fid', 'pixden',\n",
       "       't'],\n",
       "      dtype='object')"
      ]
     },
     "execution_count": 47,
     "metadata": {},
     "output_type": "execute_result"
    }
   ],
   "source": [
    "df = gpd.GeoDataFrame.from_features(perm_results[\"features\"])\n",
    "print(type(df))\n",
    "print(type(\"hi\"))\n",
    "df.columns\n",
    "# think about index return to persist"
   ]
  },
  {
   "cell_type": "markdown",
   "id": "8d95836b-0b19-419f-abc7-80a6ddc0d228",
   "metadata": {},
   "source": [
    "# Read NIFC Polygons from Local MAAP"
   ]
  },
  {
   "cell_type": "code",
   "execution_count": 39,
   "id": "9df95c17-790b-4aef-9829-23d56794b67e",
   "metadata": {
    "tags": []
   },
   "outputs": [
    {
     "name": "stdout",
     "output_type": "stream",
     "text": [
      "1\n",
      "2\n",
      "<class 'numpy.int64'>\n"
     ]
    }
   ],
   "source": [
    "import geopandas as gpd\n",
    "df = gpd.read_file(\"/projects/shared-buckets/ksharonin/InterAgencyFirePerimeterHistory\")\n",
    "df['index'] = df.index\n",
    "print(df['index'][1])\n",
    "# df\n",
    "\n",
    "# want index persisted for future fetch\n",
    "new = df[df['UNQE_FIRE_'] == '2021-AKFAS-000397']\n",
    "print(new.iloc[[0]]['index'].values[0])\n",
    "print(type(new.iloc[[0]]['index'].values[0]))"
   ]
  },
  {
   "cell_type": "code",
   "execution_count": 1,
   "id": "5de2e0ec-ed0c-431a-9c39-b724d7e9583b",
   "metadata": {},
   "outputs": [],
   "source": [
    "import boto3\n",
    "from botocore.exceptions import NoCredentialsError, PartialCredentialsError, EndpointConnectionError\n",
    "import Utilities"
   ]
  },
  {
   "cell_type": "code",
   "execution_count": 8,
   "id": "78a951bf-2db9-4ed1-a895-94e29df68ac3",
   "metadata": {
    "tags": []
   },
   "outputs": [
    {
     "name": "stdout",
     "output_type": "stream",
     "text": [
      "maap-ops-workspace\n",
      "shared/ksharonin/\n",
      "shared/ksharonin/\n",
      "shared/ksharonin/.Trash-0/\n",
      "shared/ksharonin/.Trash-0/files/\n",
      "shared/ksharonin/.Trash-0/info/\n",
      "shared/ksharonin/.empty/\n",
      "shared/ksharonin/.ipynb_checkpoints/\n",
      "shared/ksharonin/InterAgencyFirePerimeterHistory/\n",
      "shared/ksharonin/InterAgencyFirePerimeterHistory/.ipynb_checkpoints/\n",
      "shared/ksharonin/USAShapeFile/\n",
      "shared/ksharonin/VEDA-PEC/\n",
      "shared/ksharonin/VEDA-PEC/.git/\n",
      "shared/ksharonin/VEDA-PEC/.git/branches/\n",
      "shared/ksharonin/VEDA-PEC/.git/hooks/\n",
      "shared/ksharonin/VEDA-PEC/.git/info/\n",
      "shared/ksharonin/VEDA-PEC/.git/logs/\n",
      "shared/ksharonin/VEDA-PEC/.git/logs/refs/\n",
      "shared/ksharonin/VEDA-PEC/.git/logs/refs/heads/\n",
      "shared/ksharonin/VEDA-PEC/.git/logs/refs/remotes/\n",
      "shared/ksharonin/VEDA-PEC/.git/logs/refs/remotes/origin/\n",
      "shared/ksharonin/VEDA-PEC/.git/objects/\n",
      "shared/ksharonin/VEDA-PEC/.git/objects/00/\n",
      "shared/ksharonin/VEDA-PEC/.git/objects/01/\n",
      "shared/ksharonin/VEDA-PEC/.git/objects/02/\n",
      "shared/ksharonin/VEDA-PEC/.git/objects/03/\n",
      "shared/ksharonin/VEDA-PEC/.git/objects/04/\n",
      "shared/ksharonin/VEDA-PEC/.git/objects/07/\n",
      "shared/ksharonin/VEDA-PEC/.git/objects/0a/\n",
      "shared/ksharonin/VEDA-PEC/.git/objects/0d/\n",
      "shared/ksharonin/VEDA-PEC/.git/objects/11/\n",
      "shared/ksharonin/VEDA-PEC/.git/objects/12/\n",
      "shared/ksharonin/VEDA-PEC/.git/objects/13/\n",
      "shared/ksharonin/VEDA-PEC/.git/objects/15/\n",
      "shared/ksharonin/VEDA-PEC/.git/objects/17/\n",
      "shared/ksharonin/VEDA-PEC/.git/objects/18/\n",
      "shared/ksharonin/VEDA-PEC/.git/objects/1d/\n",
      "shared/ksharonin/VEDA-PEC/.git/objects/1e/\n",
      "shared/ksharonin/VEDA-PEC/.git/objects/26/\n",
      "shared/ksharonin/VEDA-PEC/.git/objects/29/\n",
      "shared/ksharonin/VEDA-PEC/.git/objects/2c/\n",
      "shared/ksharonin/VEDA-PEC/.git/objects/2d/\n",
      "shared/ksharonin/VEDA-PEC/.git/objects/32/\n",
      "shared/ksharonin/VEDA-PEC/.git/objects/35/\n",
      "shared/ksharonin/VEDA-PEC/.git/objects/36/\n",
      "shared/ksharonin/VEDA-PEC/.git/objects/38/\n",
      "shared/ksharonin/VEDA-PEC/.git/objects/39/\n",
      "shared/ksharonin/VEDA-PEC/.git/objects/3a/\n",
      "shared/ksharonin/VEDA-PEC/.git/objects/3b/\n",
      "shared/ksharonin/VEDA-PEC/.git/objects/3d/\n",
      "shared/ksharonin/VEDA-PEC/.git/objects/42/\n",
      "shared/ksharonin/VEDA-PEC/.git/objects/49/\n",
      "shared/ksharonin/VEDA-PEC/.git/objects/4b/\n",
      "shared/ksharonin/VEDA-PEC/.git/objects/4e/\n",
      "shared/ksharonin/VEDA-PEC/.git/objects/4f/\n",
      "shared/ksharonin/VEDA-PEC/.git/objects/55/\n",
      "shared/ksharonin/VEDA-PEC/.git/objects/56/\n",
      "shared/ksharonin/VEDA-PEC/.git/objects/5b/\n",
      "shared/ksharonin/VEDA-PEC/.git/objects/5c/\n",
      "shared/ksharonin/VEDA-PEC/.git/objects/5e/\n",
      "shared/ksharonin/VEDA-PEC/.git/objects/5f/\n",
      "shared/ksharonin/VEDA-PEC/.git/objects/60/\n",
      "shared/ksharonin/VEDA-PEC/.git/objects/63/\n",
      "shared/ksharonin/VEDA-PEC/.git/objects/67/\n",
      "shared/ksharonin/VEDA-PEC/.git/objects/6a/\n",
      "shared/ksharonin/VEDA-PEC/.git/objects/6b/\n",
      "shared/ksharonin/VEDA-PEC/.git/objects/6c/\n",
      "shared/ksharonin/VEDA-PEC/.git/objects/6d/\n",
      "shared/ksharonin/VEDA-PEC/.git/objects/74/\n",
      "shared/ksharonin/VEDA-PEC/.git/objects/77/\n",
      "shared/ksharonin/VEDA-PEC/.git/objects/7b/\n",
      "shared/ksharonin/VEDA-PEC/.git/objects/7d/\n",
      "shared/ksharonin/VEDA-PEC/.git/objects/80/\n",
      "shared/ksharonin/VEDA-PEC/.git/objects/86/\n",
      "shared/ksharonin/VEDA-PEC/.git/objects/88/\n",
      "shared/ksharonin/VEDA-PEC/.git/objects/8e/\n",
      "shared/ksharonin/VEDA-PEC/.git/objects/91/\n",
      "shared/ksharonin/VEDA-PEC/.git/objects/97/\n",
      "shared/ksharonin/VEDA-PEC/.git/objects/9b/\n",
      "shared/ksharonin/VEDA-PEC/.git/objects/9e/\n",
      "shared/ksharonin/VEDA-PEC/.git/objects/9f/\n",
      "shared/ksharonin/VEDA-PEC/.git/objects/a2/\n",
      "shared/ksharonin/VEDA-PEC/.git/objects/a4/\n",
      "shared/ksharonin/VEDA-PEC/.git/objects/a8/\n",
      "shared/ksharonin/VEDA-PEC/.git/objects/aa/\n",
      "shared/ksharonin/VEDA-PEC/.git/objects/af/\n",
      "shared/ksharonin/VEDA-PEC/.git/objects/b3/\n",
      "shared/ksharonin/VEDA-PEC/.git/objects/b4/\n",
      "shared/ksharonin/VEDA-PEC/.git/objects/b5/\n",
      "shared/ksharonin/VEDA-PEC/.git/objects/b6/\n",
      "shared/ksharonin/VEDA-PEC/.git/objects/bb/\n",
      "shared/ksharonin/VEDA-PEC/.git/objects/bc/\n",
      "shared/ksharonin/VEDA-PEC/.git/objects/bd/\n",
      "shared/ksharonin/VEDA-PEC/.git/objects/be/\n",
      "shared/ksharonin/VEDA-PEC/.git/objects/c1/\n",
      "shared/ksharonin/VEDA-PEC/.git/objects/c5/\n",
      "shared/ksharonin/VEDA-PEC/.git/objects/c8/\n",
      "shared/ksharonin/VEDA-PEC/.git/objects/ca/\n",
      "shared/ksharonin/VEDA-PEC/.git/objects/cd/\n",
      "shared/ksharonin/VEDA-PEC/.git/objects/cf/\n",
      "shared/ksharonin/VEDA-PEC/.git/objects/d3/\n",
      "shared/ksharonin/VEDA-PEC/.git/objects/d6/\n",
      "shared/ksharonin/VEDA-PEC/.git/objects/d9/\n",
      "shared/ksharonin/VEDA-PEC/.git/objects/dd/\n",
      "shared/ksharonin/VEDA-PEC/.git/objects/e5/\n",
      "shared/ksharonin/VEDA-PEC/.git/objects/e6/\n",
      "shared/ksharonin/VEDA-PEC/.git/objects/e7/\n",
      "shared/ksharonin/VEDA-PEC/.git/objects/e9/\n",
      "shared/ksharonin/VEDA-PEC/.git/objects/eb/\n",
      "shared/ksharonin/VEDA-PEC/.git/objects/ed/\n",
      "shared/ksharonin/VEDA-PEC/.git/objects/ee/\n",
      "shared/ksharonin/VEDA-PEC/.git/objects/ef/\n",
      "shared/ksharonin/VEDA-PEC/.git/objects/f4/\n",
      "shared/ksharonin/VEDA-PEC/.git/objects/fb/\n",
      "shared/ksharonin/VEDA-PEC/.git/objects/info/\n",
      "shared/ksharonin/VEDA-PEC/.git/objects/pack/\n",
      "shared/ksharonin/VEDA-PEC/.git/refs/\n",
      "shared/ksharonin/VEDA-PEC/.git/refs/heads/\n",
      "shared/ksharonin/VEDA-PEC/.git/refs/remotes/\n",
      "shared/ksharonin/VEDA-PEC/.git/refs/remotes/origin/\n",
      "shared/ksharonin/VEDA-PEC/.git/refs/tags/\n",
      "shared/ksharonin/VEDA-PEC/.ipynb_checkpoints/\n",
      "shared/ksharonin/VEDA-PEC/__pycache__/\n",
      "shared/ksharonin/benchmarking_development/\n",
      "shared/ksharonin/benchmarking_development/.git/\n",
      "shared/ksharonin/benchmarking_development/.git/branches/\n",
      "shared/ksharonin/benchmarking_development/.git/hooks/\n",
      "shared/ksharonin/benchmarking_development/.git/info/\n",
      "shared/ksharonin/benchmarking_development/.git/logs/\n",
      "shared/ksharonin/benchmarking_development/.git/logs/refs/\n",
      "shared/ksharonin/benchmarking_development/.git/logs/refs/heads/\n",
      "shared/ksharonin/benchmarking_development/.git/logs/refs/remotes/\n",
      "shared/ksharonin/benchmarking_development/.git/logs/refs/remotes/origin/\n",
      "shared/ksharonin/benchmarking_development/.git/objects/\n",
      "shared/ksharonin/benchmarking_development/.git/objects/01/\n",
      "shared/ksharonin/benchmarking_development/.git/objects/03/\n",
      "shared/ksharonin/benchmarking_development/.git/objects/07/\n",
      "shared/ksharonin/benchmarking_development/.git/objects/09/\n",
      "shared/ksharonin/benchmarking_development/.git/objects/0d/\n",
      "shared/ksharonin/benchmarking_development/.git/objects/0e/\n",
      "shared/ksharonin/benchmarking_development/.git/objects/10/\n",
      "shared/ksharonin/benchmarking_development/.git/objects/12/\n",
      "shared/ksharonin/benchmarking_development/.git/objects/14/\n",
      "shared/ksharonin/benchmarking_development/.git/objects/15/\n",
      "shared/ksharonin/benchmarking_development/.git/objects/16/\n",
      "shared/ksharonin/benchmarking_development/.git/objects/17/\n",
      "shared/ksharonin/benchmarking_development/.git/objects/1c/\n",
      "shared/ksharonin/benchmarking_development/.git/objects/1d/\n",
      "shared/ksharonin/benchmarking_development/.git/objects/1e/\n",
      "shared/ksharonin/benchmarking_development/.git/objects/20/\n",
      "shared/ksharonin/benchmarking_development/.git/objects/21/\n",
      "shared/ksharonin/benchmarking_development/.git/objects/27/\n",
      "shared/ksharonin/benchmarking_development/.git/objects/2d/\n",
      "shared/ksharonin/benchmarking_development/.git/objects/2e/\n",
      "shared/ksharonin/benchmarking_development/.git/objects/30/\n",
      "shared/ksharonin/benchmarking_development/.git/objects/33/\n",
      "shared/ksharonin/benchmarking_development/.git/objects/35/\n",
      "shared/ksharonin/benchmarking_development/.git/objects/3a/\n",
      "shared/ksharonin/benchmarking_development/.git/objects/3c/\n",
      "shared/ksharonin/benchmarking_development/.git/objects/3e/\n",
      "shared/ksharonin/benchmarking_development/.git/objects/40/\n",
      "shared/ksharonin/benchmarking_development/.git/objects/43/\n",
      "shared/ksharonin/benchmarking_development/.git/objects/46/\n",
      "shared/ksharonin/benchmarking_development/.git/objects/47/\n",
      "shared/ksharonin/benchmarking_development/.git/objects/49/\n",
      "shared/ksharonin/benchmarking_development/.git/objects/4a/\n",
      "shared/ksharonin/benchmarking_development/.git/objects/4c/\n",
      "shared/ksharonin/benchmarking_development/.git/objects/4d/\n",
      "shared/ksharonin/benchmarking_development/.git/objects/51/\n",
      "shared/ksharonin/benchmarking_development/.git/objects/52/\n",
      "shared/ksharonin/benchmarking_development/.git/objects/53/\n",
      "shared/ksharonin/benchmarking_development/.git/objects/57/\n",
      "shared/ksharonin/benchmarking_development/.git/objects/5a/\n",
      "shared/ksharonin/benchmarking_development/.git/objects/5b/\n",
      "shared/ksharonin/benchmarking_development/.git/objects/5d/\n",
      "shared/ksharonin/benchmarking_development/.git/objects/5e/\n",
      "shared/ksharonin/benchmarking_development/.git/objects/60/\n",
      "shared/ksharonin/benchmarking_development/.git/objects/63/\n",
      "shared/ksharonin/benchmarking_development/.git/objects/64/\n",
      "shared/ksharonin/benchmarking_development/.git/objects/66/\n",
      "shared/ksharonin/benchmarking_development/.git/objects/68/\n",
      "shared/ksharonin/benchmarking_development/.git/objects/6b/\n",
      "shared/ksharonin/benchmarking_development/.git/objects/6d/\n",
      "shared/ksharonin/benchmarking_development/.git/objects/74/\n",
      "shared/ksharonin/benchmarking_development/.git/objects/75/\n",
      "shared/ksharonin/benchmarking_development/.git/objects/76/\n",
      "shared/ksharonin/benchmarking_development/.git/objects/77/\n",
      "shared/ksharonin/benchmarking_development/.git/objects/78/\n",
      "shared/ksharonin/benchmarking_development/.git/objects/79/\n",
      "shared/ksharonin/benchmarking_development/.git/objects/7a/\n",
      "shared/ksharonin/benchmarking_development/.git/objects/7b/\n",
      "shared/ksharonin/benchmarking_development/.git/objects/7c/\n",
      "shared/ksharonin/benchmarking_development/.git/objects/7d/\n",
      "shared/ksharonin/benchmarking_development/.git/objects/7e/\n",
      "shared/ksharonin/benchmarking_development/.git/objects/7f/\n",
      "shared/ksharonin/benchmarking_development/.git/objects/80/\n",
      "shared/ksharonin/benchmarking_development/.git/objects/83/\n",
      "shared/ksharonin/benchmarking_development/.git/objects/84/\n",
      "shared/ksharonin/benchmarking_development/.git/objects/85/\n",
      "shared/ksharonin/benchmarking_development/.git/objects/87/\n",
      "shared/ksharonin/benchmarking_development/.git/objects/88/\n",
      "shared/ksharonin/benchmarking_development/.git/objects/8b/\n",
      "shared/ksharonin/benchmarking_development/.git/objects/8c/\n",
      "shared/ksharonin/benchmarking_development/.git/objects/8e/\n",
      "shared/ksharonin/benchmarking_development/.git/objects/8f/\n",
      "shared/ksharonin/benchmarking_development/.git/objects/91/\n",
      "shared/ksharonin/benchmarking_development/.git/objects/93/\n",
      "shared/ksharonin/benchmarking_development/.git/objects/94/\n",
      "shared/ksharonin/benchmarking_development/.git/objects/95/\n",
      "shared/ksharonin/benchmarking_development/.git/objects/96/\n",
      "shared/ksharonin/benchmarking_development/.git/objects/97/\n",
      "shared/ksharonin/benchmarking_development/.git/objects/99/\n",
      "shared/ksharonin/benchmarking_development/.git/objects/9b/\n",
      "shared/ksharonin/benchmarking_development/.git/objects/9c/\n",
      "shared/ksharonin/benchmarking_development/.git/objects/9e/\n",
      "shared/ksharonin/benchmarking_development/.git/objects/a0/\n",
      "shared/ksharonin/benchmarking_development/.git/objects/a1/\n",
      "shared/ksharonin/benchmarking_development/.git/objects/a3/\n",
      "shared/ksharonin/benchmarking_development/.git/objects/a4/\n",
      "shared/ksharonin/benchmarking_development/.git/objects/a5/\n",
      "shared/ksharonin/benchmarking_development/.git/objects/a6/\n",
      "shared/ksharonin/benchmarking_development/.git/objects/a7/\n",
      "shared/ksharonin/benchmarking_development/.git/objects/a9/\n",
      "shared/ksharonin/benchmarking_development/.git/objects/aa/\n",
      "shared/ksharonin/benchmarking_development/.git/objects/ab/\n",
      "shared/ksharonin/benchmarking_development/.git/objects/ac/\n",
      "shared/ksharonin/benchmarking_development/.git/objects/ae/\n",
      "shared/ksharonin/benchmarking_development/.git/objects/af/\n",
      "shared/ksharonin/benchmarking_development/.git/objects/b5/\n",
      "shared/ksharonin/benchmarking_development/.git/objects/b6/\n",
      "shared/ksharonin/benchmarking_development/.git/objects/b7/\n",
      "shared/ksharonin/benchmarking_development/.git/objects/b9/\n",
      "shared/ksharonin/benchmarking_development/.git/objects/bf/\n",
      "shared/ksharonin/benchmarking_development/.git/objects/c0/\n",
      "shared/ksharonin/benchmarking_development/.git/objects/c2/\n",
      "shared/ksharonin/benchmarking_development/.git/objects/c3/\n",
      "shared/ksharonin/benchmarking_development/.git/objects/c4/\n",
      "shared/ksharonin/benchmarking_development/.git/objects/c5/\n",
      "shared/ksharonin/benchmarking_development/.git/objects/c7/\n",
      "shared/ksharonin/benchmarking_development/.git/objects/c8/\n",
      "shared/ksharonin/benchmarking_development/.git/objects/ca/\n",
      "shared/ksharonin/benchmarking_development/.git/objects/cb/\n",
      "shared/ksharonin/benchmarking_development/.git/objects/cc/\n",
      "shared/ksharonin/benchmarking_development/.git/objects/cd/\n",
      "shared/ksharonin/benchmarking_development/.git/objects/cf/\n",
      "shared/ksharonin/benchmarking_development/.git/objects/d2/\n",
      "shared/ksharonin/benchmarking_development/.git/objects/d5/\n",
      "shared/ksharonin/benchmarking_development/.git/objects/dd/\n",
      "shared/ksharonin/benchmarking_development/.git/objects/de/\n",
      "shared/ksharonin/benchmarking_development/.git/objects/e1/\n",
      "shared/ksharonin/benchmarking_development/.git/objects/e4/\n",
      "shared/ksharonin/benchmarking_development/.git/objects/e5/\n",
      "shared/ksharonin/benchmarking_development/.git/objects/e6/\n",
      "shared/ksharonin/benchmarking_development/.git/objects/e7/\n",
      "shared/ksharonin/benchmarking_development/.git/objects/ea/\n",
      "shared/ksharonin/benchmarking_development/.git/objects/ec/\n",
      "shared/ksharonin/benchmarking_development/.git/objects/ee/\n",
      "shared/ksharonin/benchmarking_development/.git/objects/ef/\n",
      "shared/ksharonin/benchmarking_development/.git/objects/f2/\n",
      "shared/ksharonin/benchmarking_development/.git/objects/f4/\n",
      "shared/ksharonin/benchmarking_development/.git/objects/f6/\n",
      "shared/ksharonin/benchmarking_development/.git/objects/f8/\n",
      "shared/ksharonin/benchmarking_development/.git/objects/f9/\n",
      "shared/ksharonin/benchmarking_development/.git/objects/fb/\n",
      "shared/ksharonin/benchmarking_development/.git/objects/fc/\n",
      "shared/ksharonin/benchmarking_development/.git/objects/fe/\n",
      "shared/ksharonin/benchmarking_development/.git/objects/info/\n",
      "shared/ksharonin/benchmarking_development/.git/objects/pack/\n",
      "shared/ksharonin/benchmarking_development/.git/refs/\n",
      "shared/ksharonin/benchmarking_development/.git/refs/heads/\n",
      "shared/ksharonin/benchmarking_development/.git/refs/remotes/\n",
      "shared/ksharonin/benchmarking_development/.git/refs/remotes/origin/\n",
      "shared/ksharonin/benchmarking_development/.git/refs/tags/\n",
      "shared/ksharonin/benchmarking_development/.ipynb_checkpoints/\n",
      "shared/ksharonin/benchmarking_development/__pycache__/\n",
      "shared/ksharonin/gaccRegions/\n",
      "shared/ksharonin/gs-weather-warning/\n",
      "shared/ksharonin/gs-weather-warning/.empty/\n",
      "shared/ksharonin/gs-weather-warning/.git/\n",
      "shared/ksharonin/gs-weather-warning/.git/branches/\n",
      "shared/ksharonin/gs-weather-warning/.git/hooks/\n",
      "shared/ksharonin/gs-weather-warning/.git/info/\n",
      "shared/ksharonin/gs-weather-warning/.git/logs/\n",
      "shared/ksharonin/gs-weather-warning/.git/logs/refs/\n",
      "shared/ksharonin/gs-weather-warning/.git/logs/refs/heads/\n",
      "shared/ksharonin/gs-weather-warning/.git/logs/refs/remotes/\n",
      "shared/ksharonin/gs-weather-warning/.git/logs/refs/remotes/origin/\n",
      "shared/ksharonin/gs-weather-warning/.git/objects/\n",
      "shared/ksharonin/gs-weather-warning/.git/objects/01/\n",
      "shared/ksharonin/gs-weather-warning/.git/objects/06/\n",
      "shared/ksharonin/gs-weather-warning/.git/objects/08/\n",
      "shared/ksharonin/gs-weather-warning/.git/objects/19/\n",
      "shared/ksharonin/gs-weather-warning/.git/objects/1e/\n",
      "shared/ksharonin/gs-weather-warning/.git/objects/21/\n",
      "shared/ksharonin/gs-weather-warning/.git/objects/4a/\n",
      "shared/ksharonin/gs-weather-warning/.git/objects/54/\n",
      "shared/ksharonin/gs-weather-warning/.git/objects/5f/\n",
      "shared/ksharonin/gs-weather-warning/.git/objects/64/\n",
      "shared/ksharonin/gs-weather-warning/.git/objects/6c/\n",
      "shared/ksharonin/gs-weather-warning/.git/objects/71/\n",
      "shared/ksharonin/gs-weather-warning/.git/objects/74/\n",
      "shared/ksharonin/gs-weather-warning/.git/objects/7a/\n",
      "shared/ksharonin/gs-weather-warning/.git/objects/8b/\n",
      "shared/ksharonin/gs-weather-warning/.git/objects/8c/\n",
      "shared/ksharonin/gs-weather-warning/.git/objects/93/\n",
      "shared/ksharonin/gs-weather-warning/.git/objects/9c/\n",
      "shared/ksharonin/gs-weather-warning/.git/objects/9d/\n",
      "shared/ksharonin/gs-weather-warning/.git/objects/9e/\n",
      "shared/ksharonin/gs-weather-warning/.git/objects/a2/\n",
      "shared/ksharonin/gs-weather-warning/.git/objects/a8/\n",
      "shared/ksharonin/gs-weather-warning/.git/objects/aa/\n",
      "shared/ksharonin/gs-weather-warning/.git/objects/b5/\n",
      "shared/ksharonin/gs-weather-warning/.git/objects/b6/\n",
      "shared/ksharonin/gs-weather-warning/.git/objects/b7/\n",
      "shared/ksharonin/gs-weather-warning/.git/objects/b8/\n",
      "shared/ksharonin/gs-weather-warning/.git/objects/b9/\n",
      "shared/ksharonin/gs-weather-warning/.git/objects/c0/\n",
      "shared/ksharonin/gs-weather-warning/.git/objects/c3/\n",
      "shared/ksharonin/gs-weather-warning/.git/objects/c8/\n",
      "shared/ksharonin/gs-weather-warning/.git/objects/c9/\n",
      "shared/ksharonin/gs-weather-warning/.git/objects/da/\n",
      "shared/ksharonin/gs-weather-warning/.git/objects/e0/\n",
      "shared/ksharonin/gs-weather-warning/.git/objects/e4/\n",
      "shared/ksharonin/gs-weather-warning/.git/objects/e6/\n",
      "shared/ksharonin/gs-weather-warning/.git/objects/e8/\n",
      "shared/ksharonin/gs-weather-warning/.git/objects/ef/\n",
      "shared/ksharonin/gs-weather-warning/.git/objects/f7/\n",
      "shared/ksharonin/gs-weather-warning/.git/objects/info/\n",
      "shared/ksharonin/gs-weather-warning/.git/objects/pack/\n",
      "shared/ksharonin/gs-weather-warning/.git/refs/\n",
      "shared/ksharonin/gs-weather-warning/.git/refs/heads/\n",
      "shared/ksharonin/gs-weather-warning/.git/refs/remotes/\n",
      "shared/ksharonin/gs-weather-warning/.git/refs/remotes/origin/\n",
      "shared/ksharonin/gs-weather-warning/.git/refs/tags/\n",
      "shared/ksharonin/gs-weather-warning/.ipynb_checkpoints/\n",
      "shared/ksharonin/gs-weather-warning/__pycache__/\n",
      "shared/ksharonin/temp-lambda-builds/\n",
      "shared/ksharonin/temp-lambda-builds/.ipynb_checkpoints/\n",
      "shared/ksharonin/temp-lambda-builds/fdfreports/\n",
      "True\n"
     ]
    },
    {
     "data": {
      "text/plain": [
       "False"
      ]
     },
     "execution_count": 8,
     "metadata": {},
     "output_type": "execute_result"
    }
   ],
   "source": [
    "s3_url = \"s3://maap-ops-workspace/shared/ksharonin/sample.txt\"\n",
    "\n",
    "\n",
    "# fetch s3 bucket and check if exists (not concerned w key since we will be making item)\n",
    "\n",
    "def __set_up_valid_maap_url(url):\n",
    "    \"\"\" given a maap-ops-workspace url, check if valid with naming + s3 access\"\"\"\n",
    "\n",
    "    s3_url = url\n",
    "\n",
    "    # try:\n",
    "    s3 = boto3.client('s3')\n",
    "    bucket, key, nested = Utilities.split_s3_path(s3_url)\n",
    "\n",
    "    if nested:\n",
    "        # iter and locate bucket\n",
    "        # List objects in the parent bucket with the specified prefix\n",
    "        assert len(bucket) == 2, \"FATAL: bucket + prefix design should only be len2\"\n",
    "        print(bucket[0])\n",
    "        print(bucket[1])\n",
    "        response = s3.list_objects_v2(Bucket=bucket[0], Prefix=bucket[1])\n",
    "\n",
    "        folders = set(object['Key'][:object['Key'].rfind('/')+1] for object in response['Contents'] if '/' in object['Key'])\n",
    "\n",
    "        # Print the results\n",
    "        print('\\n'.join(sorted(folders)))\n",
    "        print(bucket[1] in folders)\n",
    "    else:\n",
    "        obj = s3.Bucket(bucket)\n",
    "\n",
    "    \"\"\"\n",
    "    except NoCredentialsError:\n",
    "        print(\"AWS credentials not found. Please configure your AWS credentials.\")\n",
    "    except PartialCredentialsError:\n",
    "        print(\"Incomplete AWS credentials found.\")\n",
    "    except EndpointConnectionError:\n",
    "        print(\"Could not connect to the AWS endpoint. Please check your AWS configuration.\")\n",
    "    except Exception as e:\n",
    "        print(f\"Error: {str(e)}\") \"\"\"\n",
    "\n",
    "    return False\n",
    "\n",
    "__set_up_valid_maap_url(s3_url)"
   ]
  },
  {
   "cell_type": "markdown",
   "id": "ebc83385-329f-4fc9-bd21-02b507493c55",
   "metadata": {},
   "source": [
    "### assuming nifc object made from outline"
   ]
  },
  {
   "cell_type": "code",
   "execution_count": null,
   "id": "81e1a053-c08e-44fc-8419-1d4e0a117057",
   "metadata": {},
   "outputs": [],
   "source": [
    "# assuming nifc object made from outline\n",
    "\n",
    "ax = nifc_search.polygons.plot()\n",
    "ax.set_xlim(-122.887312, -122.601345)\n",
    "ax.set_ylim(38.560242, 38.813395)"
   ]
  }
 ],
 "metadata": {
  "kernelspec": {
   "display_name": "envs-feds",
   "language": "python",
   "name": "envs-feds"
  },
  "language_info": {
   "codemirror_mode": {
    "name": "ipython",
    "version": 3
   },
   "file_extension": ".py",
   "mimetype": "text/x-python",
   "name": "python",
   "nbconvert_exporter": "python",
   "pygments_lexer": "ipython3",
   "version": "3.10.6"
  }
 },
 "nbformat": 4,
 "nbformat_minor": 5
}
