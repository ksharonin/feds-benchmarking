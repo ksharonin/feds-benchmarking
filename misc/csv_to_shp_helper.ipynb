{
 "cells": [
  {
   "cell_type": "markdown",
   "id": "d1b44af5-c77a-426e-9843-51b4feafe052",
   "metadata": {},
   "source": [
    "# CSV to SHP Format\n",
    "\n",
    "Given csv, indicate geometry columns and use to generate output shp files"
   ]
  },
  {
   "cell_type": "code",
   "execution_count": 2,
   "id": "ffa06da8-a776-4d68-a0cd-c29eaf107c1a",
   "metadata": {
    "tags": []
   },
   "outputs": [
    {
     "name": "stderr",
     "output_type": "stream",
     "text": [
      "/tmp/ipykernel_147/3049238808.py:16: UserWarning: Column names longer than 10 characters will be truncated when saved to ESRI Shapefile.\n",
      "  df.to_file(output_path, driver='ESRI Shapefile')\n"
     ]
    }
   ],
   "source": [
    "import geopandas as gpd\n",
    "from shapely import wkt\n",
    "\n",
    "# set paths/vars\n",
    "input_path = '/projects/my-public-bucket/VEDA-PEC/results/2020_0301_to_0430_analysis.csv'\n",
    "input_geom_colum = 'feds_polygon'\n",
    "output_path = '/projects/my-public-bucket/VEDA-PEC/results/output_feds_shapefile.shp'\n",
    "\n",
    "# load to geodf\n",
    "df = gpd.read_file(input_path)\n",
    "\n",
    "# WWKT (Well-Known Text) format to Shapely geometries\n",
    "df['geometry'] = df[input_geom_colum].apply(wkt.loads)\n",
    "\n",
    "# GeoDataFrame to a shapefile\n",
    "df.to_file(output_path, driver='ESRI Shapefile')"
   ]
  }
 ],
 "metadata": {
  "kernelspec": {
   "display_name": "envs-feds",
   "language": "python",
   "name": "envs-feds"
  },
  "language_info": {
   "codemirror_mode": {
    "name": "ipython",
    "version": 3
   },
   "file_extension": ".py",
   "mimetype": "text/x-python",
   "name": "python",
   "nbconvert_exporter": "python",
   "pygments_lexer": "ipython3",
   "version": "3.10.6"
  }
 },
 "nbformat": 4,
 "nbformat_minor": 5
}
