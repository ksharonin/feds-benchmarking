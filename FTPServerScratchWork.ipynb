{
 "cells": [
  {
   "cell_type": "markdown",
   "id": "72bf8e12",
   "metadata": {},
   "source": [
    "## FTP Server Crawler Scratch Work Area\n",
    "\n",
    "- Use for basic debugging / visual checks\n",
    "- Not main crawler; see `py` scripts for functions/main"
   ]
  },
  {
   "cell_type": "code",
   "execution_count": 1,
   "id": "4fa27d96",
   "metadata": {},
   "outputs": [],
   "source": [
    "import osgeo\n",
    "import geopandas as gpd\n",
    "import pandas as pd\n",
    "import numpy as np\n",
    "import os\n",
    "import xarray as xr\n",
    "import rasterio\n",
    "import glob\n",
    "import shapely.speedups\n",
    "import warnings\n",
    "import folium\n",
    "import boto3\n",
    "import botocore\n",
    "\n",
    "from shapely.errors import ShapelyDeprecationWarning\n",
    "from shapely.geometry import Point\n",
    "from folium import plugins\n",
    "warnings.filterwarnings(\"ignore\", category=ShapelyDeprecationWarning) \n",
    "from datetime import datetime\n",
    "from tqdm import tqdm # add in progress watch\n",
    "from matplotlib import pyplot as plt\n",
    "from osgeo import ogr"
   ]
  },
  {
   "cell_type": "code",
   "execution_count": 18,
   "id": "0f73ae59",
   "metadata": {},
   "outputs": [
    {
     "name": "stdout",
     "output_type": "stream",
     "text": [
      "   OBJECTID                                           GACCName GACCUnitID  \\\n",
      "0         1            Southern California Coordination Center   USCAOSCC   \n",
      "1         2                 Southwest Area Coordination Center    USNMSWC   \n",
      "2         3                    Great Basin Coordination Center    USUTGBC   \n",
      "3         4            Rocky Mountain Area Coordination Center    USCORMC   \n",
      "4         5             Alaska Interagency Coordination Center    USAKACC   \n",
      "5         6          Northwest Interagency Coordination Center    USORNWC   \n",
      "6         7               Northern Rockies Coordination Center    USMTNRC   \n",
      "7         8  Northern California Geographic Area Coordinati...   USCAONCC   \n",
      "8         9                   Eastern Area Coordination Center   USWIEACC   \n",
      "9        10                  Southern Area Coordination Center    USGASAC   \n",
      "\n",
      "  GACCAbbrev                         GACCLocati  ContactPho  \\\n",
      "0       OSCC                      Riverside, CA  8009953473   \n",
      "1       SWCC                    Albuquerque, NM  8884404333   \n",
      "2       GBCC                 Salt Lake City, UT  8015315320   \n",
      "3       RMCC                       Lakewood, CO  8004942073   \n",
      "4       AICC  Fairbanks,AK (Fort Wainwright,AK)  9073565680   \n",
      "5       NWCC                       Portland, OR  5038082720   \n",
      "6       NRCC                       Missoula, MT  4063294880   \n",
      "7       ONCC                        Redding, CA  5302262801   \n",
      "8       EACC                      Milwaukee, WI  4149443811   \n",
      "9       SACC                        Atlanta, GA  8009599181   \n",
      "\n",
      "                                            Comments  DateCurren  \\\n",
      "0  Boundaries updated to 2019 Census state and co...  2023-03-23   \n",
      "1  Boundaries updated to 2019 Census state and co...  2021-03-24   \n",
      "2  Boundaries updated to 2019 Census state and co...  2022-09-26   \n",
      "3  Boundaries updated to 2019 Census state and co...  2020-02-26   \n",
      "4  Also dispatches Aleutian Islands; Boundaries u...  2022-01-03   \n",
      "5  Boundaries updated to 2019 Census state and co...  2020-02-26   \n",
      "6  Boundaries updated to 2019 Census state and co...  2020-02-26   \n",
      "7  Also dispatches Hawaii, Guam, Samoan Islands; ...  2020-02-26   \n",
      "8  Boundaries updated to 2019 Census state and co...  2020-02-26   \n",
      "9  Also dispatches Puerto Rico; Boundaries update...  2021-03-24   \n",
      "\n",
      "       MapMethod  COUNT_  SHAPE_Leng  SHAPE_Area  \\\n",
      "0   MixedMethods     6.0   34.362069   25.923006   \n",
      "1  Mixed Methods     9.0   55.190713   59.204085   \n",
      "2   MixedMethods     1.0   72.418736   73.681977   \n",
      "3   MixedMethods     1.0   70.954839  118.714817   \n",
      "4   MixedMethods    50.0  252.079468  314.105712   \n",
      "5   MixedMethods     1.0   35.784271   50.858148   \n",
      "6   MixedMethods     2.0   66.645482   74.530200   \n",
      "7   MixedMethods    36.0   61.029091   20.608360   \n",
      "8   MixedMethods     2.0  123.222529  208.803192   \n",
      "9  Mixed Methods    12.0  136.574796  221.903053   \n",
      "\n",
      "                                            geometry  \n",
      "0  MULTIPOLYGON (((-118.58583 33.53088, -118.5791...  \n",
      "1  MULTIPOLYGON (((-106.42362 31.89320, -106.4236...  \n",
      "2  POLYGON ((-118.46081 38.00980, -118.46081 38.0...  \n",
      "3  POLYGON ((-100.60021 46.42930, -100.59931 46.4...  \n",
      "4  MULTIPOLYGON (((177.36851 52.07239, 177.35520 ...  \n",
      "5  POLYGON ((-122.17237 49.00243, -122.16430 49.0...  \n",
      "6  MULTIPOLYGON (((-101.83904 45.61341, -101.8400...  \n",
      "7  MULTIPOLYGON (((146.08815 15.95296, 146.04444 ...  \n",
      "8  MULTIPOLYGON (((-71.58409 41.09635, -71.59351 ...  \n",
      "9  MULTIPOLYGON (((-104.74038 31.96112, -104.7404...  \n"
     ]
    }
   ],
   "source": [
    "# reduce to GACC region - intersect w/ boundaries\n",
    "pd.set_option('display.max_columns',None)\n",
    "\n",
    "gacc_path = '/projects/my-public-bucket/gaccRegions'\n",
    "gacc_boundaries = gpd.read_file(gacc_path)\n",
    "final_gacc_region = None\n",
    "\n",
    "print(gacc_boundaries)"
   ]
  },
  {
   "cell_type": "markdown",
   "id": "0470ced8",
   "metadata": {},
   "source": [
    "### To define mapping of GACC region, zip up ftp url search terms with identify zones\n",
    "\n",
    "['USCAOSCC', 'USNMSWC', 'USUTGBC', 'USCORMC', 'USAKACC', 'USORNWC', 'USMTNRC', 'USCAONCC', 'USWIEACC', 'USGASAC']\n",
    "- Mappings:\n",
    "(1) "
   ]
  },
  {
   "cell_type": "code",
   "execution_count": 19,
   "id": "26e96348",
   "metadata": {},
   "outputs": [
    {
     "name": "stdout",
     "output_type": "stream",
     "text": [
      "['OSCC', 'SWCC', 'GBCC', 'RMCC', 'AICC', 'NWCC', 'NRCC', 'ONCC', 'EACC', 'SACC']\n"
     ]
    }
   ],
   "source": [
    "# print gacc unit IDs\n",
    "gacc_keys = gacc_boundaries.GACCAbbrev.tolist()\n",
    "print(gacc_keys)\n",
    "# print(len(gacc_keys))\n",
    "random = ['me', 're', 'he', 'rfgre', 'fd', 'f', 'rf', 'gd', 'fed', 'fgd']\n",
    "# print(len(random))"
   ]
  },
  {
   "cell_type": "code",
   "execution_count": 21,
   "id": "51d45e9a",
   "metadata": {},
   "outputs": [
    {
     "name": "stdout",
     "output_type": "stream",
     "text": [
      "{'OSCC': 'me', 'SWCC': 're', 'GBCC': 'he', 'RMCC': 'rfgre', 'AICC': 'fd', 'NWCC': 'f', 'NRCC': 'rf', 'ONCC': 'gd', 'EACC': 'fed', 'SACC': 'fgd'}\n"
     ]
    }
   ],
   "source": [
    "# define mapping dictionary with zip \n",
    "dict_try = dict(zip(gacc_keys,random))\n",
    "print(dict_try)\n",
    "# check valid name line up\n",
    "ftp_names = [\"alaska\", \"calif_n\", \"calif_s\", \"eastern\", \"great_basin\", \"n_rockies\", \"pacific_nw\", \"rocky_mtn\", \"southern\", \"southwest\"]\n",
    "ftp_names_reordered = [\"calif_s\", \"southwest\", \"great_basin\", \"rocky_mtn\", \"alaska\", \"pacific_nw\", \"n_rockies\", \"calif_n\", \"eastern\", \"southern\"] \n",
    "assert ftp_names.sort() == ftp_names_reordered.sort(), \"Extra check if any spell errors occured\""
   ]
  },
  {
   "cell_type": "code",
   "execution_count": null,
   "id": "ae7a6331",
   "metadata": {},
   "outputs": [],
   "source": [
    "# overlay with williams sample for region\n"
   ]
  }
 ],
 "metadata": {
  "kernelspec": {
   "display_name": "envs-feds",
   "language": "python",
   "name": "envs-feds"
  },
  "language_info": {
   "codemirror_mode": {
    "name": "ipython",
    "version": 3
   },
   "file_extension": ".py",
   "mimetype": "text/x-python",
   "name": "python",
   "nbconvert_exporter": "python",
   "pygments_lexer": "ipython3",
   "version": "3.10.6"
  }
 },
 "nbformat": 4,
 "nbformat_minor": 5
}
