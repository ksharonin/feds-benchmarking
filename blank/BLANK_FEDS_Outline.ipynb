{
 "cells": [
  {
   "cell_type": "markdown",
   "id": "0016dae2-188f-4b16-981c-1dc9a895666f",
   "metadata": {},
   "source": [
    "# BLANK FEDS PEC (Polygon Evaluation and Comparison) Outline"
   ]
  },
  {
   "cell_type": "markdown",
   "id": "b4d39a19-4c1a-4df9-bc88-379bc9c72a05",
   "metadata": {},
   "source": [
    "### Summary\n",
    "\n",
    "This notebook is a blank starting point for users to use the PEC implementation. Refer to the `demo` directory for demonstrations on using the outline\n",
    "\n",
    "The FEDS input and reference input can use either a pre-defined setting or can accept (valid) user-written paths to shape files. \n",
    "- For Input all settings, please see **section INPUT SETTINGS of README.md**  \n",
    "- Output settings can also be modified to control if calculations are printed, plotted, and/or stored into a file (with location and file type of choice); for more detail on outputs please see **section OUTPUT SETTINGS of README.md**\n",
    "\n",
    "#### Debugging\n",
    "Should users encounter abnormal errors, users are encouraged to restart the kernel of the notebook and re-run blocks. \n",
    "\n",
    "#### Notes\n",
    "- FEDS perimeters are plotted as <span style='color:red'> **red** </span>\n",
    "- Reference perimeters are plotted as <span style='color:#B8860B'> **transparent hatch gold** </span>\n",
    "- Users may need to shorten query time intervals, as the FEDS API is limited to 9000 results per query. Should the limit be exceeded an error will be shown"
   ]
  },
  {
   "cell_type": "markdown",
   "id": "977d5478-884a-4193-9309-4910b1671b3b",
   "metadata": {},
   "source": [
    "### User Inputs for Comparison: time, bbox, FEDS set, reference set\n",
    "\n",
    "Note for inputs:\n",
    "\n",
    "FEDS Input: you must specify a valid title (e.g. firenrt) and collection (e.g. public.eis_fire_lf_perimeter_archive) according to documentation. Please see **section INPUT SETTINGS of README.md** for valid titles and corresponding collections\n",
    "\n",
    "Reference Input: See **section INPUT SETTINGS of README.md** for valid titles and corresponding collections"
   ]
  },
  {
   "cell_type": "code",
   "execution_count": null,
   "id": "c792e6c2-f738-403f-88eb-6c5eeecd21a2",
   "metadata": {
    "tags": []
   },
   "outputs": [],
   "source": [
    "import sys\n",
    "sys.path.append('../') # local path append\n",
    "\n",
    "import Utilities\n",
    "import Input_FEDS\n",
    "import Input_Reference\n",
    "import Output_Calculation\n",
    "\n",
    "from Input_FEDS import InputFEDS\n",
    "from Input_Reference import InputReference\n",
    "from Output_Calculation import OutputCalculation\n",
    "from Utilities import *"
   ]
  },
  {
   "cell_type": "code",
   "execution_count": null,
   "id": "7d5e7e8f-4d16-459e-b9b1-aec32a5a6b8d",
   "metadata": {},
   "outputs": [],
   "source": [
    "# this is the ONLY section users are intended to modify!\n",
    "# inputs for searching FEDS and nifc sets\n",
    "\n",
    "# START TIME\n",
    "year_start = ... # e.g. 2020\n",
    "month_start = ... # e.g. 7 \n",
    "day_start = ... # e.g. 1\n",
    "hour_start = ... # e.g. 0\n",
    "minute_start = ... # e.g. 0\n",
    "second_start = ... # e.g. 0\n",
    "tz_offset_hours_start = ... # e.g. 0\n",
    "tz_offset_minutes_start = ... # e.g. 0\n",
    "utc_offset_start = ... # e.g. '00:00'\n",
    "\n",
    "# END TIME\n",
    "year_stop = ... # e.g. 2020\n",
    "month_stop = ... # e.g. 8\n",
    "day_stop = ... # e.g. 30\n",
    "hour_stop = ... # e.g. 0\n",
    "minute_stop = ... # e.g. 0\n",
    "second_stop = ... # e.g. 0\n",
    "tz_offset_hours_stop = ... # e.g. 0\n",
    "tz_offset_minutes_stop = ... # e.g. 0\n",
    "utc_offset_stop = ... # e.g. '00:00'\n",
    "\n",
    "# CRS \n",
    "crs = ... # e.g. 3857\n",
    "\n",
    "# BBOX FOR SEARCH - [lon, lat, lon, lat]\n",
    "search_bbox = ... # e.g. [\"-125.0\", \"24.396308\", \"-66.93457\", \"49.384358\"] \n",
    "\n",
    "# DAY SEARCH RANGE- acceptable distance warning to search from feds -> reference (e.g. if reference polygon is 8 days away, output a warning)\n",
    "# note by default, any results not of the same year are eliminated\n",
    "day_search_range = ... # e.g. 7 \n",
    "\n",
    "# FEDS INPUT SETTINGS\n",
    "feds_title = ... # e.g.  \"firenrt\"\n",
    "feds_collection = ... # e.g. \"public.eis_fire_lf_perimeter_archive\"\n",
    "feds_access_type = ... # e.g. \"api\"\n",
    "feds_limit = ... # e.g. 9000 # amount of features to consider for FEDS API access; warning appears if it misses any entries\n",
    "feds_filter = ... # e.g. False\n",
    "feds_apply_finalfire = ... # e.g. True\n",
    "\n",
    "# REFERENCE INPUT SETTINGS \n",
    "ref_title = ... # e.g. \"Downloaded_InterAgencyFirePerimeterHistory_All_Years_View\"\n",
    "ref_control_type = ... # e.g. \"defined\" # or \"custom\"\n",
    "ref_custom_url = ... # e.g. \"none\"\n",
    "ref_custom_read_type = ... # e.g. \"none\"\n",
    "ref_filter = ... # e.g. False # False or a valid query\n",
    "\n",
    "# OUTPUT SETTINGS - User discretion advised for path functionality\n",
    "print_on = ... # e.g. True\n",
    "plot_on = ... # e.g. True\n",
    "name_for_output_file = ... # e.g. \"test_run\"\n",
    "output_format = ... # e.g. \"csv\"\n",
    "user_path = ... # e.g. \"/projects/my-public-bucket/VEDA-PEC/results\"\n",
    "output_maap_url = ... # e.g. f\"{user_path}/{name_for_output_file}.{output_format}\""
   ]
  },
  {
   "cell_type": "markdown",
   "id": "e4f11381-5d8e-42a0-af81-14368b1aa8a2",
   "metadata": {},
   "source": [
    "### Argument Processing: format and check to report any issues\n",
    "- Note: upon instance instantiation we can also get reports back of invalidity -> any warnings/errors should be addressed"
   ]
  },
  {
   "cell_type": "code",
   "execution_count": null,
   "id": "1322886e-5f51-4552-b428-40a6e797bacd",
   "metadata": {
    "tags": []
   },
   "outputs": [],
   "source": [
    "\n",
    "# start date formatting\n",
    "search_start = Utilities.format_datetime(year_start, \n",
    "                                         month_start, \n",
    "                                         day_start, \n",
    "                                         hour_start, \n",
    "                                         minute_start, \n",
    "                                         second_start, \n",
    "                                         tz_offset_hours_start, \n",
    "                                         tz_offset_minutes_start,\n",
    "                                         utc_offset_start)\n",
    "# stop date formatting\n",
    "search_stop = Utilities.format_datetime(year_stop, \n",
    "                                        month_stop, \n",
    "                                        day_stop, \n",
    "                                        hour_stop, \n",
    "                                        minute_stop, \n",
    "                                        second_stop, \n",
    "                                        tz_offset_hours_stop, \n",
    "                                        tz_offset_minutes_stop,\n",
    "                                        utc_offset_stop)\n",
    "\n",
    "# bound check the bbox\n",
    "assert Utilities.check_bbox(search_bbox), f\"ERR: passed bbox {search_bbox} is not valid; check bounds\"\n",
    "assert  Utilities.check_crs(crs), f\"ERR: invalid crs provided {crs}; please enter valid ESPG CRS number\""
   ]
  },
  {
   "cell_type": "markdown",
   "id": "55724f7b-8b88-41cb-a755-7b6401060831",
   "metadata": {
    "tags": []
   },
   "source": [
    "### Using Inputs: Instantiate Inputs + Calculation Output\n",
    "\n",
    "With our inputs, we are ready to start; run this to get the program to fetch the FEDS candidates in the provided time/location window, along with an intersecting reference in the specific day range"
   ]
  },
  {
   "cell_type": "code",
   "execution_count": null,
   "id": "2fa3c5a6-a37a-4913-b845-8e39b618e469",
   "metadata": {
    "tags": []
   },
   "outputs": [],
   "source": [
    "# create instances to track properties\n",
    "print('You may see an ERROR 1 occur; ignore this unless block throws actual exception...')\n",
    "\n",
    "feds_firenrt = InputFEDS(\n",
    "                 feds_title, \n",
    "                 feds_collection, \n",
    "                 search_start,\n",
    "                 search_stop,\n",
    "                 search_bbox,\n",
    "                 crs,\n",
    "                 feds_access_type,\n",
    "                 feds_limit,\n",
    "                 feds_filter,\n",
    "                 feds_apply_finalfire\n",
    "                )\n",
    "\n",
    "nifc_search = InputReference( \n",
    "                 search_start,\n",
    "                 search_stop,\n",
    "                 search_bbox,\n",
    "                 crs,\n",
    "                 ref_title,\n",
    "                 ref_control_type,\n",
    "                 ref_custom_url,\n",
    "                 ref_custom_read_type,\n",
    "                 ref_filter,\n",
    "                )\n",
    "\n",
    "my_output = OutputCalculation(\n",
    "                feds_firenrt,\n",
    "                nifc_search,\n",
    "                output_format, \n",
    "                output_maap_url,\n",
    "                day_search_range,\n",
    "                print_on,\n",
    "                plot_on\n",
    "                )"
   ]
  },
  {
   "cell_type": "markdown",
   "id": "010e990d-3c39-42d5-a0e8-bb4540bef9a2",
   "metadata": {
    "tags": []
   },
   "source": [
    "### Tif Analysis on Symmetric Difference Matches (Exceeding Areas of FEDS over Reference)\n",
    "\n",
    "This function built into the Output Class demonstrates research application uses of FEDS-PEC\n",
    "\n",
    "Given the output matches, give a tif path, calculations of interest, and optional time (in days) limit. This will return associated TIF values for the symmetric difference of FEDS over the reference (FEDS - reference)"
   ]
  },
  {
   "cell_type": "code",
   "execution_count": null,
   "id": "b981d506-38c6-4242-9a80-82b9b0a88885",
   "metadata": {
    "tags": []
   },
   "outputs": [],
   "source": [
    "# tif_path - replace with your own path\n",
    "tif_path = ... # e.g. \"/projects/my-public-bucket/tif_files/slopeLF/LC20_SlpD_220.tif\"\n",
    "\n",
    "# array of values returned as get_res\n",
    "get_res = my_output.tif_analysis(tif_path, \"MEDIAN\", 100)"
   ]
  },
  {
   "cell_type": "markdown",
   "id": "134fdd2d-2bc4-4d92-b25b-9991605dab0c",
   "metadata": {
    "tags": []
   },
   "source": [
    "### Export Polygons\n",
    "\n",
    "Provide a path along with polygons, and then call on the `export_polygons` method for your OutputCalculation object"
   ]
  },
  {
   "cell_type": "code",
   "execution_count": null,
   "id": "30ab55a2-0785-4c1c-ac0a-67788b5210e9",
   "metadata": {
    "tags": []
   },
   "outputs": [],
   "source": [
    "# name your file\n",
    "shp_file_name = ... # e.g. \"feds_used\"\n",
    "# resuses the same dir as the csv export \n",
    "output_shp_path = f\"{user_path}/{shp_file_name}.shp\"\n",
    "\n",
    "my_output.export_polygons(feds_firenrt.polygons, output_shp_path)"
   ]
  }
 ],
 "metadata": {
  "kernelspec": {
   "display_name": "envs-feds",
   "language": "python",
   "name": "envs-feds"
  },
  "language_info": {
   "codemirror_mode": {
    "name": "ipython",
    "version": 3
   },
   "file_extension": ".py",
   "mimetype": "text/x-python",
   "name": "python",
   "nbconvert_exporter": "python",
   "pygments_lexer": "ipython3",
   "version": "3.10.6"
  }
 },
 "nbformat": 4,
 "nbformat_minor": 5
}
