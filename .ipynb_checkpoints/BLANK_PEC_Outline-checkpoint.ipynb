{
 "cells": [
  {
   "cell_type": "markdown",
   "id": "0016dae2-188f-4b16-981c-1dc9a895666f",
   "metadata": {},
   "source": [
    "# BLANK VEDA PEC (Polygon Evaluation and Comparison) Outline"
   ]
  },
  {
   "cell_type": "markdown",
   "id": "b4d39a19-4c1a-4df9-bc88-379bc9c72a05",
   "metadata": {},
   "source": [
    "### Summary\n",
    "\n",
    "This notebook is a blank starting point for users to use the PEC implementation. Refer to `DEMO_PEC_Outline.ipynb` for a demonstration on how to use the outline"
   ]
  },
  {
   "cell_type": "markdown",
   "id": "977d5478-884a-4193-9309-4910b1671b3b",
   "metadata": {},
   "source": [
    "### User Inputs for Comparison: time, bbox, VEDA set, reference set\n",
    "\n",
    "Note for inputs:\n",
    "- VEDA Input: you must specify a valid title (e.g. firenrt) and collection (e.g. public.eis_fire_lf_perimeter_archive) [What is a veda input? Tell the user this before telling them to include a valid one]\n",
    "- Reference Input: as above you must specify a valid title and access method such that the proper methods are applied [again, what is a reference input? Also more helpful to list the valid access methods.]"
   ]
  },
  {
   "cell_type": "code",
   "execution_count": 1,
   "id": "c792e6c2-f738-403f-88eb-6c5eeecd21a2",
   "metadata": {
    "tags": []
   },
   "outputs": [],
   "source": [
    "#!pip install OWSLib==0.28.1 --quiet #NOTE: you build off of owslib, which is *not* part of the feds env by default. I think it's ok if you build in a pip install statement soemwhere\n",
    "import owslib\n",
    "import Utilities\n",
    "import Input_VEDA\n",
    "import Input_Reference\n",
    "import Output_Calculation\n",
    "\n",
    "from Input_VEDA import InputVEDA #[Change to InputFEDS]\n",
    "from Input_Reference import InputReference\n",
    "from Output_Calculation import OutputCalculation\n",
    "from Utilities import *\n",
    "\n",
    "\n"
   ]
  },
  {
   "cell_type": "code",
   "execution_count": 2,
   "id": "23155501-7cbd-44a7-a1a2-65180bc19537",
   "metadata": {
    "tags": []
   },
   "outputs": [],
   "source": [
    "# this is the ONLY thing users are intended to modify!\n",
    "# inputs for searching VEDA and nifc sets\n",
    "\n",
    "# START TIME\n",
    "year_start = ... # e.g. 2019\n",
    "month_start = ... # e.g. 10\n",
    "day_start = ... # e.g. 23\n",
    "hour_start = ... # e.g. 0\n",
    "minute_start = ... # e.g. 0\n",
    "second_start = ... # e.g. 0\n",
    "tz_offset_hours_start = ... # e.g. 0\n",
    "tz_offset_minutes_start = ... # e.g. 0\n",
    "utc_offset_start = ... # e.g. '00:00'\n",
    "\n",
    "# END TIME\n",
    "year_stop = ... # e.g. 2019\n",
    "month_stop = ... # e.g. 11\n",
    "day_stop = ... # e.g. 14\n",
    "hour_stop = ... # e.g. 0\n",
    "minute_stop = ... # e.g. 0\n",
    "second_stop = ... # e.g. 0\n",
    "tz_offset_hours_stop = ... # e.g. 0\n",
    "tz_offset_minutes_stop = ... # e.g. 0\n",
    "utc_offset_stop = ... # e.g. '00:00'\n",
    "\n",
    "# CRS - 4326 RECOMMENDED VEDA FIRE PERIM DEFAULT\n",
    "crs = ... # e.g. 3857\n",
    "\n",
    "# BBOX FOR SEARCH - [lon, lat, lon, lat]\n",
    "search_bbox = ... # e.g.  [\"-122.887312\", \"38.560242\", \"-122.601345\", \"38.813395\"] # kincade fire, 38.560242, -122.887312 left 38.813395, -122.601345 right\n",
    "\n",
    "\n",
    "# VEDA INPUT SETTINGS [Change to FEDS Input settings]\n",
    "veda_title = ... # e.g. \"firenrt\"\n",
    "veda_collection =  ... # e.g. \"public.eis_fire_lf_perimeter_archive\"\n",
    "veda_access_type = ... # e.g. \"api\" # or \"local\n",
    "veda_limit = ... # e.g. 1000 # amount of features to consider for VEDA API access; warning appears if it misses any entries\n",
    "veda_filter = ... # e.g. False # False or a valid query: e.g. \"farea>5 AND duration>2\"\n",
    "veda_apply_finalfire = ... # e.g. True # set this to true if you want the only the latest fireID to be taken per unique FireID\n",
    "\n",
    "# REFERENCE INPUT SETTINGS \n",
    "ref_title =... # e.g.  \"nifc_interagency_history_local\" # this is a predefined set example\n",
    "ref_control_type = ... # e.g. \"defined\" # or \"custom\"\n",
    "ref_custom_url = ... # e.g. \"none\" # not custom for demo\n",
    "ref_custom_read_type = ... # e.g. \"none\"  # not custom for demo\n",
    "ref_filter = ... # e.g. False # False or a valid query\n",
    "\n",
    "# OUTPUT SETTINGS\n",
    "maap_username = ... # e.g. \"ksharonin\" # per user, in order to store into user's own public bucket\n",
    "name_for_output_file = ... # e.g. f\"firenrt_vs_nifc_interagency_{year_start}_{search_bbox[0]}_{search_bbox[1]}_{search_bbox[2]}_{search_bbox[3]}\" # name for your file EXCLUDING PREFIX!\n",
    "output_format = ... # e.g. \"txt\" # prefix txt, json, others coming\n",
    "print_on = ... # e.g. True # print to jupyter nb\n",
    "plot_on = ... # e.g. False # display plot of comparison\n",
    "day_search_range = ... # e.g. 7 # acceptable distance to search from veda -> reference (e.g. if refernce polygon is 8 days away, it is not included in calculations)\n",
    "\n",
    "# TODO persistence\n",
    "# save_polygons_url = \"\" # save dump of polygon shapes vs numeric results\n",
    "# save_polygons = False # save polygons\n",
    "\n",
    "# NOTE: for now don't modify this, just showing you how url is contructed\n",
    "output_maap_url = ... # e.g. f\"s3://maap-ops-workspace/shared/{maap_username}/{name_for_output_file}.{output_format}\" # maap url to save; MUST BE MAAPS URL! (for now at least to make things simple"
   ]
  },
  {
   "cell_type": "markdown",
   "id": "e4f11381-5d8e-42a0-af81-14368b1aa8a2",
   "metadata": {},
   "source": [
    "### Argument Processing: format and check to report any issues\n",
    "- Note: upon instance instantiation we can also get reports back of invalidity -> any warnings/errors should be addressed"
   ]
  },
  {
   "cell_type": "code",
   "execution_count": null,
   "id": "1322886e-5f51-4552-b428-40a6e797bacd",
   "metadata": {
    "tags": []
   },
   "outputs": [],
   "source": [
    "\n",
    "# start date formatting\n",
    "search_start = Utilities.format_datetime(year_start, \n",
    "                                         month_start, \n",
    "                                         day_start, \n",
    "                                         hour_start, \n",
    "                                         minute_start, \n",
    "                                         second_start, \n",
    "                                         tz_offset_hours_start, \n",
    "                                         tz_offset_minutes_start,\n",
    "                                         utc_offset_start)\n",
    "# stop date formatting\n",
    "search_stop = Utilities.format_datetime(year_stop, \n",
    "                                        month_stop, \n",
    "                                        day_stop, \n",
    "                                        hour_stop, \n",
    "                                        minute_stop, \n",
    "                                        second_stop, \n",
    "                                        tz_offset_hours_stop, \n",
    "                                        tz_offset_minutes_stop,\n",
    "                                        utc_offset_stop)\n",
    "\n",
    "# bound check the bbox\n",
    "assert Utilities.check_bbox(search_bbox), f\"ERR: passed bbox {search_bbox} is not valid; check bounds\"\n",
    "assert  Utilities.check_crs(crs), f\"ERR: invalid crs provided {crs}; please enter valid ESPG CRS number\""
   ]
  },
  {
   "cell_type": "markdown",
   "id": "55724f7b-8b88-41cb-a755-7b6401060831",
   "metadata": {
    "tags": []
   },
   "source": [
    "### Using Inputs: Instantiate Inputs + Calculation Output\n",
    "\n",
    "With our inputs, we are ready to start; run this to get the program to fetch the VEDA candidates in the provided time/location window, along with an intersecting NIFC in the specific day range\n",
    "\n",
    "In this case, we get the latest object of VEDA in the kincade zone + its NIFC closest match, which is about 6 days away and heavily intersecting"
   ]
  },
  {
   "cell_type": "code",
   "execution_count": null,
   "id": "2fa3c5a6-a37a-4913-b845-8e39b618e469",
   "metadata": {
    "tags": []
   },
   "outputs": [],
   "source": [
    "# create instances to track properties\n",
    "print('You may see an ERROR 1 occur; ignore this unless block throws actual exception...')\n",
    "\n",
    "veda_firenrt = InputVEDA(\n",
    "                 veda_title, \n",
    "                 veda_collection, \n",
    "                 search_start,\n",
    "                 search_stop,\n",
    "                 search_bbox,\n",
    "                 crs,\n",
    "                 veda_access_type,\n",
    "                 veda_limit,\n",
    "                 veda_filter,\n",
    "                 veda_apply_finalfire\n",
    "                )\n",
    "\n",
    "nifc_search = InputReference( \n",
    "                 search_start,\n",
    "                 search_stop,\n",
    "                 search_bbox,\n",
    "                 crs,\n",
    "                 ref_title,\n",
    "                 ref_control_type,\n",
    "                 ref_custom_url,\n",
    "                 ref_custom_read_type,\n",
    "                 ref_filter,\n",
    "                )\n",
    "\n",
    "my_output = OutputCalculation(\n",
    "                veda_firenrt,\n",
    "                nifc_search,\n",
    "                output_format, \n",
    "                output_maap_url,\n",
    "                day_search_range,\n",
    "                print_on,\n",
    "                plot_on\n",
    "                )"
   ]
  },
  {
   "cell_type": "markdown",
   "id": "a2561df1-581b-4e39-9d67-3401875708f7",
   "metadata": {},
   "source": [
    "### Visualize/Print Results\n",
    "\n",
    "As noted above, this plotting will be moved into the classes. For now, it is demonstrating the same functionality it will have in the future. Used returned indices printed out before to plot and visualize"
   ]
  },
  {
   "cell_type": "code",
   "execution_count": null,
   "id": "76784bf5-4555-485a-9b17-5abb6e2252a0",
   "metadata": {},
   "outputs": [],
   "source": [
    "veda_kincade = veda_firenrt.polygons[veda_firenrt.polygons['index'] == 41] # <-- thats the index in (41, 11287)! \n",
    "veda_kincade.head()"
   ]
  },
  {
   "cell_type": "code",
   "execution_count": null,
   "id": "0bf69c80-d9f1-474d-b7cd-b26c28c31186",
   "metadata": {
    "tags": []
   },
   "outputs": [],
   "source": [
    "nifc_match = nifc_search.polygons[nifc_search.polygons['index'] == 11287] # <-- thats the index in (41, 11287)! \n",
    "nifc_match.head()"
   ]
  },
  {
   "cell_type": "code",
   "execution_count": null,
   "id": "f98666e2-a190-49db-afd9-e8b0a8ea000a",
   "metadata": {},
   "outputs": [],
   "source": [
    "# for debugging purposes this is here\n",
    "\n",
    "import matplotlib.pyplot as plt\n",
    "\n",
    "fig, ax = plt.subplots(figsize=(15, 15))\n",
    "\n",
    "# bound box as defined by us\n",
    "ax.set_xlim(-122.887312, -122.601345)\n",
    "ax.set_ylim(38.560242, 38.813395)\n",
    "\n",
    "# veda_kincade.t.values[0]\n",
    "\n",
    "# plot search results/what calculation is pulling from\n",
    "v = veda_kincade.plot(ax=ax, legend=True, label=\"VEDA Kincade Fire Estimate\", color=\"blue\",edgecolor=\"black\", linewidth=0.5 )\n",
    "n = nifc_match.plot(ax=ax, legend=True, label=\"NIFC Nearest Date + Intersection\", color=\"gold\", edgecolor=\"black\", linewidth=0.5, alpha=0.7)\n",
    "\n",
    "\n",
    "ax.set_title(\"VEDA in Kincade Region vs NIFC Polygon with closest date + touch\")\n",
    "ax.set_xlabel(\"Longitude\")\n",
    "ax.set_ylabel(\"Latitude\")\n",
    "plt.show()\n"
   ]
  }
 ],
 "metadata": {
  "kernelspec": {
   "display_name": "Python env-feds-ows",
   "language": "python",
   "name": "env-feds-ows"
  },
  "language_info": {
   "codemirror_mode": {
    "name": "ipython",
    "version": 3
   },
   "file_extension": ".py",
   "mimetype": "text/x-python",
   "name": "python",
   "nbconvert_exporter": "python",
   "pygments_lexer": "ipython3",
   "version": "3.10.6"
  }
 },
 "nbformat": 4,
 "nbformat_minor": 5
}
