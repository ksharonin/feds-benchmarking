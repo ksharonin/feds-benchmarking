{
 "cells": [
  {
   "cell_type": "markdown",
   "id": "05bd4b93",
   "metadata": {},
   "source": [
    "## FTP Server Crawler Scratch Work Area\n",
    "\n",
    "- Use for basic debugging / visual checks\n",
    "- Not main crawler; see `py` scripts for functions/main"
   ]
  },
  {
   "cell_type": "code",
   "execution_count": 1,
   "id": "8d605f47",
   "metadata": {},
   "outputs": [],
   "source": [
    "import osgeo\n",
    "import geopandas as gpd\n",
    "import pandas as pd\n",
    "import numpy as np\n",
    "import os\n",
    "import xarray as xr\n",
    "import rasterio\n",
    "import glob\n",
    "import shapely.speedups\n",
    "import warnings\n",
    "import folium\n",
    "import boto3\n",
    "import botocore\n",
    "\n",
    "from shapely.errors import ShapelyDeprecationWarning\n",
    "from shapely.geometry import Point\n",
    "from folium import plugins\n",
    "warnings.filterwarnings(\"ignore\", category=ShapelyDeprecationWarning) \n",
    "from datetime import datetime\n",
    "from tqdm import tqdm # add in progress watch\n",
    "from matplotlib import pyplot as plt\n",
    "from osgeo import ogr"
   ]
  },
  {
   "cell_type": "code",
   "execution_count": 18,
   "id": "da10cfde",
   "metadata": {},
   "outputs": [
    {
     "name": "stdout",
     "output_type": "stream",
     "text": [
      "   OBJECTID                                           GACCName GACCUnitID  \\\n",
      "0         1            Southern California Coordination Center   USCAOSCC   \n",
      "1         2                 Southwest Area Coordination Center    USNMSWC   \n",
      "2         3                    Great Basin Coordination Center    USUTGBC   \n",
      "3         4            Rocky Mountain Area Coordination Center    USCORMC   \n",
      "4         5             Alaska Interagency Coordination Center    USAKACC   \n",
      "5         6          Northwest Interagency Coordination Center    USORNWC   \n",
      "6         7               Northern Rockies Coordination Center    USMTNRC   \n",
      "7         8  Northern California Geographic Area Coordinati...   USCAONCC   \n",
      "8         9                   Eastern Area Coordination Center   USWIEACC   \n",
      "9        10                  Southern Area Coordination Center    USGASAC   \n",
      "\n",
      "  GACCAbbrev                         GACCLocati  ContactPho  \\\n",
      "0       OSCC                      Riverside, CA  8009953473   \n",
      "1       SWCC                    Albuquerque, NM  8884404333   \n",
      "2       GBCC                 Salt Lake City, UT  8015315320   \n",
      "3       RMCC                       Lakewood, CO  8004942073   \n",
      "4       AICC  Fairbanks,AK (Fort Wainwright,AK)  9073565680   \n",
      "5       NWCC                       Portland, OR  5038082720   \n",
      "6       NRCC                       Missoula, MT  4063294880   \n",
      "7       ONCC                        Redding, CA  5302262801   \n",
      "8       EACC                      Milwaukee, WI  4149443811   \n",
      "9       SACC                        Atlanta, GA  8009599181   \n",
      "\n",
      "                                            Comments  DateCurren  \\\n",
      "0  Boundaries updated to 2019 Census state and co...  2023-03-23   \n",
      "1  Boundaries updated to 2019 Census state and co...  2021-03-24   \n",
      "2  Boundaries updated to 2019 Census state and co...  2022-09-26   \n",
      "3  Boundaries updated to 2019 Census state and co...  2020-02-26   \n",
      "4  Also dispatches Aleutian Islands; Boundaries u...  2022-01-03   \n",
      "5  Boundaries updated to 2019 Census state and co...  2020-02-26   \n",
      "6  Boundaries updated to 2019 Census state and co...  2020-02-26   \n",
      "7  Also dispatches Hawaii, Guam, Samoan Islands; ...  2020-02-26   \n",
      "8  Boundaries updated to 2019 Census state and co...  2020-02-26   \n",
      "9  Also dispatches Puerto Rico; Boundaries update...  2021-03-24   \n",
      "\n",
      "       MapMethod  COUNT_  SHAPE_Leng  SHAPE_Area  \\\n",
      "0   MixedMethods     6.0   34.362069   25.923006   \n",
      "1  Mixed Methods     9.0   55.190713   59.204085   \n",
      "2   MixedMethods     1.0   72.418736   73.681977   \n",
      "3   MixedMethods     1.0   70.954839  118.714817   \n",
      "4   MixedMethods    50.0  252.079468  314.105712   \n",
      "5   MixedMethods     1.0   35.784271   50.858148   \n",
      "6   MixedMethods     2.0   66.645482   74.530200   \n",
      "7   MixedMethods    36.0   61.029091   20.608360   \n",
      "8   MixedMethods     2.0  123.222529  208.803192   \n",
      "9  Mixed Methods    12.0  136.574796  221.903053   \n",
      "\n",
      "                                            geometry  \n",
      "0  MULTIPOLYGON (((-118.58583 33.53088, -118.5791...  \n",
      "1  MULTIPOLYGON (((-106.42362 31.89320, -106.4236...  \n",
      "2  POLYGON ((-118.46081 38.00980, -118.46081 38.0...  \n",
      "3  POLYGON ((-100.60021 46.42930, -100.59931 46.4...  \n",
      "4  MULTIPOLYGON (((177.36851 52.07239, 177.35520 ...  \n",
      "5  POLYGON ((-122.17237 49.00243, -122.16430 49.0...  \n",
      "6  MULTIPOLYGON (((-101.83904 45.61341, -101.8400...  \n",
      "7  MULTIPOLYGON (((146.08815 15.95296, 146.04444 ...  \n",
      "8  MULTIPOLYGON (((-71.58409 41.09635, -71.59351 ...  \n",
      "9  MULTIPOLYGON (((-104.74038 31.96112, -104.7404...  \n"
     ]
    }
   ],
   "source": [
    "# reduce to GACC region - intersect w/ boundaries\n",
    "pd.set_option('display.max_columns',None)\n",
    "\n",
    "gacc_path = '/projects/my-public-bucket/gaccRegions'\n",
    "gacc_boundaries = gpd.read_file(gacc_path)\n",
    "final_gacc_region = None\n",
    "\n",
    "print(gacc_boundaries)"
   ]
  },
  {
   "cell_type": "markdown",
   "id": "f83e677a",
   "metadata": {},
   "source": [
    "### To define mapping of GACC region, zip up ftp url search terms with identify zones\n",
    "\n",
    "['USCAOSCC', 'USNMSWC', 'USUTGBC', 'USCORMC', 'USAKACC', 'USORNWC', 'USMTNRC', 'USCAONCC', 'USWIEACC', 'USGASAC']\n",
    "- Mappings:\n",
    "(1) "
   ]
  },
  {
   "cell_type": "code",
   "execution_count": 19,
   "id": "b28a2ab3",
   "metadata": {},
   "outputs": [
    {
     "name": "stdout",
     "output_type": "stream",
     "text": [
      "['OSCC', 'SWCC', 'GBCC', 'RMCC', 'AICC', 'NWCC', 'NRCC', 'ONCC', 'EACC', 'SACC']\n"
     ]
    }
   ],
   "source": [
    "# print gacc unit IDs\n",
    "gacc_keys = gacc_boundaries.GACCAbbrev.tolist()\n",
    "print(gacc_keys)\n",
    "# print(len(gacc_keys))\n",
    "random = ['me', 're', 'he', 'rfgre', 'fd', 'f', 'rf', 'gd', 'fed', 'fgd']\n",
    "# print(len(random))"
   ]
  },
  {
   "cell_type": "code",
   "execution_count": 21,
   "id": "9171c9cb",
   "metadata": {},
   "outputs": [
    {
     "name": "stdout",
     "output_type": "stream",
     "text": [
      "{'OSCC': 'me', 'SWCC': 're', 'GBCC': 'he', 'RMCC': 'rfgre', 'AICC': 'fd', 'NWCC': 'f', 'NRCC': 'rf', 'ONCC': 'gd', 'EACC': 'fed', 'SACC': 'fgd'}\n"
     ]
    }
   ],
   "source": [
    "# define mapping dictionary with zip \n",
    "dict_try = dict(zip(gacc_keys,random))\n",
    "print(dict_try)\n",
    "# check valid name line up\n",
    "ftp_names = [\"alaska\", \"calif_n\", \"calif_s\", \"eastern\", \"great_basin\", \"n_rockies\", \"pacific_nw\", \"rocky_mtn\", \"southern\", \"southwest\"]\n",
    "ftp_names_reordered = [\"calif_s\", \"southwest\", \"great_basin\", \"rocky_mtn\", \"alaska\", \"pacific_nw\", \"n_rockies\", \"calif_n\", \"eastern\", \"southern\"] \n",
    "assert ftp_names.sort() == ftp_names_reordered.sort(), \"Extra check if any spell errors occured\""
   ]
  },
  {
   "cell_type": "markdown",
   "id": "ae637828",
   "metadata": {},
   "source": [
    "### Extract sample files to intersect with NIFC \n",
    "- Make sure CRS matching / force espg 9311"
   ]
  },
  {
   "cell_type": "code",
   "execution_count": 25,
   "id": "3fedb999",
   "metadata": {},
   "outputs": [
    {
     "data": {
      "text/html": [
       "<div>\n",
       "<style scoped>\n",
       "    .dataframe tbody tr th:only-of-type {\n",
       "        vertical-align: middle;\n",
       "    }\n",
       "\n",
       "    .dataframe tbody tr th {\n",
       "        vertical-align: top;\n",
       "    }\n",
       "\n",
       "    .dataframe thead th {\n",
       "        text-align: right;\n",
       "    }\n",
       "</style>\n",
       "<table border=\"1\" class=\"dataframe\">\n",
       "  <thead>\n",
       "    <tr style=\"text-align: right;\">\n",
       "      <th></th>\n",
       "      <th>t</th>\n",
       "      <th>id</th>\n",
       "      <th>frp_max</th>\n",
       "      <th>frp_median</th>\n",
       "      <th>frp_mean</th>\n",
       "      <th>pixel_count</th>\n",
       "      <th>frp_sum</th>\n",
       "      <th>unique_periods</th>\n",
       "      <th>date_min</th>\n",
       "      <th>date_max</th>\n",
       "      <th>FireID</th>\n",
       "      <th>Name</th>\n",
       "      <th>Type</th>\n",
       "      <th>date_range_h</th>\n",
       "      <th>area</th>\n",
       "      <th>evt_mode</th>\n",
       "      <th>bs_mean</th>\n",
       "      <th>bs_median</th>\n",
       "      <th>EVT_SBCLS</th>\n",
       "      <th>EVT_PHYS</th>\n",
       "      <th>EVT_LF</th>\n",
       "      <th>EVT_ORDER</th>\n",
       "      <th>EVT_CLASS</th>\n",
       "      <th>geometry</th>\n",
       "    </tr>\n",
       "  </thead>\n",
       "  <tbody>\n",
       "    <tr>\n",
       "      <th>6896</th>\n",
       "      <td>2015-08-23 12:00:00</td>\n",
       "      <td>0</td>\n",
       "      <td>82.64</td>\n",
       "      <td>3.865</td>\n",
       "      <td>16.886667</td>\n",
       "      <td>6.0</td>\n",
       "      <td>101.32</td>\n",
       "      <td>5.0</td>\n",
       "      <td>2015-08-23 12:00:00</td>\n",
       "      <td>2015-08-25 12:00:00</td>\n",
       "      <td>F10859</td>\n",
       "      <td>BOULDER</td>\n",
       "      <td>Wildfire</td>\n",
       "      <td>48.0</td>\n",
       "      <td>0.110267</td>\n",
       "      <td>3056.0</td>\n",
       "      <td>2.409836</td>\n",
       "      <td>2.0</td>\n",
       "      <td>Evergreen closed tree canopy</td>\n",
       "      <td>Conifer</td>\n",
       "      <td>Tree</td>\n",
       "      <td>Tree-dominated</td>\n",
       "      <td>Closed tree canopy</td>\n",
       "      <td>POLYGON ((-114.71573 46.66116, -114.71570 46.6...</td>\n",
       "    </tr>\n",
       "    <tr>\n",
       "      <th>6895</th>\n",
       "      <td>2015-08-24 00:00:00</td>\n",
       "      <td>1</td>\n",
       "      <td>75.36</td>\n",
       "      <td>3.865</td>\n",
       "      <td>14.151875</td>\n",
       "      <td>16.0</td>\n",
       "      <td>226.43</td>\n",
       "      <td>5.0</td>\n",
       "      <td>2015-08-24 00:00:00</td>\n",
       "      <td>2015-08-26 12:00:00</td>\n",
       "      <td>F10859</td>\n",
       "      <td>BOULDER</td>\n",
       "      <td>Wildfire</td>\n",
       "      <td>60.0</td>\n",
       "      <td>0.516564</td>\n",
       "      <td>3056.0</td>\n",
       "      <td>3.139373</td>\n",
       "      <td>3.0</td>\n",
       "      <td>Evergreen closed tree canopy</td>\n",
       "      <td>Conifer</td>\n",
       "      <td>Tree</td>\n",
       "      <td>Tree-dominated</td>\n",
       "      <td>Closed tree canopy</td>\n",
       "      <td>POLYGON ((-114.72180 46.65922, -114.72202 46.6...</td>\n",
       "    </tr>\n",
       "    <tr>\n",
       "      <th>6894</th>\n",
       "      <td>2015-08-24 12:00:00</td>\n",
       "      <td>2</td>\n",
       "      <td>82.64</td>\n",
       "      <td>8.150</td>\n",
       "      <td>24.958333</td>\n",
       "      <td>42.0</td>\n",
       "      <td>1048.25</td>\n",
       "      <td>6.0</td>\n",
       "      <td>2015-08-24 12:00:00</td>\n",
       "      <td>2015-08-27 00:00:00</td>\n",
       "      <td>F10859</td>\n",
       "      <td>BOULDER</td>\n",
       "      <td>Wildfire</td>\n",
       "      <td>60.0</td>\n",
       "      <td>1.823186</td>\n",
       "      <td>3056.0</td>\n",
       "      <td>3.351053</td>\n",
       "      <td>3.0</td>\n",
       "      <td>Evergreen closed tree canopy</td>\n",
       "      <td>Conifer</td>\n",
       "      <td>Tree</td>\n",
       "      <td>Tree-dominated</td>\n",
       "      <td>Closed tree canopy</td>\n",
       "      <td>POLYGON ((-114.72552 46.65877, -114.72567 46.6...</td>\n",
       "    </tr>\n",
       "    <tr>\n",
       "      <th>6893</th>\n",
       "      <td>2015-08-25 00:00:00</td>\n",
       "      <td>3</td>\n",
       "      <td>20.01</td>\n",
       "      <td>2.015</td>\n",
       "      <td>4.158000</td>\n",
       "      <td>10.0</td>\n",
       "      <td>41.58</td>\n",
       "      <td>3.0</td>\n",
       "      <td>2015-08-25 00:00:00</td>\n",
       "      <td>2015-08-26 00:00:00</td>\n",
       "      <td>F10859</td>\n",
       "      <td>BOULDER</td>\n",
       "      <td>Wildfire</td>\n",
       "      <td>24.0</td>\n",
       "      <td>0.295487</td>\n",
       "      <td>3056.0</td>\n",
       "      <td>3.583082</td>\n",
       "      <td>4.0</td>\n",
       "      <td>Evergreen closed tree canopy</td>\n",
       "      <td>Conifer</td>\n",
       "      <td>Tree</td>\n",
       "      <td>Tree-dominated</td>\n",
       "      <td>Closed tree canopy</td>\n",
       "      <td>POLYGON ((-114.71488 46.67138, -114.71241 46.6...</td>\n",
       "    </tr>\n",
       "    <tr>\n",
       "      <th>6892</th>\n",
       "      <td>2015-08-25 00:00:00</td>\n",
       "      <td>6</td>\n",
       "      <td>1.24</td>\n",
       "      <td>1.240</td>\n",
       "      <td>1.240000</td>\n",
       "      <td>1.0</td>\n",
       "      <td>1.24</td>\n",
       "      <td>1.0</td>\n",
       "      <td>2015-08-27 00:00:00</td>\n",
       "      <td>2015-08-27 00:00:00</td>\n",
       "      <td>F10859</td>\n",
       "      <td>BOULDER</td>\n",
       "      <td>Wildfire</td>\n",
       "      <td>0.0</td>\n",
       "      <td>0.005869</td>\n",
       "      <td>3056.0</td>\n",
       "      <td>3.000000</td>\n",
       "      <td>3.0</td>\n",
       "      <td>Evergreen closed tree canopy</td>\n",
       "      <td>Conifer</td>\n",
       "      <td>Tree</td>\n",
       "      <td>Tree-dominated</td>\n",
       "      <td>Closed tree canopy</td>\n",
       "      <td>POLYGON ((-114.70576 46.65923, -114.70583 46.6...</td>\n",
       "    </tr>\n",
       "  </tbody>\n",
       "</table>\n",
       "</div>"
      ],
      "text/plain": [
       "                       t  id  frp_max  frp_median   frp_mean  pixel_count  \\\n",
       "6896 2015-08-23 12:00:00   0    82.64       3.865  16.886667          6.0   \n",
       "6895 2015-08-24 00:00:00   1    75.36       3.865  14.151875         16.0   \n",
       "6894 2015-08-24 12:00:00   2    82.64       8.150  24.958333         42.0   \n",
       "6893 2015-08-25 00:00:00   3    20.01       2.015   4.158000         10.0   \n",
       "6892 2015-08-25 00:00:00   6     1.24       1.240   1.240000          1.0   \n",
       "\n",
       "      frp_sum  unique_periods            date_min            date_max  FireID  \\\n",
       "6896   101.32             5.0 2015-08-23 12:00:00 2015-08-25 12:00:00  F10859   \n",
       "6895   226.43             5.0 2015-08-24 00:00:00 2015-08-26 12:00:00  F10859   \n",
       "6894  1048.25             6.0 2015-08-24 12:00:00 2015-08-27 00:00:00  F10859   \n",
       "6893    41.58             3.0 2015-08-25 00:00:00 2015-08-26 00:00:00  F10859   \n",
       "6892     1.24             1.0 2015-08-27 00:00:00 2015-08-27 00:00:00  F10859   \n",
       "\n",
       "         Name      Type  date_range_h      area  evt_mode   bs_mean  \\\n",
       "6896  BOULDER  Wildfire          48.0  0.110267    3056.0  2.409836   \n",
       "6895  BOULDER  Wildfire          60.0  0.516564    3056.0  3.139373   \n",
       "6894  BOULDER  Wildfire          60.0  1.823186    3056.0  3.351053   \n",
       "6893  BOULDER  Wildfire          24.0  0.295487    3056.0  3.583082   \n",
       "6892  BOULDER  Wildfire           0.0  0.005869    3056.0  3.000000   \n",
       "\n",
       "      bs_median                     EVT_SBCLS EVT_PHYS EVT_LF       EVT_ORDER  \\\n",
       "6896        2.0  Evergreen closed tree canopy  Conifer   Tree  Tree-dominated   \n",
       "6895        3.0  Evergreen closed tree canopy  Conifer   Tree  Tree-dominated   \n",
       "6894        3.0  Evergreen closed tree canopy  Conifer   Tree  Tree-dominated   \n",
       "6893        4.0  Evergreen closed tree canopy  Conifer   Tree  Tree-dominated   \n",
       "6892        3.0  Evergreen closed tree canopy  Conifer   Tree  Tree-dominated   \n",
       "\n",
       "               EVT_CLASS                                           geometry  \n",
       "6896  Closed tree canopy  POLYGON ((-114.71573 46.66116, -114.71570 46.6...  \n",
       "6895  Closed tree canopy  POLYGON ((-114.72180 46.65922, -114.72202 46.6...  \n",
       "6894  Closed tree canopy  POLYGON ((-114.72552 46.65877, -114.72567 46.6...  \n",
       "6893  Closed tree canopy  POLYGON ((-114.71488 46.67138, -114.71241 46.6...  \n",
       "6892  Closed tree canopy  POLYGON ((-114.70576 46.65923, -114.70583 46.6...  "
      ]
     },
     "execution_count": 25,
     "metadata": {},
     "output_type": "execute_result"
    }
   ],
   "source": [
    "# overlay with williams sample for region\n",
    "# load in data for comparison \n",
    "files = glob.glob(\"/projects/shared-buckets/ashiklom/WesternUS/files_for_paper/*_.geojson\")\n",
    "data_all = pd.concat([gpd.read_file(file) for file in files],ignore_index=True)\n",
    "\n",
    "geojson_use = True\n",
    "ascending = True\n",
    "default_crs = 'epsg:9311'\n",
    "\n",
    "geojson_keyword = 'BOULDER' # 'WILLIAMS FLATS' \n",
    "all_names = data_all['Name'].tolist()\n",
    "assert geojson_keyword in all_names, \"Selected geojson_keyword not in GeoJson, check constants.\"\n",
    "# read geojson\n",
    "gdf = data_all[data_all['Name']==geojson_keyword].copy()\n",
    "gdf = gdf.sort_values(by='t',ascending=ascending)\n",
    "\n",
    "gdf.head()"
   ]
  },
  {
   "cell_type": "code",
   "execution_count": 26,
   "id": "81072307",
   "metadata": {},
   "outputs": [
    {
     "data": {
      "text/plain": [
       "<Geographic 2D CRS: EPSG:4326>\n",
       "Name: WGS 84\n",
       "Axis Info [ellipsoidal]:\n",
       "- Lat[north]: Geodetic latitude (degree)\n",
       "- Lon[east]: Geodetic longitude (degree)\n",
       "Area of Use:\n",
       "- name: World.\n",
       "- bounds: (-180.0, -90.0, 180.0, 90.0)\n",
       "Datum: World Geodetic System 1984 ensemble\n",
       "- Ellipsoid: WGS 84\n",
       "- Prime Meridian: Greenwich"
      ]
     },
     "execution_count": 26,
     "metadata": {},
     "output_type": "execute_result"
    }
   ],
   "source": [
    "gdf.crs"
   ]
  },
  {
   "cell_type": "code",
   "execution_count": 27,
   "id": "7e978ec1",
   "metadata": {},
   "outputs": [
    {
     "data": {
      "text/plain": [
       "<Geographic 2D CRS: EPSG:4326>\n",
       "Name: WGS 84\n",
       "Axis Info [ellipsoidal]:\n",
       "- Lat[north]: Geodetic latitude (degree)\n",
       "- Lon[east]: Geodetic longitude (degree)\n",
       "Area of Use:\n",
       "- name: World.\n",
       "- bounds: (-180.0, -90.0, 180.0, 90.0)\n",
       "Datum: World Geodetic System 1984 ensemble\n",
       "- Ellipsoid: WGS 84\n",
       "- Prime Meridian: Greenwich"
      ]
     },
     "execution_count": 27,
     "metadata": {},
     "output_type": "execute_result"
    }
   ],
   "source": [
    "gacc_boundaries.crs"
   ]
  },
  {
   "cell_type": "code",
   "execution_count": 33,
   "id": "fb5b3eeb",
   "metadata": {},
   "outputs": [],
   "source": [
    "assert gacc_boundaries.crs == gdf.crs, \"mismatch crs\""
   ]
  },
  {
   "cell_type": "code",
   "execution_count": 30,
   "id": "c651df17",
   "metadata": {},
   "outputs": [
    {
     "name": "stdout",
     "output_type": "stream",
     "text": [
      "<class 'geopandas.geoseries.GeoSeries'>\n"
     ]
    }
   ],
   "source": [
    "gdf.crs.axis_info[0].unit_name # only issue is degree \n",
    "print(type(gdf.geometry))"
   ]
  },
  {
   "cell_type": "code",
   "execution_count": 34,
   "id": "a1e1d4fc",
   "metadata": {},
   "outputs": [
    {
     "name": "stdout",
     "output_type": "stream",
     "text": [
      "0       False\n",
      "1       False\n",
      "2       False\n",
      "3       False\n",
      "4       False\n",
      "5       False\n",
      "6       False\n",
      "7       False\n",
      "8       False\n",
      "9       False\n",
      "6876    False\n",
      "6877    False\n",
      "6878    False\n",
      "6879    False\n",
      "6880    False\n",
      "6881    False\n",
      "6882    False\n",
      "6883    False\n",
      "6884    False\n",
      "6885    False\n",
      "6886    False\n",
      "6887    False\n",
      "6888    False\n",
      "6889    False\n",
      "6890    False\n",
      "6891    False\n",
      "6892    False\n",
      "6893    False\n",
      "6894    False\n",
      "6895    False\n",
      "6896    False\n",
      "dtype: bool\n"
     ]
    }
   ],
   "source": [
    "# try intersect performance \n",
    "boll_results = gdf.geometry.intersects(gacc_boundaries.geometry)\n",
    "opp_results = gacc_boundaries.geometry.intersects(gdf.geometry)\n",
    "# print(boll_results)\n",
    "print(opp_results)"
   ]
  },
  {
   "cell_type": "code",
   "execution_count": null,
   "id": "924899cc",
   "metadata": {},
   "outputs": [],
   "source": [
    "# plot on same axis "
   ]
  }
 ],
 "metadata": {
  "kernelspec": {
   "display_name": "envs-feds",
   "language": "python",
   "name": "envs-feds"
  },
  "language_info": {
   "codemirror_mode": {
    "name": "ipython",
    "version": 3
   },
   "file_extension": ".py",
   "mimetype": "text/x-python",
   "name": "python",
   "nbconvert_exporter": "python",
   "pygments_lexer": "ipython3",
   "version": "3.10.6"
  }
 },
 "nbformat": 4,
 "nbformat_minor": 5
}
