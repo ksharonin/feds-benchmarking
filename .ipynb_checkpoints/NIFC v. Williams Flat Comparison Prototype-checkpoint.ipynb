{
 "cells": [
  {
   "cell_type": "markdown",
   "id": "f386a56f",
   "metadata": {},
   "source": [
    "# NIFC v. Williams Flat Comparison Prototype - Final Perims Only*\n",
    "** NIFC inconsistent labelings makes it difficult to confirm final state (as seen by Williams elimination); instead may be best to opt to iterating through all evolutions and finding matches (or closest ones with a verbose warning)**\n",
    "\n",
    "Workflow:\n",
    "- Download NIFC perimeter set\n",
    "- sync w/ s3 to access for DPS\n",
    "- Clean/query set\n",
    "- Import final Williams perim (+ evolutions if available)\n",
    "- Compare final v. final (interminent + intermin if available)\n",
    "- Report back stats + visualization\n",
    "\n",
    "Notes:\n",
    "- ogr vs. gpd usage (and consequential computing cost)\n",
    "\n",
    "References:\n",
    "- SQL shp querying: https://gis.stackexchange.com/questions/390839/sql-request-with-a-shapefile-data-with-python\n",
    "- "
   ]
  },
  {
   "cell_type": "code",
   "execution_count": 1,
   "id": "dac3d527",
   "metadata": {},
   "outputs": [],
   "source": [
    "import osgeo\n",
    "import geopandas as gpd\n",
    "import pandas as pd\n",
    "from osgeo import ogr\n",
    "import numpy as np\n",
    "from matplotlib import pyplot as plt\n",
    "import os\n",
    "# import rioxarray as rio\n",
    "import xarray as xr\n",
    "import rasterio\n",
    "import glob\n",
    "# from geocube.api.core import make_geocube\n",
    "from shapely.errors import ShapelyDeprecationWarning\n",
    "from shapely.geometry import Point\n",
    "import shapely.speedups\n",
    "import warnings\n",
    "import folium\n",
    "from folium import plugins\n",
    "warnings.filterwarnings(\"ignore\", category=ShapelyDeprecationWarning) \n",
    "from datetime import datetime"
   ]
  },
  {
   "cell_type": "code",
   "execution_count": 2,
   "id": "511bf7ee",
   "metadata": {},
   "outputs": [
    {
     "ename": "SyntaxError",
     "evalue": "invalid syntax (3589924077.py, line 3)",
     "output_type": "error",
     "traceback": [
      "\u001b[0;36m  Input \u001b[0;32mIn [2]\u001b[0;36m\u001b[0m\n\u001b[0;31m    = NIFC_allfires[(NIFC_allfires.IncidentNa==firename)\u001b[0m\n\u001b[0m    ^\u001b[0m\n\u001b[0;31mSyntaxError\u001b[0m\u001b[0;31m:\u001b[0m invalid syntax\n"
     ]
    }
   ],
   "source": [
    "# Yang's quality filter\n",
    "NIFC_fire \n",
    "= NIFC_allfires[(NIFC_allfires.IncidentNa==firename)\n",
    "& (NIFC_allfires.GDB_FROM_D.values\n",
    "!= None)\n",
    "\n",
    "& (NIFC_allfires.FeatureCat\n",
    "== 'Wildfire Daily Fire Perimeter')\n",
    "\n",
    "& (NIFC_allfires.IsVisible\n",
    "== 'Yes')]"
   ]
  },
  {
   "cell_type": "code",
   "execution_count": 25,
   "id": "5229b890",
   "metadata": {},
   "outputs": [],
   "source": [
    "# check on download status in case failed fetch\n",
    "\n",
    "# all fires till 2021\n",
    "# source: https://data-nifc.opendata.arcgis.com/datasets/nifc::interagencyfireperimeterhistory-all-years-view/explore?location=29.495306%2C-122.087025%2C3.52&showTable=true\n",
    "perims_path = \"/projects/my-public-bucket/InterAgencyFirePerimeterHistory\"\n",
    "usa_path = \"/projects/my-public-bucket/USAShapeFile\""
   ]
  },
  {
   "cell_type": "code",
   "execution_count": 26,
   "id": "b6005f7f",
   "metadata": {},
   "outputs": [],
   "source": [
    "# change the global options that Geopandas inherits from\n",
    "pd.set_option('display.max_columns',None)\n",
    "\n",
    "# gpd method (comp. slower)\n",
    "df = gpd.read_file(perims_path)\n",
    "# print data table\n",
    "#df.head()\n",
    "\n",
    "# US map\n",
    "usa = gpd.read_file(usa_path)\n"
   ]
  },
  {
   "cell_type": "code",
   "execution_count": 27,
   "id": "1504312b",
   "metadata": {},
   "outputs": [
    {
     "name": "stdout",
     "output_type": "stream",
     "text": [
      "Non_empty length: 24747\n"
     ]
    },
    {
     "data": {
      "text/html": [
       "<div>\n",
       "<style scoped>\n",
       "    .dataframe tbody tr th:only-of-type {\n",
       "        vertical-align: middle;\n",
       "    }\n",
       "\n",
       "    .dataframe tbody tr th {\n",
       "        vertical-align: top;\n",
       "    }\n",
       "\n",
       "    .dataframe thead th {\n",
       "        text-align: right;\n",
       "    }\n",
       "</style>\n",
       "<table border=\"1\" class=\"dataframe\">\n",
       "  <thead>\n",
       "    <tr style=\"text-align: right;\">\n",
       "      <th></th>\n",
       "      <th>OBJECTID</th>\n",
       "      <th>MAP_METHOD</th>\n",
       "      <th>DATE_CUR</th>\n",
       "      <th>COMMENTS</th>\n",
       "      <th>GEO_ID</th>\n",
       "      <th>IRWINID</th>\n",
       "      <th>UNQE_FIRE_</th>\n",
       "      <th>FIRE_YEAR</th>\n",
       "      <th>LOCAL_NUM</th>\n",
       "      <th>INCIDENT</th>\n",
       "      <th>UNIT_ID</th>\n",
       "      <th>POO_RESP_I</th>\n",
       "      <th>FEATURE_CA</th>\n",
       "      <th>GIS_ACRES</th>\n",
       "      <th>USER_NAME</th>\n",
       "      <th>SOURCE</th>\n",
       "      <th>AGENCY</th>\n",
       "      <th>FIRE_YEAR_</th>\n",
       "      <th>Shape__Are</th>\n",
       "      <th>Shape__Len</th>\n",
       "      <th>geometry</th>\n",
       "    </tr>\n",
       "  </thead>\n",
       "  <tbody>\n",
       "    <tr>\n",
       "      <th>0</th>\n",
       "      <td>1</td>\n",
       "      <td>Image Interpretation</td>\n",
       "      <td>20210903</td>\n",
       "      <td>Perimeter update using Sentinel-2 imagery.</td>\n",
       "      <td>1</td>\n",
       "      <td>{9FABE71D-843F-4624-859C-A7EC4A72AB89}</td>\n",
       "      <td>2021-AKUYD-000223</td>\n",
       "      <td>2021</td>\n",
       "      <td>000223</td>\n",
       "      <td>Cultas Creek</td>\n",
       "      <td>AKYCP</td>\n",
       "      <td>AKUYD</td>\n",
       "      <td>Wildfire Final Perimeter</td>\n",
       "      <td>40450.0</td>\n",
       "      <td>None</td>\n",
       "      <td>AICC</td>\n",
       "      <td>AFS</td>\n",
       "      <td>2021.0</td>\n",
       "      <td>9.273137e+08</td>\n",
       "      <td>528166.832442</td>\n",
       "      <td>POLYGON ((-142.81944 65.16774, -142.81904 65.1...</td>\n",
       "    </tr>\n",
       "    <tr>\n",
       "      <th>1</th>\n",
       "      <td>2</td>\n",
       "      <td>Image Interpretation</td>\n",
       "      <td>20210903</td>\n",
       "      <td>Perimeter updated using Sentinel-2 imagery.</td>\n",
       "      <td>2</td>\n",
       "      <td>{C5ED6535-8217-4130-B795-E81AE6BF02D1}</td>\n",
       "      <td>2021-AKUYD-000309</td>\n",
       "      <td>2021</td>\n",
       "      <td>000309</td>\n",
       "      <td>Crescent Creek</td>\n",
       "      <td>AKYCP</td>\n",
       "      <td>AKUYD</td>\n",
       "      <td>Wildfire Final Perimeter</td>\n",
       "      <td>1384.0</td>\n",
       "      <td>None</td>\n",
       "      <td>AICC</td>\n",
       "      <td>AFS</td>\n",
       "      <td>2021.0</td>\n",
       "      <td>3.115264e+07</td>\n",
       "      <td>56968.266410</td>\n",
       "      <td>POLYGON ((-143.66148 64.97452, -143.65997 64.9...</td>\n",
       "    </tr>\n",
       "    <tr>\n",
       "      <th>2</th>\n",
       "      <td>3</td>\n",
       "      <td>Image Interpretation</td>\n",
       "      <td>20210901</td>\n",
       "      <td>Perimeter updated using Sentinel-2 imagery.</td>\n",
       "      <td>3</td>\n",
       "      <td>{D9F72569-F8CD-45DB-93F7-D7D05C4F4723}</td>\n",
       "      <td>2021-AKFAS-000397</td>\n",
       "      <td>2021</td>\n",
       "      <td>000397</td>\n",
       "      <td>Salcha River 2</td>\n",
       "      <td>AKDNS</td>\n",
       "      <td>AKFAS</td>\n",
       "      <td>Wildfire Final Perimeter</td>\n",
       "      <td>2828.1</td>\n",
       "      <td>None</td>\n",
       "      <td>AICC</td>\n",
       "      <td>DOF</td>\n",
       "      <td>2021.0</td>\n",
       "      <td>6.324108e+07</td>\n",
       "      <td>118033.611976</td>\n",
       "      <td>MULTIPOLYGON (((-145.24616 64.90080, -145.2455...</td>\n",
       "    </tr>\n",
       "    <tr>\n",
       "      <th>3</th>\n",
       "      <td>4</td>\n",
       "      <td>Image Interpretation</td>\n",
       "      <td>20210901</td>\n",
       "      <td>Perimeter updated using Sentinel-2 imagery.</td>\n",
       "      <td>4</td>\n",
       "      <td>{3B2C6FF0-CE08-4960-AC83-45DC5687A090}</td>\n",
       "      <td>2021-AKUYD-000405</td>\n",
       "      <td>2021</td>\n",
       "      <td>000405</td>\n",
       "      <td>Whitefish Lake</td>\n",
       "      <td>AKYFR</td>\n",
       "      <td>AKUYD</td>\n",
       "      <td>Wildfire Final Perimeter</td>\n",
       "      <td>417.5</td>\n",
       "      <td>None</td>\n",
       "      <td>AICC</td>\n",
       "      <td>AFS</td>\n",
       "      <td>2021.0</td>\n",
       "      <td>1.036802e+07</td>\n",
       "      <td>16248.978885</td>\n",
       "      <td>POLYGON ((-142.40339 66.24461, -142.40385 66.2...</td>\n",
       "    </tr>\n",
       "    <tr>\n",
       "      <th>4</th>\n",
       "      <td>5</td>\n",
       "      <td>Image Interpretation</td>\n",
       "      <td>20210901</td>\n",
       "      <td>Perimeter updated using Sentinel-2 imagery.</td>\n",
       "      <td>5</td>\n",
       "      <td>{C0CFD381-B561-4704-BA86-311CF4BE126D}</td>\n",
       "      <td>2021-AKUYD-000399</td>\n",
       "      <td>2021</td>\n",
       "      <td>000399</td>\n",
       "      <td>South Fork</td>\n",
       "      <td>AKEID</td>\n",
       "      <td>AKUYD</td>\n",
       "      <td>Wildfire Final Perimeter</td>\n",
       "      <td>884.6</td>\n",
       "      <td>None</td>\n",
       "      <td>AICC</td>\n",
       "      <td>AFS</td>\n",
       "      <td>2021.0</td>\n",
       "      <td>2.040334e+07</td>\n",
       "      <td>44186.061518</td>\n",
       "      <td>POLYGON ((-144.39133 65.30406, -144.39133 65.3...</td>\n",
       "    </tr>\n",
       "  </tbody>\n",
       "</table>\n",
       "</div>"
      ],
      "text/plain": [
       "   OBJECTID            MAP_METHOD  DATE_CUR  \\\n",
       "0         1  Image Interpretation  20210903   \n",
       "1         2  Image Interpretation  20210903   \n",
       "2         3  Image Interpretation  20210901   \n",
       "3         4  Image Interpretation  20210901   \n",
       "4         5  Image Interpretation  20210901   \n",
       "\n",
       "                                      COMMENTS GEO_ID  \\\n",
       "0   Perimeter update using Sentinel-2 imagery.      1   \n",
       "1  Perimeter updated using Sentinel-2 imagery.      2   \n",
       "2  Perimeter updated using Sentinel-2 imagery.      3   \n",
       "3  Perimeter updated using Sentinel-2 imagery.      4   \n",
       "4  Perimeter updated using Sentinel-2 imagery.      5   \n",
       "\n",
       "                                  IRWINID         UNQE_FIRE_ FIRE_YEAR  \\\n",
       "0  {9FABE71D-843F-4624-859C-A7EC4A72AB89}  2021-AKUYD-000223      2021   \n",
       "1  {C5ED6535-8217-4130-B795-E81AE6BF02D1}  2021-AKUYD-000309      2021   \n",
       "2  {D9F72569-F8CD-45DB-93F7-D7D05C4F4723}  2021-AKFAS-000397      2021   \n",
       "3  {3B2C6FF0-CE08-4960-AC83-45DC5687A090}  2021-AKUYD-000405      2021   \n",
       "4  {C0CFD381-B561-4704-BA86-311CF4BE126D}  2021-AKUYD-000399      2021   \n",
       "\n",
       "  LOCAL_NUM        INCIDENT UNIT_ID POO_RESP_I                FEATURE_CA  \\\n",
       "0    000223    Cultas Creek   AKYCP      AKUYD  Wildfire Final Perimeter   \n",
       "1    000309  Crescent Creek   AKYCP      AKUYD  Wildfire Final Perimeter   \n",
       "2    000397  Salcha River 2   AKDNS      AKFAS  Wildfire Final Perimeter   \n",
       "3    000405  Whitefish Lake   AKYFR      AKUYD  Wildfire Final Perimeter   \n",
       "4    000399      South Fork   AKEID      AKUYD  Wildfire Final Perimeter   \n",
       "\n",
       "   GIS_ACRES USER_NAME SOURCE AGENCY  FIRE_YEAR_    Shape__Are     Shape__Len  \\\n",
       "0    40450.0      None   AICC    AFS      2021.0  9.273137e+08  528166.832442   \n",
       "1     1384.0      None   AICC    AFS      2021.0  3.115264e+07   56968.266410   \n",
       "2     2828.1      None   AICC    DOF      2021.0  6.324108e+07  118033.611976   \n",
       "3      417.5      None   AICC    AFS      2021.0  1.036802e+07   16248.978885   \n",
       "4      884.6      None   AICC    AFS      2021.0  2.040334e+07   44186.061518   \n",
       "\n",
       "                                            geometry  \n",
       "0  POLYGON ((-142.81944 65.16774, -142.81904 65.1...  \n",
       "1  POLYGON ((-143.66148 64.97452, -143.65997 64.9...  \n",
       "2  MULTIPOLYGON (((-145.24616 64.90080, -145.2455...  \n",
       "3  POLYGON ((-142.40339 66.24461, -142.40385 66.2...  \n",
       "4  POLYGON ((-144.39133 65.30406, -144.39133 65.3...  "
      ]
     },
     "execution_count": 27,
     "metadata": {},
     "output_type": "execute_result"
    }
   ],
   "source": [
    "# replicating filtering\n",
    "\n",
    "# visible aka non empty\n",
    "non_empty = df[df.geometry != None]\n",
    "print(f'Non_empty length: {len(non_empty)}')\n",
    "non_null = non_empty[non_empty.GIS_ACRES != 0]\n",
    "finalized_perims = non_null\n",
    "\"\"\" Final perimeter rid of valid perim, not reliable !!! \"\"\"\n",
    "# finalized_perims = non_empty[non_empty.FEATURE_CA == 'Wildfire Final Perimeter']\n",
    "finalized_perims.head()\n"
   ]
  },
  {
   "cell_type": "code",
   "execution_count": 28,
   "id": "57571f22",
   "metadata": {},
   "outputs": [],
   "source": [
    "# master plot of the identified features\n",
    "# df.plot()"
   ]
  },
  {
   "cell_type": "markdown",
   "id": "dcc3b04e",
   "metadata": {},
   "source": [
    "## Williams Flat Import and Comparison\n",
    "\n",
    "Ultimately in this version we are only concerned with the `perimeter` of the final shape (not the evolution; comparison will come later)"
   ]
  },
  {
   "cell_type": "code",
   "execution_count": 3,
   "id": "dd3dc99b",
   "metadata": {},
   "outputs": [
    {
     "name": "stdout",
     "output_type": "stream",
     "text": [
      "Number of LF ids: 1\n"
     ]
    }
   ],
   "source": [
    "# Williams ID based path\n",
    "lf_files = glob.glob('/projects/shared-buckets/gsfc_landslides/FEDSoutput-s3-conus/WesternUS/2019/Largefire/*4655*') ## ID of William's Flats\n",
    "#lf_files = glob.glob('/projects/shared-buckets/gsfc_landslides/FEDSoutput-s3-conus/WesternUS/2019/Largefire/*6388*') ## ID of William's Flats\n",
    "\n",
    "# unique lf ids if more than one, but works with only one too!\n",
    "lf_ids = list(set([file.split('Largefire/')[1].split('_')[0] for file in lf_files])) \n",
    "print('Number of LF ids:',len(lf_ids)) # Should be one, just william's flats"
   ]
  },
  {
   "cell_type": "code",
   "execution_count": 4,
   "id": "233d5936",
   "metadata": {},
   "outputs": [
    {
     "name": "stdout",
     "output_type": "stream",
     "text": [
      "/projects/shared-buckets/gsfc_landslides/FEDSoutput-s3-conus/WesternUS/2019/Largefire/F4655_20190830PM\n",
      "['F4655']\n"
     ]
    }
   ],
   "source": [
    "# each largefire id has a file for each timestep which has entire evolution up to that point.\n",
    "# the latest one has the most up-to-date info for that fire\n",
    "largefire_dict = dict.fromkeys(lf_ids)\n",
    "for lf_id in lf_ids:\n",
    "    most_recent_file = [file for file in lf_files if lf_id in file][-1]\n",
    "    largefire_dict[lf_id] = most_recent_file\n",
    "print(largefire_dict[lf_id])\n",
    "print(lf_ids)"
   ]
  },
  {
   "cell_type": "markdown",
   "id": "029b7a0a",
   "metadata": {},
   "source": [
    "### Extract final perimeter of incident with max() timestamp\n",
    "\n",
    "- Includes additional work on evolving fire perimeters \n",
    "- Looks like 'fireline' layer holds proper evolution -> resolving plotting issue in slack"
   ]
  },
  {
   "cell_type": "code",
   "execution_count": null,
   "id": "94531be4",
   "metadata": {},
   "outputs": [],
   "source": [
    "# try: applying format \n",
    "impacted = year_perims\n",
    "\n",
    "impacted['DATE_NOT_NONE'] = impacted.apply(lambda row : row.DATE_CUR is not None, axis = 1)\n",
    "impacted = impacted[impacted.DATE_NOT_NONE == True]\n",
    "\n",
    "impacted['DATE_LEN_VALID'] = impacted.apply(lambda row : len(row.DATE_CUR) == 8 , axis = 1)\n",
    "impacted = impacted[impacted.DATE_LEN_VALID == True]\n",
    "\n",
    "cur_format = '%Y%m%d' \n",
    "impacted['DATE_CUR_STAMP'] =  impacted.apply(lambda row : datetime.strptime(row.DATE_CUR, cur_format), axis = 1)\n",
    "print(impacted['DATE_CUR_STAMP'])\n"
   ]
  },
  {
   "cell_type": "code",
   "execution_count": null,
   "id": "21a6247f",
   "metadata": {},
   "outputs": [],
   "source": [
    "print(sample_timestamp.hour)\n",
    "print(impacted.iloc[[0]].DATE_CUR_STAMP.max().hour)\n",
    "\n",
    "print(type(sample_timestamp.day))\n",
    "\n",
    "range_test = 9\n",
    "me = range(1, range_test)\n",
    "for i in me:\n",
    "    print(i)"
   ]
  },
  {
   "cell_type": "code",
   "execution_count": null,
   "id": "71940f5f",
   "metadata": {},
   "outputs": [],
   "source": [
    "# NEW: dict key search styled search\n",
    "\n",
    "# make a list of all stamps\n",
    "print(sample_timestamp)\n",
    "transformed = impacted.DATE_CUR_STAMP.tolist()\n",
    "# print(transformed)\n",
    "cloz_dict = {\n",
    "  abs(sample_timestamp.timestamp() - date.timestamp()) : date\n",
    "  for date in transformed}\n",
    "\n",
    "res = cloz_dict[min(cloz_dict.keys())]\n",
    "print(\"Nearest date from list : \" + str(res))\n",
    "\n",
    "print(type(res))\n",
    "print(res.day)\n",
    "\n",
    "print(abs(sample_timestamp.day-res.day))\n",
    "\n",
    "# find matching rows of impacted['DATE_CUR_STAMP']\n",
    "finalizedy = impacted[impacted['DATE_CUR_STAMP'] == res]\n",
    "print(len(finalizedy))"
   ]
  },
  {
   "cell_type": "code",
   "execution_count": null,
   "id": "a4172754",
   "metadata": {},
   "outputs": [],
   "source": [
    "# try: closest timestamp match\n",
    "sample_timestamp = fireline.iloc[[0]].t.max()\n",
    "# print(type(sample_timestamp))\n",
    "# note: datecure contains time series vs time stamp\n",
    "# print(type(impacted.iloc[[0]].DATE_CUR_STAMP.max())) # timestamp\n",
    "# print(type(impacted.iloc[[0]].DATE_CUR_STAMP)) # series\n",
    "\n",
    "# if not none, other match also sufficnet -> concat/make list\n",
    "\n",
    "# since get_loc was presenting type issues -> self define\n",
    "def get_nearest(dataset, timestamp):\n",
    "    \"\"\" Identify rows of dataset with timestamp matches;\n",
    "        expects year, month, date in datetime format\n",
    "        \n",
    "        dataset: input dataset to search for closest match\n",
    "        timestamp: timestamp we want a close match for \n",
    "        \n",
    "        returns: dataset with d->m->y closest matches\n",
    "    \"\"\"\n",
    "    \n",
    "    # reset best matches\n",
    "    index_day = None\n",
    "    index_month = None\n",
    "    index_year = None\n",
    "    \n",
    "    for l in range(dataset.shape[0]):\n",
    "        curr = dataset.iloc[[l]].DATE_CUR_STAMP.max()\n",
    "        if curr.year != sample_timestamp.year:\n",
    "            # at least want matching year\n",
    "            continue\n",
    "        if curr.day == sample_timestamp.day and curr.month == sample_timestamp.month:\n",
    "            print('Identified match by day')\n",
    "            if type(index_day) is int:\n",
    "                # multiple options\n",
    "                index_day = [index_day] # transform type\n",
    "                index_day.append(l)\n",
    "\n",
    "            elif type(index_day) is list:\n",
    "                # already list -> concat\n",
    "                index_day.append(l)\n",
    "            else:\n",
    "                index_day = l\n",
    "        # elif curr.month == sample_timestamp.month:\n",
    "\n",
    "    # type adjustment\n",
    "    # if type(index_day) not list:\n",
    "        # index_day = [index_day]\n",
    "        \n",
    "    # fetch rows \n",
    "    finalized = dataset.iloc[index_day]\n",
    "    \n",
    "    return finalized\n",
    "\n",
    "results = get_nearest(impacted, sample_timestamp)\n",
    "print(results.shape[0])\n",
    "print(results.DATE_CUR_STAMP)\n",
    "print('vs. original stamp')\n",
    "print(sample_timestamp)\n",
    "\n",
    "#### DEPRECATED\n",
    "\n",
    "# def get_nearest(data, timestamp):\n",
    "    # print(f'Timestamp type: {type(timestamp)}')\n",
    "    # index = data.index.get_loc(timestamp,method=\"nearest\")\n",
    "    # return data.iloc[index, 0]\n",
    "\n",
    "# TRY: get_loc method \n",
    "# impacted['DATE_CUR_STAMP'] = [get_nearest(impacted, sample_timestamp)]\n"
   ]
  },
  {
   "cell_type": "code",
   "execution_count": null,
   "id": "7f16799a",
   "metadata": {},
   "outputs": [],
   "source": [
    "# try: sorting dataset w/ time\n",
    "fid = lf_ids[0]\n",
    "layer = 'perimeter'\n",
    "# print(gdf.t)\n",
    "gdf = gpd.read_file(largefire_dict[lf_id],layer=layer)\n",
    "gdf = gdf.sort_values(by='t',ascending=False)\n",
    "# print(gdf.t)\n",
    "\n",
    "print(gdf.iloc[[3]].t) # year - month - day\n",
    "print(year_perims.iloc[[0]].DATE_CUR.max()) # year - month - day\n",
    "print(year_perims.iloc[[9]].DATE_CUR.max())"
   ]
  },
  {
   "cell_type": "code",
   "execution_count": null,
   "id": "a0b22c5d",
   "metadata": {},
   "outputs": [],
   "source": [
    "# try: applying lambda function to transform and make new col of year perims\n",
    "# print(year_perims['DATE_CUR'])\n",
    "print(len(year_perims.iloc[[0]].DATE_CUR.max()))\n",
    "print(year_perims.iloc[[0]].DATE_CUR.max())\n",
    "print(type(year_perims.iloc[[0]].DATE_CUR.max()))\n",
    "\n",
    "validity = [len(str(year_perims.iloc[[k]].DATE_CUR.max())) == 8 for k in range(year_perims.shape[0])]\n",
    "validity_2 = [year_perims.iloc[[k]].DATE_CUR.max() is not None for k in range(year_perims.shape[0])]\n",
    "# [print(year_perims.iloc[[k]].DATE_CUR.max()) for k in range(year_perims.shape[0])]\n",
    "\n",
    "# print(validity_2)\n",
    "print(f'Is False in validity_2? -> {False in validity_2}')\n",
    "\n",
    "# manual counting of none instances\n",
    "counter_non = 0\n",
    "for j in range(year_perims.shape[0]):\n",
    "    if year_perims.iloc[[j]].DATE_CUR.max() is None:\n",
    "        counter_non += 1\n",
    "        \n",
    "print(f'true manual count of None instances: {counter_non}')\n",
    "\n",
    "# @TODO: picking up signs for none values --> need to take care of despite indiv not sensing?\n",
    "\n",
    "year_perims['DATE_NOT_NONE'] = year_perims.apply(lambda row : row.DATE_CUR is not None, axis = 1)\n",
    "print(year_perims['DATE_NOT_NONE'])\n",
    "print('Before removing None data values')\n",
    "print(len(year_perims))\n",
    "print('After forecful removal')\n",
    "limited = year_perims[year_perims['DATE_NOT_NONE'] == True]\n",
    "print(len(limited))\n",
    "\n",
    "# @TODO: finalize date validity by length\n",
    "print(f'before datavlid filtering: {year_perims.shape[0]}')\n",
    "year_perims['DATE_VALID'] = limited.apply(lambda row : len(row.DATE_CUR) == 8 , axis = 1)\n",
    "print(year_perims['DATE_VALID'])\n",
    "newer = year_perims[year_perims.DATE_VALID == True]\n",
    "print(f'after datavlid filtering: {newer.shape[0]}')\n",
    "\n",
    "    \n",
    "# year_perims['DATE_CUR_STAMP'] = df.apply(lambda row :  datetime.strptime(row['DATE_CUR'], '%Y%m%d'), axis = 1)\n",
    "# print(year_perims['DATE_CUR_STAMP'])\n"
   ]
  },
  {
   "cell_type": "code",
   "execution_count": null,
   "id": "3777a00e",
   "metadata": {},
   "outputs": [],
   "source": [
    "# gdf loc for object id\n",
    "print(gdf.iloc[[5]].index)\n",
    "print(gdf.iloc[[5]])"
   ]
  },
  {
   "cell_type": "code",
   "execution_count": 33,
   "id": "af92a130",
   "metadata": {},
   "outputs": [
    {
     "name": "stdout",
     "output_type": "stream",
     "text": [
      "57\n",
      "    n_pixels  n_newpixels       farea     fperim  flinelen  duration  \\\n",
      "14      2057            0  185.537556  70.933416       0.0       8.0   \n",
      "37      2057            0  185.537556  70.933416       0.0       8.0   \n",
      "15      2057            0  185.537556  70.933416       0.0       8.0   \n",
      "38      2057            0  185.537556  70.933416       0.0       8.0   \n",
      "16      2057            0  185.537556  70.933416       0.0       8.0   \n",
      "\n",
      "       pixden  meanFRP                   t  \\\n",
      "14  11.086704      0.0 2019-08-30 12:00:00   \n",
      "37  11.086704      0.0 2019-08-30 00:00:00   \n",
      "15  11.086704      0.0 2019-08-29 12:00:00   \n",
      "38  11.086704      0.0 2019-08-29 00:00:00   \n",
      "16  11.086704      0.0 2019-08-28 12:00:00   \n",
      "\n",
      "                                             geometry  \n",
      "14  POLYGON ((-1372528.465 488491.549, -1372534.54...  \n",
      "37  POLYGON ((-1372528.465 488491.549, -1372534.54...  \n",
      "15  POLYGON ((-1372528.465 488491.549, -1372534.54...  \n",
      "38  POLYGON ((-1372528.465 488491.549, -1372534.54...  \n",
      "16  POLYGON ((-1372528.465 488491.549, -1372534.54...  \n",
      "VERBOSE: try plotting largefire perim history collection\n",
      "show gdf entries: 57\n",
      "VERBOSE: try plotting fireline evolution\n",
      "CRS of entire fireline set: epsg:9311\n",
      "GDF/perimeter layern dimensions:\n",
      "(57, 10)\n",
      "Final Willaims perim/max time\n",
      "2019\n",
      "Resulting year check: False\n"
     ]
    },
    {
     "data": {
      "image/png": "[encoded data removed]",
      "text/plain": [
       "<Figure size 640x480 with 1 Axes>"
      ]
     },
     "metadata": {},
     "output_type": "display_data"
    },
    {
     "data": {
      "image/png": "[encoded data removed]",
      "text/plain": [
       "<Figure size 640x480 with 1 Axes>"
      ]
     },
     "metadata": {},
     "output_type": "display_data"
    },
    {
     "data": {
      "image/png": "[encoded data removed]",
      "text/plain": [
       "<Figure size 640x480 with 1 Axes>"
      ]
     },
     "metadata": {},
     "output_type": "display_data"
    }
   ],
   "source": [
    "# read perimeter of existing line\n",
    "fid = lf_ids[0]\n",
    "layer = 'perimeter'\n",
    "gdf = gpd.read_file(largefire_dict[lf_id],layer=layer)\n",
    "\n",
    "# ADDED: time change:\n",
    "gdf = gdf.sort_values(by='t',ascending=False)\n",
    "\n",
    "# fireline display (evolution)\n",
    "fireline = gpd.read_file(largefire_dict[fid],layer='fireline') # Not super interesting, just shapefiles an time\n",
    "# fireline['t'] = fireline['t'].astype(\"str\")\n",
    "\n",
    "max_timestamp = gdf.t.max()\n",
    "print(gdf.shape[0])\n",
    "print(gdf.head())\n",
    "\n",
    "plot_perims = True\n",
    "ax_undefined = True\n",
    "# iterate and plot per entry\n",
    "if plot_perims:\n",
    "    print('VERBOSE: try plotting largefire perim history collection')\n",
    "    print(f'show gdf entries: {gdf.shape[0]}')\n",
    "    for i in range(gdf.shape[0]):\n",
    "        current = gdf.iloc[[i]]\n",
    "        if ax_undefined:\n",
    "            ax = current.plot(facecolor=\"yellow\", edgecolor=\"black\", legend=True) \n",
    "            ax_undefined = False\n",
    "        else:\n",
    "            current.plot(facecolor=\"red\", edgecolor=\"black\", ax=ax)\n",
    "        # current.plot(facecolor=\"red\", edgecolor=\"black\")\n",
    "\n",
    "print('VERBOSE: try plotting fireline evolution')\n",
    "# TRY: plotting firelines for results\n",
    "ax_undefined = True\n",
    "print(f'CRS of entire fireline set: {fireline.crs}')\n",
    "for i in reversed(range(fireline.shape[0])):\n",
    "    current = fireline.iloc[[i]]\n",
    "    if ax_undefined:\n",
    "        ax = current.plot(facecolor=\"yellow\", edgecolor=\"black\") \n",
    "        ax_undefined = False\n",
    "    else:\n",
    "        current.plot(facecolor=\"red\", edgecolor=\"black\", ax=ax)\n",
    "    # current.plot(facecolor=\"yellow\", edgecolor=\"black\")\n",
    "    \n",
    "\n",
    "# rename for convennience\n",
    "finalized_williams = gdf\n",
    "\n",
    "print('GDF/perimeter layern dimensions:')\n",
    "print(gdf.shape)\n",
    "\n",
    "# take max t \n",
    "print('Final Willaims perim/max time')\n",
    "finalized_williams.plot()\n",
    "\n",
    "# try: fireline year extraction / uniqueness detection\n",
    "# print(fireline['t'].nunique())\n",
    "# print(fireline.iloc[[0]].t)\n",
    "# print(fireline.iloc[[0]].t.max())\n",
    "print(finalized_williams.iloc[[0]].t.max().year)\n",
    "\n",
    "sample_year = fireline.iloc[[0]].t.max().year\n",
    "year_matching = [sample_year ==  fireline.iloc[[j]].t.max().year for j in range(fireline.shape[0])]\n",
    "checked = False in year_matching\n",
    "print(f'Resulting year check: {checked}')\n"
   ]
  },
  {
   "cell_type": "code",
   "execution_count": 34,
   "id": "f71123e9",
   "metadata": {},
   "outputs": [],
   "source": [
    "# rough calculation practice\n",
    "\n",
    "# gdf == evolution\n",
    "# resulting (below block) == overlay result \n"
   ]
  },
  {
   "cell_type": "markdown",
   "id": "9778a350",
   "metadata": {},
   "source": [
    "## With loaded files: Direct querying with year + location\n",
    "\n",
    "Note:  Improve querying with state filtering? --> hard given Williams has no associated state, best to directly query with intersect"
   ]
  },
  {
   "cell_type": "code",
   "execution_count": 35,
   "id": "fbbe3965",
   "metadata": {},
   "outputs": [
    {
     "name": "stdout",
     "output_type": "stream",
     "text": [
      "Attempting set_crs...\n",
      "Failure: attempting to_crs application\n",
      "epsg:9311\n",
      "epsg:9311\n",
      "Number of extracted_year matches from treated perims: 888\n"
     ]
    },
    {
     "data": {
      "text/plain": [
       "<AxesSubplot:>"
      ]
     },
     "execution_count": 35,
     "metadata": {},
     "output_type": "execute_result"
    },
    {
     "data": {
      "image/png": "[encoded data removed]",
      "text/plain": [
       "<Figure size 640x480 with 1 Axes>"
      ]
     },
     "metadata": {},
     "output_type": "display_data"
    }
   ],
   "source": [
    "# treated perims\n",
    "finalized_williams = finalized_williams.iloc[[0]].head() \n",
    "# assume no crs is set -> if false then to crs to adjust\n",
    "try:\n",
    "    print('Attempting set_crs...')\n",
    "    finalized_perims.set_crs(finalized_williams.crs)\n",
    "except: \n",
    "    print('Failure: attempting to_crs application')\n",
    "    print(finalized_williams.crs)\n",
    "    finalized_perims = finalized_perims.to_crs(finalized_williams.crs)\n",
    "    print(finalized_perims.crs)\n",
    "\n",
    "# head not appearing?\n",
    "# finalized_williams.head()\n",
    "# gdf.head()\n",
    "\n",
    "# (1) timestamp year matching\n",
    "\n",
    "# time stamp to treat finalized_perims - should only be one (final) fire\n",
    "assert finalized_williams.shape[0] == 1\n",
    "extracted_year = max_timestamp.year\n",
    "# print type of attr field -> str --> must convert extracted year\n",
    "# print(type(finalized_perims.iloc[0]['FIRE_YEAR']))\n",
    "year_perims = finalized_perims[finalized_perims.FIRE_YEAR == str(extracted_year)]\n",
    "print(f'Number of extracted_year matches from treated perims: {len(year_perims)}')\n",
    "\n",
    "# (2) location overlap\n",
    "\n",
    "# intersect features and only invlude those with an intersection result > 0\n",
    "year_perims.plot()"
   ]
  },
  {
   "cell_type": "code",
   "execution_count": 36,
   "id": "419876f2",
   "metadata": {},
   "outputs": [
    {
     "name": "stdout",
     "output_type": "stream",
     "text": [
      "epsg:9311\n",
      "epsg:9311\n"
     ]
    }
   ],
   "source": [
    "# check meta data tommake sure it matches\n",
    "print(finalized_williams.crs)\n",
    "print(year_perims.crs)\n",
    "assert finalized_williams.crs == year_perims.crs, \"CRS mismatch\""
   ]
  },
  {
   "cell_type": "code",
   "execution_count": 43,
   "id": "3c59f07a",
   "metadata": {},
   "outputs": [
    {
     "name": "stdout",
     "output_type": "stream",
     "text": [
      "metre\n",
      "metre\n",
      "<class 'str'>\n",
      "True\n",
      "False\n"
     ]
    }
   ],
   "source": [
    "# try: identify units of given dataset\n",
    "print(year_perims.crs.axis_info[0].unit_name)\n",
    "print(finalized_williams.crs.axis_info[0].unit_name)\n",
    "print(type(finalized_williams.crs.axis_info[0].unit_name))\n",
    "# check boolean val\n",
    "print(year_perims.crs.axis_info[0].unit_name == finalized_williams.crs.axis_info[0].unit_name)"
   ]
  },
  {
   "cell_type": "code",
   "execution_count": 37,
   "id": "14cb95c1",
   "metadata": {},
   "outputs": [
    {
     "ename": "NameError",
     "evalue": "name 'lowest' is not defined",
     "output_type": "error",
     "traceback": [
      "\u001b[0;31m---------------------------------------------------------------------------\u001b[0m",
      "\u001b[0;31mNameError\u001b[0m                                 Traceback (most recent call last)",
      "Input \u001b[0;32mIn [37]\u001b[0m, in \u001b[0;36m<cell line: 4>\u001b[0;34m()\u001b[0m\n\u001b[1;32m      2\u001b[0m shapely\u001b[38;5;241m.\u001b[39mspeedups\u001b[38;5;241m.\u001b[39menable() \n\u001b[1;32m      3\u001b[0m \u001b[38;5;66;03m# idea: within may be fully removing anything that isn't encapsulated\u001b[39;00m\n\u001b[0;32m----> 4\u001b[0m intersect_mask \u001b[38;5;241m=\u001b[39m year_perims\u001b[38;5;241m.\u001b[39mwithin(\u001b[43mlowest\u001b[49m)\n\u001b[1;32m      5\u001b[0m \u001b[38;5;28;01mif\u001b[39;00m \u001b[38;5;28;01mTrue\u001b[39;00m \u001b[38;5;129;01min\u001b[39;00m intersect_mask\u001b[38;5;241m.\u001b[39mvalues:\n\u001b[1;32m      6\u001b[0m     \u001b[38;5;28mprint\u001b[39m(\u001b[38;5;124m'\u001b[39m\u001b[38;5;124mIdentified Intersection\u001b[39m\u001b[38;5;124m'\u001b[39m)\n",
      "\u001b[0;31mNameError\u001b[0m: name 'lowest' is not defined"
     ]
    }
   ],
   "source": [
    "# enable shapely speed ups for querying\n",
    "shapely.speedups.enable() \n",
    "# idea: within may be fully removing anything that isn't encapsulated\n",
    "intersect_mask = year_perims.within(lowest)\n",
    "if True in intersect_mask.values:\n",
    "    print('Identified Intersection')\n",
    "else: \n",
    "    print('No boolean identified intersection')\n",
    "#print(if True in intersect_mask.values)\n",
    "finalized = year_perims.loc[intersect_mask]\n",
    "finalized.plot()\n",
    "finalized.head() # shows up empty --> intersect "
   ]
  },
  {
   "cell_type": "code",
   "execution_count": null,
   "id": "2907a966",
   "metadata": {},
   "outputs": [],
   "source": [
    "# try alternative intersection \n",
    "# print(year_perims.geometry)\n",
    "# print(lowest)\n",
    "intersect_new = year_perims.geometry.intersects(lowest.geometry)\n",
    "print(intersect_new)\n",
    "year_perims_inter = year_perims.loc[intersect_new]\n",
    "year_perims_inter.plot()\n",
    "\n",
    "# try non_none (block below define non_none)\n",
    "# print('attempting picked out williams plot')\n",
    "# other_inter = year_perims.geometry.intersects(non_none.geometry)\n",
    "# inter_new_ish = year_perims.loc[other_inter]\n",
    "# inter_new_ish.plot()\n",
    "\n",
    "# try iterating per row to see if there is a diff result\n",
    "for i in range(len(year_perims)):\n",
    "    curr_row = year_perims.iloc[[i]]\n",
    "    # inter_temp = curr_row.intersects(lowest)\n",
    "    # print(inter_temp)"
   ]
  },
  {
   "cell_type": "markdown",
   "id": "370ec5ed",
   "metadata": {},
   "source": [
    "## Investigate: potential causes to empty result:"
   ]
  },
  {
   "cell_type": "code",
   "execution_count": null,
   "id": "63345fbd",
   "metadata": {},
   "outputs": [],
   "source": [
    "# try: inspect geometries of results\n",
    "print(williams_incident.geometry)\n",
    "print(year_perims.geometry.geom_type == 'Polygon')\n",
    "if False in year_perims.geometry.geom_type == 'Polygon':\n",
    "    print('False picked up')\n",
    "else:\n",
    "    print('All uniform geometry')"
   ]
  },
  {
   "cell_type": "markdown",
   "id": "7032adf7",
   "metadata": {},
   "source": [
    "## GPD Dataframe overlay "
   ]
  },
  {
   "cell_type": "code",
   "execution_count": null,
   "id": "e445edc2",
   "metadata": {},
   "outputs": [],
   "source": [
    "# cols / extent of date for NIFC set\n",
    "print(year_perims.head())"
   ]
  },
  {
   "cell_type": "markdown",
   "id": "7a5997b7",
   "metadata": {},
   "source": [
    "## Forced empty geodataframe"
   ]
  },
  {
   "cell_type": "code",
   "execution_count": null,
   "id": "e7643537",
   "metadata": {},
   "outputs": [],
   "source": [
    "# EMPTY FRAME\n",
    "# gpd.overlay\n",
    "lowest = gdf[gdf.t == gdf.t.max()]\n",
    "print(type(lowest))\n",
    "print(lowest.dtypes)\n",
    "\n",
    "# test a non intersecting point\n",
    "noner = gpd.GeoDataFrame({'geometry': [Point(1, 2)]}, crs=lowest.crs)\n",
    "print('noner')\n",
    "print(noner)\n",
    "\n",
    "resulting = gpd.overlay(year_perims, noner, how='intersection')\n",
    "\n",
    "print('TYPE FOR RESULTING')\n",
    "print(type(resulting))\n",
    "print(resulting)\n",
    "\n",
    "if resulting.empty:\n",
    "    print('passed check')"
   ]
  },
  {
   "cell_type": "markdown",
   "id": "48d24b65",
   "metadata": {},
   "source": [
    "## Nonempty Dataframe for plot comparison"
   ]
  },
  {
   "cell_type": "code",
   "execution_count": null,
   "id": "9f79af03",
   "metadata": {},
   "outputs": [],
   "source": [
    "# non empty\n",
    "lowest = gdf[gdf.t == gdf.t.max()]\n",
    "print(type(lowest))\n",
    "print(lowest.dtypes)\n",
    "\n",
    "resulting = gpd.overlay(year_perims, lowest, how='intersection')\n",
    "\n",
    "print(f'len resuling: {len(resulting)}')\n",
    "print(resulting.head().iloc[[0]].OBJECTID.tolist()[0])\n",
    "print(type(resulting.head().iloc[[0]].OBJECTID.tolist()))\n",
    "\n",
    "# unified plot\n",
    "print('Unified Plot:')\n",
    "# FEDS OUTPUT\n",
    "ax = lowest.plot(facecolor=\"red\", edgecolor=\"black\", legend=True) \n",
    "\n",
    "# NIFC FINDINGS\n",
    "# iterate over all identified objs in inersect\n",
    "\n",
    "# all fetched instances stored\n",
    "id_matches = []\n",
    "\n",
    "for j in range(resulting.shape[0]):\n",
    "    objectid_match = resulting.iloc[[j]].OBJECTID.tolist()[0]\n",
    "    fetched = year_perims[year_perims.OBJECTID == objectid_match]\n",
    "    fetched.plot(facecolor=\"yellow\", edgecolor=\"black\", ax=ax)\n",
    "    id_matches.append(fetched)\n",
    "\n",
    "# NIFC FINDINGS INTERSECTED\n",
    "resulting.plot(ax=ax)\n",
    "\n",
    "print('id_matches:')\n",
    "print(id_matches)\n",
    "\n",
    "# name = finalized_perims[finalized_perims.INCIDENT == name_match]\n",
    "# williams_incident = name.iloc[[0]]\n"
   ]
  },
  {
   "cell_type": "markdown",
   "id": "4c71a804",
   "metadata": {},
   "source": [
    "# PROTYPE PERFORMANCE CALCS"
   ]
  },
  {
   "cell_type": "code",
   "execution_count": null,
   "id": "acf5b2bd",
   "metadata": {},
   "outputs": [],
   "source": [
    "# try: access the time dims\n",
    "# item helps to fetch formed stamp\n",
    "print(williams_incident.DATE_CUR.item())\n",
    "print(lowest.t.item())"
   ]
  },
  {
   "cell_type": "code",
   "execution_count": null,
   "id": "f1754f09",
   "metadata": {},
   "outputs": [],
   "source": [
    "# prototype stat / performance evaluation\n",
    "\n",
    "# where resulting is our nifc comparison\n",
    "# williams_incident.plot() vs lowest\n",
    "# print(type(resulting.iloc[[0]].geometry))\n",
    "# extract area example (should only be single entry)\n",
    "assert resulting.iloc[[0]].geometry.shape[0] == 1, \"Multi-features, min area logic will fail.\"\n",
    "# print(type(resulting.iloc[[0]].geometry.area.min()))\n",
    "assert type(resulting.iloc[[0]].geometry.area.min()) is np.float64, \"Type mismatch\"\n",
    "\n",
    "for match in id_matches:\n",
    "    # original year_perims geom instance \n",
    "    print(type(match))\n",
    "    print(match.iloc[[0]])\n",
    "    print(type(match.iloc[[0]].geometry))\n",
    "    \n",
    "    # run symmetric difference\n",
    "    sym_diff = lowest.iloc[[0]].symmetric_difference(williams_incident.iloc[[0]], align=False)\n",
    "    # plot \n",
    "    sym_diff.plot()\n",
    "    print(type(sym_diff))\n",
    "    \n",
    "    assert sym_diff.shape[0] == 1, \"Failed size check\"\n",
    "    \n",
    "    # error:\n",
    "    # symdiff / correct area \n",
    "    print(f'sym diff area: {sym_diff.geometry.area.item()}')\n",
    "    #@NOTE: requires item tag for geycj\n",
    "    print(f'sym type: {type(sym_diff.iloc[[0]].geometry.area)}')\n",
    "    # print(f'willsm area: {williams_incident}')\n",
    "    print('williams are:')\n",
    "    print(williams_incident.iloc[[0]].geometry.area.item())\n",
    "    error_percent = (sym_diff.geometry.area.item() / williams_incident.iloc[[0]].geometry.area.item()) * 100\n",
    "    print(f'error_percent: {error_percent}%')\n",
    "    \n",
    "# lowest - feds\n",
    "lowest.plot()\n",
    "# NIFC \n",
    "williams_incident.plot()\n"
   ]
  },
  {
   "cell_type": "markdown",
   "id": "e3d2d70e",
   "metadata": {},
   "source": [
    "# Other:"
   ]
  },
  {
   "cell_type": "markdown",
   "id": "a446d08f",
   "metadata": {},
   "source": [
    "## Manual filtering by name on Incident Dataset\n",
    "Verification it exists in the set (contrast with initial empty result...)"
   ]
  },
  {
   "cell_type": "code",
   "execution_count": null,
   "id": "c6cc52b8",
   "metadata": {},
   "outputs": [],
   "source": [
    "# extra: name match - try for non None results\n",
    "name_match = 'Williams Flats' \n",
    "name = finalized_perims[finalized_perims.INCIDENT == name_match]\n",
    "# print(name.head())\n",
    "print(len(name))\n",
    "non_none = name[name.geometry != None]\n",
    "print(non_none.head())\n",
    "\n",
    "williams_incident = name.iloc[[0]]\n",
    "williams_incident.plot()"
   ]
  },
  {
   "cell_type": "code",
   "execution_count": null,
   "id": "f36ec7af",
   "metadata": {},
   "outputs": [],
   "source": []
  },
  {
   "cell_type": "code",
   "execution_count": null,
   "id": "f0fe42a2",
   "metadata": {},
   "outputs": [],
   "source": []
  }
 ],
 "metadata": {
  "kernelspec": {
   "display_name": "Python [conda env:env-feds]",
   "language": "python",
   "name": "conda-env-env-feds-py"
  },
  "language_info": {
   "codemirror_mode": {
    "name": "ipython",
    "version": 3
   },
   "file_extension": ".py",
   "mimetype": "text/x-python",
   "name": "python",
   "nbconvert_exporter": "python",
   "pygments_lexer": "ipython3",
   "version": "3.10.6"
  }
 },
 "nbformat": 4,
 "nbformat_minor": 5
}
