{
 "cells": [
  {
   "cell_type": "markdown",
   "id": "ae40076b-0b07-4dc1-aa2f-ec0533f6e272",
   "metadata": {},
   "source": [
    "### Scratchwork for PEC Development"
   ]
  },
  {
   "cell_type": "markdown",
   "id": "562089f2-74a0-424d-9bd8-5be9b74c7dd2",
   "metadata": {},
   "source": [
    "Workflow:\n",
    "Input_VEDA + Input_Reference -> Output_Calculation\n",
    "\n",
    "Idea: one instance per calculation run\n",
    "Relations: Output_Calculation maps to a Input_VEDA + Input_Reference\n",
    "\n",
    "*VEDA Input: either an API or hard-passed URL to a VEDA dataset*\n",
    "- API: accessed through VEDA API (priority)\n",
    "- URL: directly passed for access (secondary due to complications)\n",
    "- Class\n",
    "- Global vars:\n",
    "    - Live track of all instances\n",
    "- Instance vars:\n",
    "    - Hash?\n",
    "    - CRS\n",
    "    - API or URL\n",
    "    - Bounding box\n",
    "    - Time\n",
    "- Methods: \n",
    "    - getInstanceDetails()\n",
    "    - \n",
    "\n",
    "*Reference Input: generalized input which we compare VEDA input to*\n",
    "- Class\n",
    "- Global vars:\n",
    "    - Live tracking\n",
    "    - \n",
    "- Instance vars:\n",
    "    - Hash?\n",
    "    - CRS\n",
    "    - URL/location\n",
    "    - Platform/how to read\n",
    "- Methods:\n",
    "    - Read_from_source()\n",
    "    - getInstanceDetails()\n",
    "\n",
    "*Calculation Output: generalized output containing all calculations + metadata/settings to replicate*\n",
    "- Class\n",
    "- Global vars:\n",
    "    - live_track_all\n",
    "- Instance vars:\n",
    "    - what_calculations\n",
    "    - meta_data\n",
    "- Methods:\n",
    "    - plot/visualize()\n",
    "    - get_metadata()\n",
    "    - dump_contents()\n",
    "    - regen_from_contents()\n",
    "\n",
    "Back-burner:\n",
    "- Able to load in previous instances by dumping contents to Output_Calculation?\n",
    "    - For plotting, re-analysis/re-generation, etc?\n",
    "- Do we want one ipynb run per results? Multi-tracking?\n",
    "    - Maybe not multiple instances, but we want to neatly track properties\n",
    "- Any subclasses? Private/Public\n",
    " \n",
    " \n",
    " \n",
    " #######################"
   ]
  },
  {
   "cell_type": "code",
   "execution_count": 3,
   "id": "aaa3d394-2c2e-4d04-8352-935b247d6b3c",
   "metadata": {
    "tags": []
   },
   "outputs": [
    {
     "name": "stdout",
     "output_type": "stream",
     "text": [
      "\u001b[33mWARNING: Running pip as the 'root' user can result in broken permissions and conflicting behaviour with the system package manager. It is recommended to use a virtual environment instead: https://pip.pypa.io/warnings/venv\u001b[0m\u001b[33m\n",
      "\u001b[0m"
     ]
    }
   ],
   "source": [
    "!pip install OWSLib==0.28.1 --quiet"
   ]
  },
  {
   "cell_type": "code",
   "execution_count": 55,
   "id": "241befff-a935-416b-a90a-1ce468a3f113",
   "metadata": {
    "tags": []
   },
   "outputs": [],
   "source": [
    "from owslib.ogcapi.features import Features\n",
    "import geopandas as gpd\n",
    "import datetime as dt\n",
    "from datetime import datetime, timedelta"
   ]
  },
  {
   "cell_type": "code",
   "execution_count": 56,
   "id": "a2ab0204-32d1-4840-9a3d-2ed9cced0492",
   "metadata": {
    "tags": []
   },
   "outputs": [
    {
     "data": {
      "text/plain": [
       "['public.eis_fire_lf_perimeter_nrt',\n",
       " 'public.eis_fire_lf_newfirepix_nrt',\n",
       " 'public.eis_fire_lf_fireline_archive',\n",
       " 'public.eis_fire_lf_perimeter_archive',\n",
       " 'public.eis_fire_lf_nfplist_nrt',\n",
       " 'public.eis_fire_lf_fireline_nrt',\n",
       " 'public.eis_fire_snapshot_newfirepix_nrt',\n",
       " 'public.eis_fire_lf_nfplist_archive',\n",
       " 'public.eis_fire_snapshot_fireline_nrt',\n",
       " 'public.eis_fire_lf_newfirepix_archive',\n",
       " 'public.eis_fire_fwi',\n",
       " 'public.eis_fire_snapshot_perimeter_nrt',\n",
       " 'public.st_squaregrid',\n",
       " 'public.st_hexagongrid',\n",
       " 'public.st_subdivide']"
      ]
     },
     "execution_count": 56,
     "metadata": {},
     "output_type": "execute_result"
    }
   ],
   "source": [
    "OGC_URL = \"https://firenrt.delta-backend.com\"\n",
    "\n",
    "w = Features(url=OGC_URL)\n",
    "w.feature_collections()"
   ]
  },
  {
   "cell_type": "code",
   "execution_count": 57,
   "id": "86c5622c-d79b-4b90-a79c-a37d866be1aa",
   "metadata": {
    "tags": []
   },
   "outputs": [
    {
     "name": "stdout",
     "output_type": "stream",
     "text": [
      "<class 'dict'>\n",
      "{'id': 'public.eis_fire_snapshot_perimeter_nrt', 'title': 'public.eis_fire_snapshot_perimeter_nrt', 'links': [{'href': 'https://firenrt.delta-backend.com/collections/public.eis_fire_snapshot_perimeter_nrt', 'rel': 'self', 'type': 'application/json'}, {'href': 'https://firenrt.delta-backend.com/collections/public.eis_fire_snapshot_perimeter_nrt/items', 'rel': 'items', 'type': 'application/geo+json', 'title': 'Items'}, {'href': 'https://firenrt.delta-backend.com/collections/public.eis_fire_snapshot_perimeter_nrt/items?f=csv', 'rel': 'alternate', 'type': 'text/csv', 'title': 'Items (CSV)'}, {'href': 'https://firenrt.delta-backend.com/collections/public.eis_fire_snapshot_perimeter_nrt/items?f=geojsonseq', 'rel': 'alternate', 'type': 'application/geo+json-seq', 'title': 'Items (GeoJSONSeq)'}, {'href': 'https://firenrt.delta-backend.com/collections/public.eis_fire_snapshot_perimeter_nrt/queryables', 'rel': 'queryables', 'type': 'application/schema+json', 'title': 'Queryables'}], 'extent': {'spatial': {'bbox': [[-124.7220687866211, 24.073118209838867, -61.888755798339844, 49.39781951904297]], 'crs': 'http://www.opengis.net/def/crs/OGC/1.3/CRS84'}, 'temporal': {'interval': [['2023-09-03T00:00:00+00:00', '2023-09-23T00:00:00+00:00']], 'trs': 'http://www.opengis.net/def/uom/ISO-8601/0/Gregorian'}}, 'itemType': 'feature', 'crs': ['http://www.opengis.net/def/crs/OGC/1.3/CRS84']}\n"
     ]
    }
   ],
   "source": [
    "perm = w.collection(\"public.eis_fire_snapshot_perimeter_nrt\")\n",
    "print(type(perm))\n",
    "print(perm)"
   ]
  },
  {
   "cell_type": "code",
   "execution_count": 58,
   "id": "4d4402fa-42f6-4f06-af4e-e6a89846bbf0",
   "metadata": {
    "tags": []
   },
   "outputs": [
    {
     "data": {
      "text/plain": [
       "['2023-09-03T00:00:00+00:00', '2023-09-23T00:00:00+00:00']"
      ]
     },
     "execution_count": 58,
     "metadata": {},
     "output_type": "execute_result"
    }
   ],
   "source": [
    "perm[\"extent\"][\"temporal\"][\"interval\"][0]"
   ]
  },
  {
   "cell_type": "code",
   "execution_count": 59,
   "id": "9df14f00-a9fd-410e-875d-0993e798defd",
   "metadata": {},
   "outputs": [
    {
     "name": "stdout",
     "output_type": "stream",
     "text": [
      "<class 'str'>\n",
      "Most Recent Time = 2023-09-23T00:00:00+00:00\n",
      "Last week = 2023-09-16T00:00:00+00:00\n"
     ]
    }
   ],
   "source": [
    "most_recent_time = max(*perm[\"extent\"][\"temporal\"][\"interval\"])\n",
    "print(type(most_recent_time))\n",
    "most_recent_time = max(*perm[\"extent\"][\"temporal\"][\"interval\"])\n",
    "now = dt.datetime.strptime(most_recent_time, \"%Y-%m-%dT%H:%M:%S+00:00\")\n",
    "last_week = now - dt.timedelta(weeks=1)\n",
    "last_week = dt.datetime.strftime(last_week, \"%Y-%m-%dT%H:%M:%S+00:00\")\n",
    "print(\"Most Recent Time =\", most_recent_time)\n",
    "print(\"Last week =\", last_week)"
   ]
  },
  {
   "cell_type": "code",
   "execution_count": 60,
   "id": "a2b2fda1-dc17-4d26-aa21-885dee47ed0d",
   "metadata": {
    "tags": []
   },
   "outputs": [
    {
     "name": "stdout",
     "output_type": "stream",
     "text": [
      "2023-09-16T00:00:00+00:00\n",
      "2023-09-23T00:00:00+00:00\n",
      "public.eis_fire_snapshot_perimeter_nrt ['-106.8', '24.5', '-72.9', '37.3'] ['2023-09-16T00:00:00+00:00/2023-09-23T00:00:00+00:00'] 1000\n"
     ]
    }
   ],
   "source": [
    "perm_results = w.collection_items(\n",
    "    \"public.eis_fire_snapshot_perimeter_nrt\",  # name of the dataset we want\n",
    "    bbox=[\"-106.8\", \"24.5\", \"-72.9\", \"37.3\"],  # coodrinates of bounding box,\n",
    "    datetime=[last_week + \"/\" + most_recent_time],  # date range\n",
    "    limit=1000,  # max number of items returned\n",
    "    filter=\"farea>5 AND duration>2\",  # additional filters based on queryable fields\n",
    ")\n",
    "# perm_results\n",
    "print(last_week)\n",
    "print(most_recent_time)\n",
    "\n",
    "perm_results = w.collection_items(\n",
    "    \"public.eis_fire_snapshot_perimeter_nrt\",  # name of the dataset we want\n",
    "    bbox=[\"-106.8\", \"24.5\", \"-72.9\", \"37.3\"],  # coodrinates of bounding box,\n",
    "    datetime=[last_week + \"/\" + most_recent_time],  # date range\n",
    "    limit=1000  # max number of items returned  # additional filters based on queryable fields\n",
    ")\n",
    "\n",
    "print(\"public.eis_fire_snapshot_perimeter_nrt\",  # name of the dataset we want\n",
    "      [\"-106.8\", \"24.5\", \"-72.9\", \"37.3\"],  # coodrinates of bounding box,\n",
    "     [last_week + \"/\" + most_recent_time],  # date range\n",
    "    1000)"
   ]
  },
  {
   "cell_type": "code",
   "execution_count": 61,
   "id": "30ba1497-7d4c-4aab-94e1-bc3efbd9c8ad",
   "metadata": {
    "tags": []
   },
   "outputs": [
    {
     "name": "stdout",
     "output_type": "stream",
     "text": [
      "<class 'geopandas.geodataframe.GeoDataFrame'>\n",
      "<class 'str'>\n"
     ]
    }
   ],
   "source": [
    "df = gpd.GeoDataFrame.from_features(perm_results[\"features\"])\n",
    "print(type(df))\n",
    "print(type(\"hi\"))"
   ]
  },
  {
   "cell_type": "markdown",
   "id": "8d95836b-0b19-419f-abc7-80a6ddc0d228",
   "metadata": {},
   "source": [
    "# Read NIFC Polygons from Local MAAP"
   ]
  },
  {
   "cell_type": "code",
   "execution_count": 64,
   "id": "9df95c17-790b-4aef-9829-23d56794b67e",
   "metadata": {
    "tags": []
   },
   "outputs": [],
   "source": [
    "df = gpd.read_file(\"/projects/shared-buckets/ksharonin/InterAgencyFirePerimeterHistory\")"
   ]
  },
  {
   "cell_type": "code",
   "execution_count": null,
   "id": "5de2e0ec-ed0c-431a-9c39-b724d7e9583b",
   "metadata": {},
   "outputs": [],
   "source": []
  }
 ],
 "metadata": {
  "kernelspec": {
   "display_name": "envs-feds",
   "language": "python",
   "name": "envs-feds"
  },
  "language_info": {
   "codemirror_mode": {
    "name": "ipython",
    "version": 3
   },
   "file_extension": ".py",
   "mimetype": "text/x-python",
   "name": "python",
   "nbconvert_exporter": "python",
   "pygments_lexer": "ipython3",
   "version": "3.10.6"
  }
 },
 "nbformat": 4,
 "nbformat_minor": 5
}
