{
 "cells": [
  {
   "cell_type": "markdown",
   "id": "0016dae2-188f-4b16-981c-1dc9a895666f",
   "metadata": {},
   "source": [
    "# VEDA PEC (Polygon Evaluation and Comparison) OUTLINE"
   ]
  },
  {
   "cell_type": "markdown",
   "id": "04554650-e5f6-4e0b-96c4-6d2171610271",
   "metadata": {},
   "source": [
    "Workflow:\n",
    "Input_VEDA + Input_Reference -> Output_Calculation\n",
    "\n",
    "Idea: one instance per calculation run\n",
    "Relations: Output_Calculation maps to a Input_VEDA + Input_Reference\n",
    "\n",
    "*VEDA Input: either an API or hard-passed URL to a VEDA dataset*\n",
    "- API: accessed through VEDA API (priority)\n",
    "- URL: directly passed for access (secondary due to complications)\n",
    "- Class\n",
    "- Global vars:\n",
    "    - Live track of all instances\n",
    "- Instance vars:\n",
    "    - Hash?\n",
    "    - CRS\n",
    "    - API or URL\n",
    "    - Bounding box\n",
    "    - Time\n",
    "- Methods: \n",
    "    - getInstanceDetails()\n",
    "    - \n",
    "\n",
    "*Reference Input: generalized input which we compare VEDA input to*\n",
    "- Class\n",
    "- Global vars:\n",
    "    - Live tracking\n",
    "    - \n",
    "- Instance vars:\n",
    "    - Hash?\n",
    "    - CRS\n",
    "    - URL/location\n",
    "    - Platform/how to read\n",
    "- Methods:\n",
    "    - Read_from_source()\n",
    "    - getInstanceDetails()\n",
    "\n",
    "*Calculation Output: generalized output containing all calculations + metadata/settings to replicate*\n",
    "- Class\n",
    "- Global vars:\n",
    "    - live_track_all\n",
    "- Instance vars:\n",
    "    - what_calculations\n",
    "    - meta_data\n",
    "- Methods:\n",
    "    - plot/visualize()\n",
    "    - get_metadata()\n",
    "    - dump_contents()\n",
    "    - regen_from_contents()\n",
    "\n",
    "Back-burner:\n",
    "- Able to load in previous instances by dumping contents to Output_Calculation?\n",
    "    - For plotting, re-analysis/re-generation, etc?\n",
    "- Do we want one ipynb run per results? Multi-tracking?\n",
    "    - Maybe not multiple instances, but we want to neatly track properties\n",
    "- Any subclasses? Private/Public\n",
    " "
   ]
  },
  {
   "cell_type": "markdown",
   "id": "588dc813-9e81-4a09-832a-5131f4b2fdd5",
   "metadata": {},
   "source": [
    "### TODO: Choose Time/Location"
   ]
  },
  {
   "cell_type": "code",
   "execution_count": null,
   "id": "23155501-7cbd-44a7-a1a2-65180bc19537",
   "metadata": {},
   "outputs": [],
   "source": []
  },
  {
   "cell_type": "markdown",
   "id": "21b907a7-08d4-47f6-ae66-3c8a84105312",
   "metadata": {},
   "source": [
    "### TODO: Choose VEDA input"
   ]
  },
  {
   "cell_type": "code",
   "execution_count": null,
   "id": "05101116-82aa-4e79-88aa-ca2229e69c51",
   "metadata": {},
   "outputs": [],
   "source": [
    "# select category\n",
    "# fire -> OGC_URL = \"https://firenrt.delta-backend.com\"\n",
    "\n",
    "\n",
    "# select sub type \n",
    "# fire URL -> \n",
    "# ['public.eis_fire_snapshot_fireline_nrt',\n",
    "# 'public.eis_fire_lf_fireline_archive',\n",
    " # 'public.eis_fire_lf_perimeter_archive',\n",
    " # 'public.eis_fire_snapshot_perimeter_nrt',\n",
    " # 'public.eis_fire_lf_newfirepix_nrt',\n",
    " # 'public.eis_fire_lf_nfplist_nrt',\n",
    " # 'public.eis_fire_lf_perimeter_nrt',\n",
    " # 'public.eis_fire_lf_nfplist_archive',\n",
    " # 'public.eis_fire_lf_newfirepix_archive',\n",
    " # 'public.eis_fire_snapshot_newfirepix_nrt',\n",
    " # 'public.eis_fire_lf_fireline_nrt',\n",
    " # 'public.st_squaregrid',\n",
    " # 'public.st_hexagongrid',\n",
    " # 'public.st_subdivide']\n",
    "\n",
    "\n"
   ]
  },
  {
   "cell_type": "markdown",
   "id": "0dc72d96-72bf-4e83-9273-d26ea74ce090",
   "metadata": {},
   "source": [
    "### TODO: Choose Reference Input"
   ]
  },
  {
   "cell_type": "code",
   "execution_count": null,
   "id": "caeec09f-5100-40e4-a22c-9b01aab94759",
   "metadata": {},
   "outputs": [],
   "source": []
  },
  {
   "cell_type": "code",
   "execution_count": null,
   "id": "c5016768-5315-489c-a76f-f8bf7e9e5dad",
   "metadata": {},
   "outputs": [],
   "source": []
  },
  {
   "cell_type": "markdown",
   "id": "28718d3e-dfad-4883-897e-c6841373d657",
   "metadata": {},
   "source": [
    "### TODO: Choose Output Style"
   ]
  },
  {
   "cell_type": "code",
   "execution_count": null,
   "id": "ec08b413-97f4-47ea-9370-83f2953cbed5",
   "metadata": {},
   "outputs": [],
   "source": []
  },
  {
   "cell_type": "markdown",
   "id": "c78d6dc8-14dc-451e-a7ec-63cae1929d0d",
   "metadata": {},
   "source": [
    "### TODO: Run"
   ]
  },
  {
   "cell_type": "code",
   "execution_count": null,
   "id": "8722982e-30e3-4375-aa23-c95897a4e65d",
   "metadata": {},
   "outputs": [],
   "source": []
  },
  {
   "cell_type": "markdown",
   "id": "a2561df1-581b-4e39-9d67-3401875708f7",
   "metadata": {},
   "source": [
    "### TODO: Visualize/Print Results"
   ]
  },
  {
   "cell_type": "code",
   "execution_count": null,
   "id": "cc7f1057-4bc7-460f-8f42-a0acfb472b43",
   "metadata": {},
   "outputs": [],
   "source": []
  }
 ],
 "metadata": {
  "kernelspec": {
   "display_name": "envs-feds",
   "language": "python",
   "name": "envs-feds"
  },
  "language_info": {
   "codemirror_mode": {
    "name": "ipython",
    "version": 3
   },
   "file_extension": ".py",
   "mimetype": "text/x-python",
   "name": "python",
   "nbconvert_exporter": "python",
   "pygments_lexer": "ipython3",
   "version": "3.10.6"
  }
 },
 "nbformat": 4,
 "nbformat_minor": 5
}
