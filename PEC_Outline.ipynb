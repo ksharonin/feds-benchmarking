{
 "cells": [
  {
   "cell_type": "markdown",
   "id": "0016dae2-188f-4b16-981c-1dc9a895666f",
   "metadata": {},
   "source": [
    "# VEDA PEC (Polygon Evaluation and Comparison) OUTLINE"
   ]
  },
  {
   "cell_type": "markdown",
   "id": "04554650-e5f6-4e0b-96c4-6d2171610271",
   "metadata": {},
   "source": [
    "Workflow:\n",
    "Input_VEDA + Input_Reference -> Output_Calculation\n",
    "\n",
    "Idea: one instance per calculation run\n",
    "Relations: Output_Calculation maps to a Input_VEDA + Input_Reference\n",
    "\n",
    "*VEDA Input: either an API or hard-passed URL to a VEDA dataset*\n",
    "- API: accessed through VEDA API (priority)\n",
    "- URL: directly passed for access (secondary due to complications)\n",
    "- Class\n",
    "- Global vars:\n",
    "    - Live track of all instances\n",
    "- Instance vars:\n",
    "    - Hash?\n",
    "    - CRS\n",
    "    - API or URL\n",
    "    - Bounding box\n",
    "    - Time\n",
    "- Methods: \n",
    "    - getInstanceDetails()\n",
    "    - \n",
    "\n",
    "*Reference Input: generalized input which we compare VEDA input to*\n",
    "- Class\n",
    "- Global vars:\n",
    "    - Live tracking\n",
    "    - \n",
    "- Instance vars:\n",
    "    - Hash?\n",
    "    - CRS\n",
    "    - URL/location\n",
    "    - Platform/how to read\n",
    "- Methods:\n",
    "    - Read_from_source()\n",
    "    - getInstanceDetails()\n",
    "\n",
    "*Calculation Output: generalized output containing all calculations + metadata/settings to replicate*\n",
    "- Class\n",
    "- Global vars:\n",
    "    - live_track_all\n",
    "- Instance vars:\n",
    "    - what_calculations\n",
    "    - meta_data\n",
    "- Methods:\n",
    "    - plot/visualize()\n",
    "    - get_metadata()\n",
    "    - dump_contents()\n",
    "    - regen_from_contents()\n",
    "\n",
    "Back-burner:\n",
    "- Able to load in previous instances by dumping contents to Output_Calculation?\n",
    "    - For plotting, re-analysis/re-generation, etc?\n",
    "- Do we want one ipynb run per results? Multi-tracking?\n",
    "    - Maybe not multiple instances, but we want to neatly track properties\n",
    "- Any subclasses? Private/Public\n",
    " \n",
    " \n",
    " \n",
    " #######################"
   ]
  },
  {
   "cell_type": "markdown",
   "id": "977d5478-884a-4193-9309-4910b1671b3b",
   "metadata": {},
   "source": [
    "### User Inputs for Comparison: time, bbox, VEDA set, reference set\n",
    "\n",
    "Note for inputs:\n",
    "- VEDA Input: you must specify a valid title (e.g. firenrt) and collection (e.g. public.eis_fire_lf_perimeter_archive)\n",
    "- Reference Input: as above you must specify a valid title and access method such that the proper methods are applied"
   ]
  },
  {
   "cell_type": "code",
   "execution_count": 1,
   "id": "c792e6c2-f738-403f-88eb-6c5eeecd21a2",
   "metadata": {
    "tags": []
   },
   "outputs": [],
   "source": [
    "import Utilities\n",
    "import Input_VEDA\n",
    "import Input_Reference\n",
    "import Output_Calculation\n",
    "\n",
    "from Input_VEDA import InputVEDA\n",
    "from Input_Reference import InputReference"
   ]
  },
  {
   "cell_type": "code",
   "execution_count": 2,
   "id": "23155501-7cbd-44a7-a1a2-65180bc19537",
   "metadata": {},
   "outputs": [],
   "source": [
    "# this is the ONLY thing users are intended to modify!\n",
    "# inputs for searching VEDA and nifc sets\n",
    "\n",
    "# START TIME\n",
    "year_start = 2023\n",
    "month_start = 8\n",
    "day_start = 11\n",
    "hour_start = 0\n",
    "minute_start = 0\n",
    "second_start = 0\n",
    "tz_offset_hours_start = 0\n",
    "tz_offset_minutes_start = 0\n",
    "\n",
    "# END TIME\n",
    "year_stop = 2023\n",
    "month_stop = 8\n",
    "day_stop = 14\n",
    "hour_stop = 0\n",
    "minute_stop = 0\n",
    "second_stop = 0\n",
    "tz_offset_hours_stop = 0\n",
    "tz_offset_minutes_stop = 0\n",
    "\n",
    "# BBOX FOR SEARCH - [lon, lat, lon, lat]\n",
    "search_bbox = [\"-124.52\", \"39.2\", \"-120\", \"42\"] \n",
    "\n",
    "# VEDA INPUT SETTINGS \n",
    "veda_title = \"firenrt\"\n",
    "veda_collection = \"public.eis_fire_lf_perimeter_archive\"\n",
    "veda_access_type = \"api\" # or \"local\" - NOT IMPLEMENTED\n",
    "veda_limit = 3000 # amount of features to consider for VEDA API access\n",
    "veda_filter = False # False or valid query: e.g. \"farea>5 AND duration>2\"\n",
    "\n",
    "# REFERENCE INPUT SETTINGS \n",
    "ref_title = \"nifc_local\"\n",
    "ref_access = \"defined\" # or \"custom\"\n",
    "ref_access_type = \"local\"\n",
    "ref_filter = False\n",
    "\n",
    "# OUTPUT SETTINGS"
   ]
  },
  {
   "cell_type": "markdown",
   "id": "e4f11381-5d8e-42a0-af81-14368b1aa8a2",
   "metadata": {},
   "source": [
    "### Argument Processing: format and check to report any issues\n",
    "- Note: upon instance instantiation we can also get reports back of invalidity -> any warnings/errors should be addressed"
   ]
  },
  {
   "cell_type": "code",
   "execution_count": 3,
   "id": "1322886e-5f51-4552-b428-40a6e797bacd",
   "metadata": {
    "tags": []
   },
   "outputs": [],
   "source": [
    "\n",
    "# start date formatting\n",
    "search_start = Utilities.format_datetime(year_start, \n",
    "                                         month_start, \n",
    "                                         day_start, \n",
    "                                         hour_start, \n",
    "                                         minute_start, \n",
    "                                         second_start, \n",
    "                                         tz_offset_hours_start, \n",
    "                                         tz_offset_minutes_start)\n",
    "# stop date formatting\n",
    "search_stop = Utilities.format_datetime(year_stop, \n",
    "                                        month_stop, \n",
    "                                        day_stop, \n",
    "                                        hour_stop, \n",
    "                                        minute_stop, \n",
    "                                        second_stop, \n",
    "                                        tz_offset_hours_stop, \n",
    "                                        tz_offset_minutes_stop)\n",
    "\n",
    "# bound check the bbox\n",
    "assert Utilities.check_bbox(search_bbox), f\"ERR: passed bbox {search_bbox} is not valid; check bounds\"\n"
   ]
  },
  {
   "cell_type": "markdown",
   "id": "55724f7b-8b88-41cb-a755-7b6401060831",
   "metadata": {
    "tags": []
   },
   "source": [
    "### Using Inputs: Instantiate Inputs + Calculation Output"
   ]
  },
  {
   "cell_type": "code",
   "execution_count": 4,
   "id": "2fa3c5a6-a37a-4913-b845-8e39b618e469",
   "metadata": {
    "tags": []
   },
   "outputs": [
    {
     "ename": "TypeError",
     "evalue": "'NoneType' object is not callable",
     "output_type": "error",
     "traceback": [
      "\u001b[0;31m---------------------------------------------------------------------------\u001b[0m",
      "\u001b[0;31mTypeError\u001b[0m                                 Traceback (most recent call last)",
      "Input \u001b[0;32mIn [4]\u001b[0m, in \u001b[0;36m<cell line: 2>\u001b[0;34m()\u001b[0m\n\u001b[1;32m      1\u001b[0m \u001b[38;5;66;03m# create instances to track properties\u001b[39;00m\n\u001b[0;32m----> 2\u001b[0m veda_firenrt \u001b[38;5;241m=\u001b[39m \u001b[43mInputVEDA\u001b[49m\u001b[43m(\u001b[49m\n\u001b[1;32m      3\u001b[0m \u001b[43m                 \u001b[49m\u001b[43mveda_title\u001b[49m\u001b[43m,\u001b[49m\u001b[43m \u001b[49m\n\u001b[1;32m      4\u001b[0m \u001b[43m                 \u001b[49m\u001b[43mveda_collection\u001b[49m\u001b[43m,\u001b[49m\u001b[43m \u001b[49m\n\u001b[1;32m      5\u001b[0m \u001b[43m                 \u001b[49m\u001b[43msearch_start\u001b[49m\u001b[43m,\u001b[49m\n\u001b[1;32m      6\u001b[0m \u001b[43m                 \u001b[49m\u001b[43msearch_stop\u001b[49m\u001b[43m,\u001b[49m\n\u001b[1;32m      7\u001b[0m \u001b[43m                 \u001b[49m\u001b[43msearch_bbox\u001b[49m\u001b[43m,\u001b[49m\n\u001b[1;32m      8\u001b[0m \u001b[43m                 \u001b[49m\u001b[43mveda_access_type\u001b[49m\u001b[43m,\u001b[49m\n\u001b[1;32m      9\u001b[0m \u001b[43m                 \u001b[49m\u001b[43mveda_limit\u001b[49m\u001b[43m,\u001b[49m\n\u001b[1;32m     10\u001b[0m \u001b[43m                 \u001b[49m\u001b[43mveda_filter\u001b[49m\u001b[43m,\u001b[49m\n\u001b[1;32m     11\u001b[0m \u001b[43m                \u001b[49m\u001b[43m)\u001b[49m\n\u001b[1;32m     13\u001b[0m nifc_search \u001b[38;5;241m=\u001b[39m InputReference(\n\u001b[1;32m     14\u001b[0m                  ref_title, \n\u001b[1;32m     15\u001b[0m                  search_start,\n\u001b[0;32m   (...)\u001b[0m\n\u001b[1;32m     19\u001b[0m                  ref_filter,\n\u001b[1;32m     20\u001b[0m                 )\n",
      "File \u001b[0;32m~/my-public-bucket/VEDA-PEC/Input_VEDA.py:65\u001b[0m, in \u001b[0;36mInputVEDA.__init__\u001b[0;34m(self, title, collection, usr_start, usr_stop, usr_bbox, access_type, limit, custom_filter)\u001b[0m\n\u001b[1;32m     63\u001b[0m     \u001b[38;5;28;01massert\u001b[39;00m title \u001b[38;5;129;01min\u001b[39;00m InputVEDA\u001b[38;5;241m.\u001b[39mTITLE_SETS, \u001b[38;5;124m\"\u001b[39m\u001b[38;5;124mERR INPUTVEDA: Invalid title provided\u001b[39m\u001b[38;5;124m\"\u001b[39m\n\u001b[1;32m     64\u001b[0m     \u001b[38;5;28mself\u001b[39m\u001b[38;5;241m.\u001b[39m__set_api_url()\n\u001b[0;32m---> 65\u001b[0m     \u001b[38;5;28;43mself\u001b[39;49m\u001b[38;5;241;43m.\u001b[39;49m\u001b[43m__fetch_api_collection\u001b[49m\u001b[43m(\u001b[49m\u001b[43m)\u001b[49m\n\u001b[1;32m     66\u001b[0m     \u001b[38;5;28mself\u001b[39m\u001b[38;5;241m.\u001b[39m__set_api_polygons()\n\u001b[1;32m     67\u001b[0m \u001b[38;5;28;01melse\u001b[39;00m:\n",
      "\u001b[0;31mTypeError\u001b[0m: 'NoneType' object is not callable"
     ]
    }
   ],
   "source": [
    "# create instances to track properties\n",
    "veda_firenrt = InputVEDA(\n",
    "                 veda_title, \n",
    "                 veda_collection, \n",
    "                 search_start,\n",
    "                 search_stop,\n",
    "                 search_bbox,\n",
    "                 veda_access_type,\n",
    "                 veda_limit,\n",
    "                 veda_filter,\n",
    "                )\n",
    "\n",
    "nifc_search = InputReference(\n",
    "                 ref_title, \n",
    "                 search_start,\n",
    "                 search_stop,\n",
    "                 search_bbox,\n",
    "                 ref_access_type,\n",
    "                 ref_filter,\n",
    "                )"
   ]
  },
  {
   "cell_type": "code",
   "execution_count": null,
   "id": "2cbba502-2473-4706-a471-ca21ac1f43ed",
   "metadata": {},
   "outputs": [],
   "source": []
  },
  {
   "cell_type": "markdown",
   "id": "21b907a7-08d4-47f6-ae66-3c8a84105312",
   "metadata": {},
   "source": [
    "### TODO: Choose VEDA input"
   ]
  },
  {
   "cell_type": "code",
   "execution_count": null,
   "id": "05101116-82aa-4e79-88aa-ca2229e69c51",
   "metadata": {},
   "outputs": [],
   "source": [
    "# select category\n",
    "# fire -> OGC_URL = \"https://firenrt.delta-backend.com\"\n",
    "\n",
    "\n",
    "# select sub type \n",
    "# fire URL -> \n",
    "# ['public.eis_fire_snapshot_fireline_nrt',\n",
    "# 'public.eis_fire_lf_fireline_archive',\n",
    " # 'public.eis_fire_lf_perimeter_archive',\n",
    " # 'public.eis_fire_snapshot_perimeter_nrt',\n",
    " # 'public.eis_fire_lf_newfirepix_nrt',\n",
    " # 'public.eis_fire_lf_nfplist_nrt',\n",
    " # 'public.eis_fire_lf_perimeter_nrt',\n",
    " # 'public.eis_fire_lf_nfplist_archive',\n",
    " # 'public.eis_fire_lf_newfirepix_archive',\n",
    " # 'public.eis_fire_snapshot_newfirepix_nrt',\n",
    " # 'public.eis_fire_lf_fireline_nrt',\n",
    " # 'public.st_squaregrid',\n",
    " # 'public.st_hexagongrid',\n",
    " # 'public.st_subdivide']\n",
    "\n",
    "\n"
   ]
  },
  {
   "cell_type": "markdown",
   "id": "0dc72d96-72bf-4e83-9273-d26ea74ce090",
   "metadata": {},
   "source": [
    "### TODO: Choose Reference Input"
   ]
  },
  {
   "cell_type": "code",
   "execution_count": null,
   "id": "caeec09f-5100-40e4-a22c-9b01aab94759",
   "metadata": {},
   "outputs": [],
   "source": []
  },
  {
   "cell_type": "code",
   "execution_count": null,
   "id": "c5016768-5315-489c-a76f-f8bf7e9e5dad",
   "metadata": {},
   "outputs": [],
   "source": []
  },
  {
   "cell_type": "markdown",
   "id": "28718d3e-dfad-4883-897e-c6841373d657",
   "metadata": {},
   "source": [
    "### TODO: Choose Output Style"
   ]
  },
  {
   "cell_type": "code",
   "execution_count": null,
   "id": "ec08b413-97f4-47ea-9370-83f2953cbed5",
   "metadata": {},
   "outputs": [],
   "source": []
  },
  {
   "cell_type": "markdown",
   "id": "c78d6dc8-14dc-451e-a7ec-63cae1929d0d",
   "metadata": {},
   "source": [
    "### TODO: Run"
   ]
  },
  {
   "cell_type": "code",
   "execution_count": null,
   "id": "8722982e-30e3-4375-aa23-c95897a4e65d",
   "metadata": {},
   "outputs": [],
   "source": []
  },
  {
   "cell_type": "markdown",
   "id": "a2561df1-581b-4e39-9d67-3401875708f7",
   "metadata": {},
   "source": [
    "### TODO: Visualize/Print Results"
   ]
  },
  {
   "cell_type": "code",
   "execution_count": null,
   "id": "cc7f1057-4bc7-460f-8f42-a0acfb472b43",
   "metadata": {},
   "outputs": [],
   "source": []
  }
 ],
 "metadata": {
  "kernelspec": {
   "display_name": "envs-feds",
   "language": "python",
   "name": "envs-feds"
  },
  "language_info": {
   "codemirror_mode": {
    "name": "ipython",
    "version": 3
   },
   "file_extension": ".py",
   "mimetype": "text/x-python",
   "name": "python",
   "nbconvert_exporter": "python",
   "pygments_lexer": "ipython3",
   "version": "3.10.6"
  }
 },
 "nbformat": 4,
 "nbformat_minor": 5
}
