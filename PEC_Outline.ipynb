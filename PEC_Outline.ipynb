{
 "cells": [
  {
   "cell_type": "markdown",
   "id": "0016dae2-188f-4b16-981c-1dc9a895666f",
   "metadata": {},
   "source": [
    "# VEDA PEC (Polygon Evaluation and Comparison) OUTLINE"
   ]
  },
  {
   "cell_type": "markdown",
   "id": "977d5478-884a-4193-9309-4910b1671b3b",
   "metadata": {},
   "source": [
    "### User Inputs for Comparison: time, bbox, VEDA set, reference set\n",
    "\n",
    "Note for inputs:\n",
    "- VEDA Input: you must specify a valid title (e.g. firenrt) and collection (e.g. public.eis_fire_lf_perimeter_archive)\n",
    "- Reference Input: as above you must specify a valid title and access method such that the proper methods are applied"
   ]
  },
  {
   "cell_type": "code",
   "execution_count": 1,
   "id": "c792e6c2-f738-403f-88eb-6c5eeecd21a2",
   "metadata": {
    "tags": []
   },
   "outputs": [],
   "source": [
    "import Utilities\n",
    "import Input_VEDA\n",
    "import Input_Reference\n",
    "import Output_Calculation\n",
    "\n",
    "from Input_VEDA import InputVEDA\n",
    "from Input_Reference import InputReference"
   ]
  },
  {
   "cell_type": "code",
   "execution_count": 2,
   "id": "23155501-7cbd-44a7-a1a2-65180bc19537",
   "metadata": {},
   "outputs": [],
   "source": [
    "# this is the ONLY thing users are intended to modify!\n",
    "# inputs for searching VEDA and nifc sets\n",
    "\n",
    "# START TIME\n",
    "year_start = 2023\n",
    "month_start = 8\n",
    "day_start = 11\n",
    "hour_start = 0\n",
    "minute_start = 0\n",
    "second_start = 0\n",
    "tz_offset_hours_start = 0\n",
    "tz_offset_minutes_start = 0\n",
    "utc_offset_start = '00:00'\n",
    "\n",
    "# END TIME\n",
    "year_stop = 2023\n",
    "month_stop = 8\n",
    "day_stop = 14\n",
    "hour_stop = 0\n",
    "minute_stop = 0\n",
    "second_stop = 0\n",
    "tz_offset_hours_stop = 0\n",
    "tz_offset_minutes_stop = 0\n",
    "utc_offset_stop = '00:00'\n",
    "\n",
    "# BBOX FOR SEARCH - [lon, lat, lon, lat]\n",
    "search_bbox = [\"-106.8\", \"24.5\", \"-72.9\", \"37.3\"]\n",
    "\n",
    "# VEDA INPUT SETTINGS \n",
    "veda_title = \"firenrt\"\n",
    "veda_collection =  \"public.eis_fire_lf_perimeter_archive\"\n",
    "veda_access_type = \"api\" # or \"local\" - NOT IMPLEMENTED\n",
    "veda_limit = 1000 # amount of features to consider for VEDA API access\n",
    "veda_filter = False # False or valid query: e.g. \"farea>5 AND duration>2\"\n",
    "\n",
    "# REFERENCE INPUT SETTINGS \n",
    "ref_title = \"nifc_local\"\n",
    "ref_access = \"defined\" # or \"custom\"\n",
    "ref_access_type = \"local\"\n",
    "ref_filter = False\n",
    "\n",
    "# OUTPUT SETTINGS\n",
    "# TODO"
   ]
  },
  {
   "cell_type": "markdown",
   "id": "e4f11381-5d8e-42a0-af81-14368b1aa8a2",
   "metadata": {},
   "source": [
    "### Argument Processing: format and check to report any issues\n",
    "- Note: upon instance instantiation we can also get reports back of invalidity -> any warnings/errors should be addressed"
   ]
  },
  {
   "cell_type": "code",
   "execution_count": 3,
   "id": "1322886e-5f51-4552-b428-40a6e797bacd",
   "metadata": {
    "tags": []
   },
   "outputs": [],
   "source": [
    "\n",
    "# start date formatting\n",
    "search_start = Utilities.format_datetime(year_start, \n",
    "                                         month_start, \n",
    "                                         day_start, \n",
    "                                         hour_start, \n",
    "                                         minute_start, \n",
    "                                         second_start, \n",
    "                                         tz_offset_hours_start, \n",
    "                                         tz_offset_minutes_start,\n",
    "                                         utc_offset_start)\n",
    "# stop date formatting\n",
    "search_stop = Utilities.format_datetime(year_stop, \n",
    "                                        month_stop, \n",
    "                                        day_stop, \n",
    "                                        hour_stop, \n",
    "                                        minute_stop, \n",
    "                                        second_stop, \n",
    "                                        tz_offset_hours_stop, \n",
    "                                        tz_offset_minutes_stop,\n",
    "                                        utc_offset_stop)\n",
    "\n",
    "# bound check the bbox\n",
    "assert Utilities.check_bbox(search_bbox), f\"ERR: passed bbox {search_bbox} is not valid; check bounds\"\n"
   ]
  },
  {
   "cell_type": "markdown",
   "id": "55724f7b-8b88-41cb-a755-7b6401060831",
   "metadata": {
    "tags": []
   },
   "source": [
    "### Using Inputs: Instantiate Inputs + Calculation Output"
   ]
  },
  {
   "cell_type": "code",
   "execution_count": 4,
   "id": "2fa3c5a6-a37a-4913-b845-8e39b618e469",
   "metadata": {
    "tags": []
   },
   "outputs": [],
   "source": [
    "# create instances to track properties\n",
    "veda_firenrt = InputVEDA(\n",
    "                 veda_title, \n",
    "                 veda_collection, \n",
    "                 search_start,\n",
    "                 search_stop,\n",
    "                 search_bbox,\n",
    "                 veda_access_type,\n",
    "                 veda_limit,\n",
    "                 veda_filter,\n",
    "                )\n",
    "\n",
    "nifc_search = InputReference(\n",
    "                 ref_title, \n",
    "                 search_start,\n",
    "                 search_stop,\n",
    "                 search_bbox,\n",
    "                 ref_access_type,\n",
    "                 ref_filter,\n",
    "                )\n",
    "\n",
    "# ['2023-09-15T00:00:00+00:00/2023-09-22T00:00:00+00:00'],\n",
    "# ['2023-08-11T00:00:00+00:00/+00:00/2023-08-14T00:00:00+00:00/+00:00']\n",
    "# ['2023-08-11T00:00:00/2023-08-14T00:00:00']"
   ]
  },
  {
   "cell_type": "code",
   "execution_count": null,
   "id": "2cbba502-2473-4706-a471-ca21ac1f43ed",
   "metadata": {},
   "outputs": [],
   "source": []
  },
  {
   "cell_type": "markdown",
   "id": "21b907a7-08d4-47f6-ae66-3c8a84105312",
   "metadata": {},
   "source": [
    "### TODO: Choose VEDA input"
   ]
  },
  {
   "cell_type": "code",
   "execution_count": null,
   "id": "05101116-82aa-4e79-88aa-ca2229e69c51",
   "metadata": {},
   "outputs": [],
   "source": [
    "# select category\n",
    "# fire -> OGC_URL = \"https://firenrt.delta-backend.com\"\n",
    "\n",
    "\n",
    "# select sub type \n",
    "# fire URL -> \n",
    "# ['public.eis_fire_snapshot_fireline_nrt',\n",
    "# 'public.eis_fire_lf_fireline_archive',\n",
    " # 'public.eis_fire_lf_perimeter_archive',\n",
    " # 'public.eis_fire_snapshot_perimeter_nrt',\n",
    " # 'public.eis_fire_lf_newfirepix_nrt',\n",
    " # 'public.eis_fire_lf_nfplist_nrt',\n",
    " # 'public.eis_fire_lf_perimeter_nrt',\n",
    " # 'public.eis_fire_lf_nfplist_archive',\n",
    " # 'public.eis_fire_lf_newfirepix_archive',\n",
    " # 'public.eis_fire_snapshot_newfirepix_nrt',\n",
    " # 'public.eis_fire_lf_fireline_nrt',\n",
    " # 'public.st_squaregrid',\n",
    " # 'public.st_hexagongrid',\n",
    " # 'public.st_subdivide']\n",
    "\n",
    "\n"
   ]
  },
  {
   "cell_type": "markdown",
   "id": "0dc72d96-72bf-4e83-9273-d26ea74ce090",
   "metadata": {},
   "source": [
    "### TODO: Choose Reference Input"
   ]
  },
  {
   "cell_type": "code",
   "execution_count": null,
   "id": "caeec09f-5100-40e4-a22c-9b01aab94759",
   "metadata": {},
   "outputs": [],
   "source": []
  },
  {
   "cell_type": "code",
   "execution_count": null,
   "id": "c5016768-5315-489c-a76f-f8bf7e9e5dad",
   "metadata": {},
   "outputs": [],
   "source": []
  },
  {
   "cell_type": "markdown",
   "id": "28718d3e-dfad-4883-897e-c6841373d657",
   "metadata": {},
   "source": [
    "### TODO: Choose Output Style"
   ]
  },
  {
   "cell_type": "code",
   "execution_count": null,
   "id": "ec08b413-97f4-47ea-9370-83f2953cbed5",
   "metadata": {},
   "outputs": [],
   "source": []
  },
  {
   "cell_type": "markdown",
   "id": "c78d6dc8-14dc-451e-a7ec-63cae1929d0d",
   "metadata": {},
   "source": [
    "### TODO: Run"
   ]
  },
  {
   "cell_type": "code",
   "execution_count": null,
   "id": "8722982e-30e3-4375-aa23-c95897a4e65d",
   "metadata": {},
   "outputs": [],
   "source": []
  },
  {
   "cell_type": "markdown",
   "id": "a2561df1-581b-4e39-9d67-3401875708f7",
   "metadata": {},
   "source": [
    "### TODO: Visualize/Print Results"
   ]
  },
  {
   "cell_type": "code",
   "execution_count": null,
   "id": "cc7f1057-4bc7-460f-8f42-a0acfb472b43",
   "metadata": {},
   "outputs": [],
   "source": []
  }
 ],
 "metadata": {
  "kernelspec": {
   "display_name": "envs-feds",
   "language": "python",
   "name": "envs-feds"
  },
  "language_info": {
   "codemirror_mode": {
    "name": "ipython",
    "version": 3
   },
   "file_extension": ".py",
   "mimetype": "text/x-python",
   "name": "python",
   "nbconvert_exporter": "python",
   "pygments_lexer": "ipython3",
   "version": "3.10.6"
  }
 },
 "nbformat": 4,
 "nbformat_minor": 5
}
