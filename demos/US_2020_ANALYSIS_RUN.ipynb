{
 "cells": [
  {
   "cell_type": "markdown",
   "id": "0016dae2-188f-4b16-981c-1dc9a895666f",
   "metadata": {},
   "source": [
    "# Demo: United States 2018-2020 Archive Analysis Run"
   ]
  },
  {
   "cell_type": "markdown",
   "id": "b4d39a19-4c1a-4df9-bc88-379bc9c72a05",
   "metadata": {},
   "source": [
    "### Summary\n",
    "\n",
    "This notebook demonstrates an Object Oriented Programming (OOP) implementation of a benchmarking system to compare a FEDS fire perimeter against other fire perimeter data sources, and then store in an output object. \n",
    "\n",
    "*This particularly demonstrates ability to iterate over all available FEDS and create mass analysis results*\n",
    "\n",
    "NOTE: This notebook was run in 1-2 month intervals due to the FEDS API item limit. For your range, if you recieve an error on the limit, try to reduce your time window. A year will need to be broken into ~8-10 intervals \n",
    "\n",
    "Sources for demonstration:\n",
    "- FEDS archived perimeters, labeled as `\"public.eis_fire_lf_perimeter_archive\"`\n",
    "- NIFC historic perimeters, labeled as `\"nifc_interagency_history_local\"`\n",
    "\n",
    "The FEDS input and reference input can use either a pre-defined setting or can accept (valid) user-written paths to shape files. \n",
    "- For Input all settings, please see **section INPUT SETTINGS of README.md**  \n",
    "- Output settings can also be modified to control if calculations are printed, plotted, and/or stored into a file (with location and file type of choice); for more detail on outputs please see **section OUTPUT SETTINGS of README.md**\n",
    "\n",
    "#### Motivation \n",
    "FEDS-PEC eliminates the need for users to recreate/repeat solutions when conducting geospatial data evaluations. By leveraging this module, researchers and analysts can quickly and efficiently compare the FEDS fireperimeter dataset against a reference data set of their choosing. Users can focus their efforts on dataset selection and analysis, rather than spending time implementing and testing software for comparisons and calculations."
   ]
  },
  {
   "cell_type": "markdown",
   "id": "977d5478-884a-4193-9309-4910b1671b3b",
   "metadata": {},
   "source": [
    "### User Inputs for Comparison: time, bbox, FEDS set, reference set\n",
    "\n",
    "Note for inputs:\n",
    "\n",
    "FEDS Input: you must specify a valid title (e.g. firenrt) and collection (e.g. public.eis_fire_lf_perimeter_archive) according to documentation. Please see **section INPUT SETTINGS of README.md** for valid titles and corresponding collections\n",
    "\n",
    "Reference Input: See **section INPUT SETTINGS of README.md** for valid titles and corresponding collections"
   ]
  },
  {
   "cell_type": "code",
   "execution_count": 1,
   "id": "c792e6c2-f738-403f-88eb-6c5eeecd21a2",
   "metadata": {
    "tags": []
   },
   "outputs": [],
   "source": [
    "import sys\n",
    "sys.path.append('../') # local path append\n",
    "\n",
    "import Utilities\n",
    "import Input_FEDS\n",
    "import Input_Reference\n",
    "import Output_Calculation\n",
    "\n",
    "from Input_FEDS import InputFEDS\n",
    "from Input_Reference import InputReference\n",
    "from Output_Calculation import OutputCalculation\n",
    "from Utilities import *"
   ]
  },
  {
   "cell_type": "code",
   "execution_count": 2,
   "id": "7d5e7e8f-4d16-459e-b9b1-aec32a5a6b8d",
   "metadata": {},
   "outputs": [],
   "source": [
    "# this is the ONLY thing users are intended to modify!\n",
    "# inputs for searching FEDS and nifc sets\n",
    "\n",
    "# START TIME\n",
    "year_start = 2018\n",
    "month_start = 3 # 6\n",
    "day_start = 1 # 1\n",
    "hour_start = 0\n",
    "minute_start = 0\n",
    "second_start = 0\n",
    "tz_offset_hours_start = 0\n",
    "tz_offset_minutes_start = 0\n",
    "utc_offset_start = '00:00'\n",
    "\n",
    "# END TIME\n",
    "year_stop = 2018\n",
    "month_stop = 4\n",
    "day_stop = 30\n",
    "hour_stop = 0\n",
    "minute_stop = 0\n",
    "second_stop = 0\n",
    "tz_offset_hours_stop = 0\n",
    "tz_offset_minutes_stop = 0\n",
    "utc_offset_stop = '00:00'\n",
    "\n",
    "# CRS - 4326 RECOMMENDED FEDS FIRE PERIM DEFAULT\n",
    "crs = 3857 # 4326\n",
    "\n",
    "# BBOX FOR SEARCH - [lon, lat, lon, lat]\n",
    "search_bbox = [\"-125.0\", \"24.396308\", \"-66.93457\", \"49.384358\"] \n",
    "\n",
    "day_search_range = 7 # acceptable distance to search from feds -> reference (e.g. if refernce polygon is 8 days away, it is not included in calculations)\n",
    "\n",
    "# FEDS INPUT SETTINGS  # [Change to FEDS Input settings]\n",
    "feds_title = \"firenrt\"\n",
    "feds_collection =  \"public.eis_fire_lf_perimeter_archive\"\n",
    "feds_access_type = \"api\"\n",
    "feds_limit = 9000 # amount of features to consider for FEDS API access; warning appears if it misses any entries\n",
    "feds_filter = False\n",
    "feds_apply_finalfire = True \n",
    "\n",
    "# REFERENCE INPUT SETTINGS \n",
    "ref_title = \"InterAgencyFirePerimeterHistory_All_Years_View\"# \"nifc_interagency_history_local\" # this is a predefined set example\n",
    "ref_control_type = \"defined\" # or \"custom\"\n",
    "ref_custom_url = \"none\" # not custom for demo\n",
    "ref_custom_read_type = \"none\"  # not custom for demo\n",
    "ref_filter = False # False or a valid query\n",
    "\n",
    "# OUTPUT SETTINGS - User discretion advised for path functionality\n",
    "print_on = True\n",
    "plot_on = True\n",
    "name_for_output_file = \"2018_marapril_analysis\"\n",
    "output_format = \"csv\"\n",
    "user_path = \"/projects/my-public-bucket/VEDA-PEC/results\"\n",
    "output_maap_url = f\"{user_path}/{name_for_output_file}.{output_format}\""
   ]
  },
  {
   "cell_type": "markdown",
   "id": "e4f11381-5d8e-42a0-af81-14368b1aa8a2",
   "metadata": {},
   "source": [
    "### Argument Processing: format and check to report any issues\n",
    "- Note: upon instance instantiation we can also get reports back of invalidity -> any warnings/errors should be addressed"
   ]
  },
  {
   "cell_type": "code",
   "execution_count": 3,
   "id": "1322886e-5f51-4552-b428-40a6e797bacd",
   "metadata": {
    "tags": []
   },
   "outputs": [],
   "source": [
    "\n",
    "# start date formatting\n",
    "search_start = Utilities.format_datetime(year_start, \n",
    "                                         month_start, \n",
    "                                         day_start, \n",
    "                                         hour_start, \n",
    "                                         minute_start, \n",
    "                                         second_start, \n",
    "                                         tz_offset_hours_start, \n",
    "                                         tz_offset_minutes_start,\n",
    "                                         utc_offset_start)\n",
    "# stop date formatting\n",
    "search_stop = Utilities.format_datetime(year_stop, \n",
    "                                        month_stop, \n",
    "                                        day_stop, \n",
    "                                        hour_stop, \n",
    "                                        minute_stop, \n",
    "                                        second_stop, \n",
    "                                        tz_offset_hours_stop, \n",
    "                                        tz_offset_minutes_stop,\n",
    "                                        utc_offset_stop)\n",
    "\n",
    "# bound check the bbox\n",
    "assert Utilities.check_bbox(search_bbox), f\"ERR: passed bbox {search_bbox} is not valid; check bounds\"\n",
    "assert  Utilities.check_crs(crs), f\"ERR: invalid crs provided {crs}; please enter valid ESPG CRS number\""
   ]
  },
  {
   "cell_type": "markdown",
   "id": "55724f7b-8b88-41cb-a755-7b6401060831",
   "metadata": {
    "tags": []
   },
   "source": [
    "### Using Inputs: Instantiate Inputs + Calculation Output\n",
    "\n",
    "With our inputs, we are ready to start; run this to get the program to fetch the FEDS candidates in the provided time/location window, along with an intersecting NIFC in the specific day range\n",
    "\n",
    "In this case, we get the latest object of FEDS in the kincade zone + its NIFC closest match, which is about 6 days away and heavily intersecting"
   ]
  },
  {
   "cell_type": "code",
   "execution_count": null,
   "id": "2fa3c5a6-a37a-4913-b845-8e39b618e469",
   "metadata": {
    "tags": []
   },
   "outputs": [
    {
     "name": "stdout",
     "output_type": "stream",
     "text": [
      "You may see an ERROR 1 occur; ignore this unless block throws actual exception...\n"
     ]
    },
    {
     "name": "stderr",
     "output_type": "stream",
     "text": [
      "Running FEDS-Reference Match Algorithm:  25%|██▌       | 19/75 [00:15<00:45,  1.23polygon/s]"
     ]
    }
   ],
   "source": [
    "# create instances to track properties\n",
    "print('You may see an ERROR 1 occur; ignore this unless block throws actual exception...')\n",
    "\n",
    "feds_firenrt = InputFEDS(\n",
    "                 feds_title, \n",
    "                 feds_collection, \n",
    "                 search_start,\n",
    "                 search_stop,\n",
    "                 search_bbox,\n",
    "                 crs,\n",
    "                 feds_access_type,\n",
    "                 feds_limit,\n",
    "                 feds_filter,\n",
    "                 feds_apply_finalfire\n",
    "                )\n",
    "\n",
    "nifc_search = InputReference( \n",
    "                 search_start,\n",
    "                 search_stop,\n",
    "                 search_bbox,\n",
    "                 crs,\n",
    "                 ref_title,\n",
    "                 ref_control_type,\n",
    "                 ref_custom_url,\n",
    "                 ref_custom_read_type,\n",
    "                 ref_filter,\n",
    "                )\n",
    "\n",
    "my_output = OutputCalculation(\n",
    "                feds_firenrt,\n",
    "                nifc_search,\n",
    "                output_format, \n",
    "                output_maap_url,\n",
    "                day_search_range,\n",
    "                print_on,\n",
    "                plot_on\n",
    "                )"
   ]
  },
  {
   "cell_type": "markdown",
   "id": "010e990d-3c39-42d5-a0e8-bb4540bef9a2",
   "metadata": {
    "tags": []
   },
   "source": [
    "### Tif Analysis on Symmetric Difference Matches (Exceeding Areas of FEDS over Reference)\n",
    "\n",
    "This function built into the Output Class demonstrates research application uses of FEDS-PEC\n",
    "\n",
    "Given the output matches, give a tif path, calculations of interest, and optional time (in days) limit. This will return associated TIF values for the symmetric difference of FEDS over the reference (FEDS - reference)"
   ]
  },
  {
   "cell_type": "code",
   "execution_count": 7,
   "id": "b981d506-38c6-4242-9a80-82b9b0a88885",
   "metadata": {
    "tags": []
   },
   "outputs": [
    {
     "name": "stdout",
     "output_type": "stream",
     "text": [
      "Unexpected exception formatting exception. Falling back to standard exception\n"
     ]
    },
    {
     "name": "stderr",
     "output_type": "stream",
     "text": [
      "Traceback (most recent call last):\n",
      "  File \"/projects/env-feds/lib/python3.10/site-packages/IPython/core/interactiveshell.py\", line 3398, in run_code\n",
      "    exec(code_obj, self.user_global_ns, self.user_ns)\n",
      "  File \"/tmp/ipykernel_6817/2057555503.py\", line 3, in <cell line: 3>\n",
      "    get_res = my_output.tif_analysis(tif_path, \"MEDIAN\", 10)\n",
      "  File \"/projects/my-public-bucket/VEDA-PEC/demos/../Output_Calculation.py\", line 583, in tif_analysis\n",
      "    feds_time = datetime.strptime(feds_inst.t.values[0], \"%Y-%m-%dT%H:%M:%S\")\n",
      "  File \"/projects/my-public-bucket/VEDA-PEC/demos/../Output_Calculation.py\", line 337, in get_nearest_by_date\n",
      "ValueError: min() arg is an empty sequence\n",
      "\n",
      "During handling of the above exception, another exception occurred:\n",
      "\n",
      "Traceback (most recent call last):\n",
      "  File \"/projects/env-feds/lib/python3.10/site-packages/IPython/core/interactiveshell.py\", line 1993, in showtraceback\n",
      "    stb = self.InteractiveTB.structured_traceback(\n",
      "  File \"/projects/env-feds/lib/python3.10/site-packages/IPython/core/ultratb.py\", line 1118, in structured_traceback\n",
      "    return FormattedTB.structured_traceback(\n",
      "  File \"/projects/env-feds/lib/python3.10/site-packages/IPython/core/ultratb.py\", line 1012, in structured_traceback\n",
      "    return VerboseTB.structured_traceback(\n",
      "  File \"/projects/env-feds/lib/python3.10/site-packages/IPython/core/ultratb.py\", line 865, in structured_traceback\n",
      "    formatted_exception = self.format_exception_as_a_whole(etype, evalue, etb, number_of_lines_of_context,\n",
      "  File \"/projects/env-feds/lib/python3.10/site-packages/IPython/core/ultratb.py\", line 818, in format_exception_as_a_whole\n",
      "    frames.append(self.format_record(r))\n",
      "  File \"/projects/env-feds/lib/python3.10/site-packages/IPython/core/ultratb.py\", line 736, in format_record\n",
      "    result += ''.join(_format_traceback_lines(frame_info.lines, Colors, self.has_colors, lvals))\n",
      "  File \"/projects/env-feds/lib/python3.10/site-packages/stack_data/utils.py\", line 145, in cached_property_wrapper\n",
      "    value = obj.__dict__[self.func.__name__] = self.func(obj)\n",
      "  File \"/projects/env-feds/lib/python3.10/site-packages/stack_data/core.py\", line 734, in lines\n",
      "    pieces = self.included_pieces\n",
      "  File \"/projects/env-feds/lib/python3.10/site-packages/stack_data/utils.py\", line 145, in cached_property_wrapper\n",
      "    value = obj.__dict__[self.func.__name__] = self.func(obj)\n",
      "  File \"/projects/env-feds/lib/python3.10/site-packages/stack_data/core.py\", line 681, in included_pieces\n",
      "    pos = scope_pieces.index(self.executing_piece)\n",
      "  File \"/projects/env-feds/lib/python3.10/site-packages/stack_data/utils.py\", line 145, in cached_property_wrapper\n",
      "    value = obj.__dict__[self.func.__name__] = self.func(obj)\n",
      "  File \"/projects/env-feds/lib/python3.10/site-packages/stack_data/core.py\", line 660, in executing_piece\n",
      "    return only(\n",
      "  File \"/projects/env-feds/lib/python3.10/site-packages/executing/executing.py\", line 164, in only\n",
      "    raise NotOneValueFound('Expected one value, found 0')\n",
      "executing.executing.NotOneValueFound: Expected one value, found 0\n"
     ]
    }
   ],
   "source": [
    "tif_path = \"/projects/shared-buckets/ksharonin/tif_files/slopeLF/LC20_SlpD_220.tif\"\n",
    "\n",
    "get_res = my_output.tif_analysis(tif_path, \"MEDIAN\", 10)"
   ]
  },
  {
   "cell_type": "markdown",
   "id": "134fdd2d-2bc4-4d92-b25b-9991605dab0c",
   "metadata": {
    "tags": []
   },
   "source": [
    "### Export Polygons\n",
    "\n",
    "Provide a path along with polygons, and then call on the `export_polygons` method for your OutputCalculation object"
   ]
  },
  {
   "cell_type": "code",
   "execution_count": null,
   "id": "30ab55a2-0785-4c1c-ac0a-67788b5210e9",
   "metadata": {
    "tags": []
   },
   "outputs": [],
   "source": [
    "# name your file\n",
    "shp_file_name = \"feds_used\"\n",
    "# resuses the same dir as the csv export \n",
    "output_shp_path = f\"{user_path}/{shp_file_name}.shp\"\n",
    "\n",
    "my_output.export_polygons(feds_firenrt.polygons, output_shp_path)"
   ]
  }
 ],
 "metadata": {
  "kernelspec": {
   "display_name": "envs-feds",
   "language": "python",
   "name": "envs-feds"
  },
  "language_info": {
   "codemirror_mode": {
    "name": "ipython",
    "version": 3
   },
   "file_extension": ".py",
   "mimetype": "text/x-python",
   "name": "python",
   "nbconvert_exporter": "python",
   "pygments_lexer": "ipython3",
   "version": "3.10.6"
  }
 },
 "nbformat": 4,
 "nbformat_minor": 5
}
