{
 "cells": [
  {
   "cell_type": "markdown",
   "id": "0016dae2-188f-4b16-981c-1dc9a895666f",
   "metadata": {},
   "source": [
    "# Demo: United States 2020 Archive Analysis Run"
   ]
  },
  {
   "cell_type": "markdown",
   "id": "b4d39a19-4c1a-4df9-bc88-379bc9c72a05",
   "metadata": {},
   "source": [
    "### Summary\n",
    "\n",
    "This notebook demonstrates an Object Oriented Programming (OOP) implementation of a benchmarking system to compare a FEDS fire perimeter against other fire perimeter data sources, and then store in an output object. \n",
    "\n",
    "*This particularly demonstrates ability to iterate over all available FEDS and create mass analysis results*\n",
    "\n",
    "NOTE: This notebook was run in 1-2 month intervals due to the FEDS API item limit. For your range, if you recieve an error on the limit, try to reduce your time window. A year will need to be broken into ~8-10 intervals \n",
    "\n",
    "Sources for demonstration:\n",
    "- FEDS archived perimeters, labeled as `\"public.eis_fire_lf_perimeter_archive\"`\n",
    "- NIFC historic perimeters, labeled as `\"nifc_interagency_history_local\"`\n",
    "\n",
    "The FEDS input and reference input can use either a pre-defined setting or can accept (valid) user-written paths to shape files. \n",
    "- For Input all settings, please see **section INPUT SETTINGS of README.md**  \n",
    "- Output settings can also be modified to control if calculations are printed, plotted, and/or stored into a file (with location and file type of choice); for more detail on outputs please see **section OUTPUT SETTINGS of README.md**\n",
    "\n",
    "#### Motivation \n",
    "FEDS-PEC eliminates the need for users to recreate/repeat solutions when conducting geospatial data evaluations. By leveraging this module, researchers and analysts can quickly and efficiently compare the FEDS fireperimeter dataset against a reference data set of their choosing. Users can focus their efforts on dataset selection and analysis, rather than spending time implementing and testing software for comparisons and calculations."
   ]
  },
  {
   "cell_type": "markdown",
   "id": "977d5478-884a-4193-9309-4910b1671b3b",
   "metadata": {},
   "source": [
    "### User Inputs for Comparison: time, bbox, FEDS set, reference set\n",
    "\n",
    "Note for inputs:\n",
    "\n",
    "FEDS Input: you must specify a valid title (e.g. firenrt) and collection (e.g. public.eis_fire_lf_perimeter_archive) according to documentation. Please see **section INPUT SETTINGS of README.md** for valid titles and corresponding collections\n",
    "\n",
    "Reference Input: See **section INPUT SETTINGS of README.md** for valid titles and corresponding collections"
   ]
  },
  {
   "cell_type": "code",
   "execution_count": 1,
   "id": "c792e6c2-f738-403f-88eb-6c5eeecd21a2",
   "metadata": {
    "tags": []
   },
   "outputs": [],
   "source": [
    "import sys\n",
    "sys.path.append('../') # local path append\n",
    "\n",
    "import Utilities\n",
    "import Input_FEDS\n",
    "import Input_Reference\n",
    "import Output_Calculation\n",
    "\n",
    "from Input_FEDS import InputFEDS\n",
    "from Input_Reference import InputReference\n",
    "from Output_Calculation import OutputCalculation\n",
    "from Utilities import *"
   ]
  },
  {
   "cell_type": "code",
   "execution_count": 2,
   "id": "7d5e7e8f-4d16-459e-b9b1-aec32a5a6b8d",
   "metadata": {},
   "outputs": [],
   "source": [
    "# this is the ONLY thing users are intended to modify!\n",
    "# inputs for searching FEDS and nifc sets\n",
    "\n",
    "# START TIME\n",
    "year_start = 2020\n",
    "month_start = 9 # 6\n",
    "day_start = 1 # 1\n",
    "hour_start = 0\n",
    "minute_start = 0\n",
    "second_start = 0\n",
    "tz_offset_hours_start = 0\n",
    "tz_offset_minutes_start = 0\n",
    "utc_offset_start = '00:00'\n",
    "\n",
    "# END TIME\n",
    "year_stop = 2020\n",
    "month_stop = 9\n",
    "day_stop = 30\n",
    "hour_stop = 0\n",
    "minute_stop = 0\n",
    "second_stop = 0\n",
    "tz_offset_hours_stop = 0\n",
    "tz_offset_minutes_stop = 0\n",
    "utc_offset_stop = '00:00'\n",
    "\n",
    "# CRS - 4326 RECOMMENDED FEDS FIRE PERIM DEFAULT\n",
    "crs = 3857 # 4326\n",
    "\n",
    "# BBOX FOR SEARCH - [lon, lat, lon, lat]\n",
    "search_bbox = [\"-125.0\", \"24.396308\", \"-66.93457\", \"49.384358\"] \n",
    "\n",
    "day_search_range = 7 # acceptable distance to search from feds -> reference (e.g. if refernce polygon is 8 days away, it is not included in calculations)\n",
    "\n",
    "# FEDS INPUT SETTINGS  # [Change to FEDS Input settings]\n",
    "feds_title = \"firenrt\"\n",
    "feds_collection =  \"public.eis_fire_lf_perimeter_archive\"\n",
    "feds_access_type = \"api\"\n",
    "feds_limit = 9000 # amount of features to consider for FEDS API access; warning appears if it misses any entries\n",
    "feds_filter = False\n",
    "feds_apply_finalfire = True \n",
    "\n",
    "# REFERENCE INPUT SETTINGS \n",
    "ref_title = \"InterAgencyFirePerimeterHistory_All_Years_View\"# \"nifc_interagency_history_local\" # this is a predefined set example\n",
    "ref_control_type = \"defined\" # or \"custom\"\n",
    "ref_custom_url = \"none\" # not custom for demo\n",
    "ref_custom_read_type = \"none\"  # not custom for demo\n",
    "ref_filter = False # False or a valid query\n",
    "\n",
    "# OUTPUT SETTINGS - User discretion advised for path functionality\n",
    "print_on = True\n",
    "plot_on = True\n",
    "name_for_output_file = \"rerun_2020_sept_analysis\"\n",
    "output_format = \"csv\"\n",
    "user_path = \"/projects/my-public-bucket/VEDA-PEC/results\"\n",
    "output_maap_url = f\"{user_path}/{name_for_output_file}.{output_format}\""
   ]
  },
  {
   "cell_type": "markdown",
   "id": "e4f11381-5d8e-42a0-af81-14368b1aa8a2",
   "metadata": {},
   "source": [
    "### Argument Processing: format and check to report any issues\n",
    "- Note: upon instance instantiation we can also get reports back of invalidity -> any warnings/errors should be addressed"
   ]
  },
  {
   "cell_type": "code",
   "execution_count": 3,
   "id": "1322886e-5f51-4552-b428-40a6e797bacd",
   "metadata": {
    "tags": []
   },
   "outputs": [],
   "source": [
    "\n",
    "# start date formatting\n",
    "search_start = Utilities.format_datetime(year_start, \n",
    "                                         month_start, \n",
    "                                         day_start, \n",
    "                                         hour_start, \n",
    "                                         minute_start, \n",
    "                                         second_start, \n",
    "                                         tz_offset_hours_start, \n",
    "                                         tz_offset_minutes_start,\n",
    "                                         utc_offset_start)\n",
    "# stop date formatting\n",
    "search_stop = Utilities.format_datetime(year_stop, \n",
    "                                        month_stop, \n",
    "                                        day_stop, \n",
    "                                        hour_stop, \n",
    "                                        minute_stop, \n",
    "                                        second_stop, \n",
    "                                        tz_offset_hours_stop, \n",
    "                                        tz_offset_minutes_stop,\n",
    "                                        utc_offset_stop)\n",
    "\n",
    "# bound check the bbox\n",
    "assert Utilities.check_bbox(search_bbox), f\"ERR: passed bbox {search_bbox} is not valid; check bounds\"\n",
    "assert  Utilities.check_crs(crs), f\"ERR: invalid crs provided {crs}; please enter valid ESPG CRS number\""
   ]
  },
  {
   "cell_type": "markdown",
   "id": "55724f7b-8b88-41cb-a755-7b6401060831",
   "metadata": {
    "tags": []
   },
   "source": [
    "### Using Inputs: Instantiate Inputs + Calculation Output\n",
    "\n",
    "With our inputs, we are ready to start; run this to get the program to fetch the FEDS candidates in the provided time/location window, along with an intersecting NIFC in the specific day range\n",
    "\n",
    "In this case, we get the latest object of FEDS in the kincade zone + its NIFC closest match, which is about 6 days away and heavily intersecting"
   ]
  },
  {
   "cell_type": "code",
   "execution_count": null,
   "id": "2fa3c5a6-a37a-4913-b845-8e39b618e469",
   "metadata": {
    "tags": []
   },
   "outputs": [
    {
     "name": "stdout",
     "output_type": "stream",
     "text": [
      "You may see an ERROR 1 occur; ignore this unless block throws actual exception...\n"
     ]
    },
    {
     "name": "stderr",
     "output_type": "stream",
     "text": [
      "ERROR 1: PROJ: proj_create_from_database: Open of /projects/env-feds/share/proj failed\n",
      "Running FEDS-Reference Match Algorithm:   1%|▏         | 3/213 [00:54<1:03:10, 18.05s/polygon]"
     ]
    },
    {
     "name": "stdout",
     "output_type": "stream",
     "text": [
      "FAILED TIME WINDOW: No matching dates found even with provided day search range window: 7, critical benchmarking failure. \n",
      "Due to failing window, use first intersection as value \n"
     ]
    },
    {
     "name": "stderr",
     "output_type": "stream",
     "text": [
      "Running FEDS-Reference Match Algorithm:   3%|▎         | 6/213 [01:48<1:02:30, 18.12s/polygon]"
     ]
    },
    {
     "name": "stdout",
     "output_type": "stream",
     "text": [
      "FAILED TIME WINDOW: No matching dates found even with provided day search range window: 7, critical benchmarking failure. \n",
      "Due to failing window, use first intersection as value \n"
     ]
    },
    {
     "name": "stderr",
     "output_type": "stream",
     "text": [
      "Running FEDS-Reference Match Algorithm:   3%|▎         | 7/213 [02:07<1:02:50, 18.30s/polygon]"
     ]
    },
    {
     "name": "stdout",
     "output_type": "stream",
     "text": [
      "FAILED TIME WINDOW: No matching dates found even with provided day search range window: 7, critical benchmarking failure. \n",
      "Due to failing window, use first intersection as value \n"
     ]
    },
    {
     "name": "stderr",
     "output_type": "stream",
     "text": [
      "Running FEDS-Reference Match Algorithm:   8%|▊         | 16/213 [04:51<1:00:00, 18.28s/polygon]"
     ]
    },
    {
     "name": "stdout",
     "output_type": "stream",
     "text": [
      "FAILED TIME WINDOW: No matching dates found even with provided day search range window: 7, critical benchmarking failure. \n",
      "Due to failing window, use first intersection as value \n"
     ]
    },
    {
     "name": "stderr",
     "output_type": "stream",
     "text": [
      "Running FEDS-Reference Match Algorithm:  14%|█▎        | 29/213 [08:49<56:09, 18.31s/polygon]  "
     ]
    },
    {
     "name": "stdout",
     "output_type": "stream",
     "text": [
      "FAILED TIME WINDOW: No matching dates found even with provided day search range window: 7, critical benchmarking failure. \n",
      "Due to failing window, use first intersection as value \n"
     ]
    },
    {
     "name": "stderr",
     "output_type": "stream",
     "text": [
      "Running FEDS-Reference Match Algorithm:  15%|█▍        | 31/213 [09:26<55:53, 18.42s/polygon]"
     ]
    },
    {
     "name": "stdout",
     "output_type": "stream",
     "text": [
      "FAILED TIME WINDOW: No matching dates found even with provided day search range window: 7, critical benchmarking failure. \n",
      "Due to failing window, use first intersection as value \n"
     ]
    },
    {
     "name": "stderr",
     "output_type": "stream",
     "text": [
      "Running FEDS-Reference Match Algorithm:  15%|█▌        | 33/213 [10:06<57:40, 19.23s/polygon]"
     ]
    },
    {
     "name": "stdout",
     "output_type": "stream",
     "text": [
      "FAILED TIME WINDOW: No matching dates found even with provided day search range window: 7, critical benchmarking failure. \n",
      "Due to failing window, use first intersection as value \n"
     ]
    },
    {
     "name": "stderr",
     "output_type": "stream",
     "text": [
      "Running FEDS-Reference Match Algorithm:  16%|█▌        | 34/213 [10:24<56:35, 18.97s/polygon]"
     ]
    },
    {
     "name": "stdout",
     "output_type": "stream",
     "text": [
      "FAILED TIME WINDOW: No matching dates found even with provided day search range window: 7, critical benchmarking failure. \n",
      "Due to failing window, use first intersection as value \n"
     ]
    },
    {
     "name": "stderr",
     "output_type": "stream",
     "text": [
      "Running FEDS-Reference Match Algorithm:  17%|█▋        | 36/213 [11:01<55:03, 18.66s/polygon]"
     ]
    }
   ],
   "source": [
    "# create instances to track properties\n",
    "print('You may see an ERROR 1 occur; ignore this unless block throws actual exception...')\n",
    "\n",
    "feds_firenrt = InputFEDS(\n",
    "                 feds_title, \n",
    "                 feds_collection, \n",
    "                 search_start,\n",
    "                 search_stop,\n",
    "                 search_bbox,\n",
    "                 crs,\n",
    "                 feds_access_type,\n",
    "                 feds_limit,\n",
    "                 feds_filter,\n",
    "                 feds_apply_finalfire\n",
    "                )\n",
    "\n",
    "nifc_search = InputReference( \n",
    "                 search_start,\n",
    "                 search_stop,\n",
    "                 search_bbox,\n",
    "                 crs,\n",
    "                 ref_title,\n",
    "                 ref_control_type,\n",
    "                 ref_custom_url,\n",
    "                 ref_custom_read_type,\n",
    "                 ref_filter,\n",
    "                )\n",
    "\n",
    "my_output = OutputCalculation(\n",
    "                feds_firenrt,\n",
    "                nifc_search,\n",
    "                output_format, \n",
    "                output_maap_url,\n",
    "                day_search_range,\n",
    "                print_on,\n",
    "                plot_on\n",
    "                )"
   ]
  },
  {
   "cell_type": "markdown",
   "id": "134fdd2d-2bc4-4d92-b25b-9991605dab0c",
   "metadata": {
    "tags": []
   },
   "source": [
    "### Export Polygons\n",
    "\n",
    "Provide a path along with polygons, and then call on the `export_polygons` method for your OutputCalculation object"
   ]
  },
  {
   "cell_type": "code",
   "execution_count": null,
   "id": "30ab55a2-0785-4c1c-ac0a-67788b5210e9",
   "metadata": {
    "tags": []
   },
   "outputs": [],
   "source": [
    "# name your file\n",
    "shp_file_name = \"feds_used\"\n",
    "# resuses the same dir as the csv export \n",
    "output_shp_path = f\"{user_path}/{shp_file_name}.shp\"\n",
    "\n",
    "my_output.export_polygons(feds_firenrt.polygons, output_shp_path)"
   ]
  }
 ],
 "metadata": {
  "kernelspec": {
   "display_name": "envs-feds",
   "language": "python",
   "name": "envs-feds"
  },
  "language_info": {
   "codemirror_mode": {
    "name": "ipython",
    "version": 3
   },
   "file_extension": ".py",
   "mimetype": "text/x-python",
   "name": "python",
   "nbconvert_exporter": "python",
   "pygments_lexer": "ipython3",
   "version": "3.10.6"
  }
 },
 "nbformat": 4,
 "nbformat_minor": 5
}
