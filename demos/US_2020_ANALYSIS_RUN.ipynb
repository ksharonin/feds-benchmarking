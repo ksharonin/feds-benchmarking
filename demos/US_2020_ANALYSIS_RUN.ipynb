{
 "cells": [
  {
   "cell_type": "markdown",
   "id": "0016dae2-188f-4b16-981c-1dc9a895666f",
   "metadata": {},
   "source": [
    "# Demo: United States 2018-2021 Archive Analysis Run"
   ]
  },
  {
   "cell_type": "markdown",
   "id": "b4d39a19-4c1a-4df9-bc88-379bc9c72a05",
   "metadata": {},
   "source": [
    "### Summary\n",
    "\n",
    "This notebook demonstrates an Object Oriented Programming (OOP) implementation of a benchmarking system to compare a FEDS fire perimeter against other fire perimeter data sources, and then store in an output object. \n",
    "\n",
    "*This particularly demonstrates ability to iterate over all available FEDS and create mass analysis results*\n",
    "\n",
    "NOTE: This notebook was run in 1-2 month intervals due to the FEDS API item limit. For your range, if you recieve an error on the limit, try to reduce your time window. A year will need to be broken into ~8-10 intervals \n",
    "\n",
    "Sources for demonstration:\n",
    "- FEDS archived perimeters, labeled as `\"public.eis_fire_lf_perimeter_archive\"`\n",
    "- NIFC historic perimeters, labeled as `\"nifc_interagency_history_local\"`\n",
    "\n",
    "The FEDS input and reference input can use either a pre-defined setting or can accept (valid) user-written paths to shape files. \n",
    "- For Input all settings, please see **section INPUT SETTINGS of README.md**  \n",
    "- Output settings can also be modified to control if calculations are printed, plotted, and/or stored into a file (with location and file type of choice); for more detail on outputs please see **section OUTPUT SETTINGS of README.md**\n",
    "\n",
    "#### Motivation \n",
    "FEDS-PEC eliminates the need for users to recreate/repeat solutions when conducting geospatial data evaluations. By leveraging this module, researchers and analysts can quickly and efficiently compare the FEDS fireperimeter dataset against a reference data set of their choosing. Users can focus their efforts on dataset selection and analysis, rather than spending time implementing and testing software for comparisons and calculations."
   ]
  },
  {
   "cell_type": "markdown",
   "id": "977d5478-884a-4193-9309-4910b1671b3b",
   "metadata": {},
   "source": [
    "### User Inputs for Comparison: time, bbox, FEDS set, reference set\n",
    "\n",
    "Note for inputs:\n",
    "\n",
    "FEDS Input: you must specify a valid title (e.g. firenrt) and collection (e.g. public.eis_fire_lf_perimeter_archive) according to documentation. Please see **section INPUT SETTINGS of README.md** for valid titles and corresponding collections\n",
    "\n",
    "Reference Input: See **section INPUT SETTINGS of README.md** for valid titles and corresponding collections"
   ]
  },
  {
   "cell_type": "code",
   "execution_count": 1,
   "id": "c792e6c2-f738-403f-88eb-6c5eeecd21a2",
   "metadata": {
    "tags": []
   },
   "outputs": [],
   "source": [
    "import sys\n",
    "sys.path.append('../') # local path append\n",
    "\n",
    "import Utilities\n",
    "import Input_FEDS\n",
    "import Input_Reference\n",
    "import Output_Calculation\n",
    "\n",
    "from Input_FEDS import InputFEDS\n",
    "from Input_Reference import InputReference\n",
    "from Output_Calculation import OutputCalculation\n",
    "from Utilities import *"
   ]
  },
  {
   "cell_type": "code",
   "execution_count": 2,
   "id": "7d5e7e8f-4d16-459e-b9b1-aec32a5a6b8d",
   "metadata": {},
   "outputs": [],
   "source": [
    "# this is the ONLY thing users are intended to modify!\n",
    "# inputs for searching FEDS and nifc sets\n",
    "\n",
    "# START TIME\n",
    "year_start = 2021\n",
    "month_start = 11 # 6\n",
    "day_start = 1 # 1\n",
    "hour_start = 0\n",
    "minute_start = 0\n",
    "second_start = 0\n",
    "tz_offset_hours_start = 0\n",
    "tz_offset_minutes_start = 0\n",
    "utc_offset_start = '00:00'\n",
    "\n",
    "# END TIME\n",
    "year_stop = 2021\n",
    "month_stop = 12\n",
    "day_stop = 31\n",
    "hour_stop = 0\n",
    "minute_stop = 0\n",
    "second_stop = 0\n",
    "tz_offset_hours_stop = 0\n",
    "tz_offset_minutes_stop = 0\n",
    "utc_offset_stop = '00:00'\n",
    "\n",
    "# CRS - 4326 RECOMMENDED FEDS FIRE PERIM DEFAULT\n",
    "crs = 3857 # 4326\n",
    "\n",
    "# BBOX FOR SEARCH - [lon, lat, lon, lat]\n",
    "search_bbox = [\"-125.0\", \"24.396308\", \"-66.93457\", \"49.384358\"] \n",
    "\n",
    "day_search_range = 7 # acceptable distance to search from feds -> reference (e.g. if refernce polygon is 8 days away, it is not included in calculations)\n",
    "\n",
    "# FEDS INPUT SETTINGS  # [Change to FEDS Input settings]\n",
    "feds_title = \"firenrt\"\n",
    "feds_collection =  \"public.eis_fire_lf_perimeter_archive\"\n",
    "feds_access_type = \"api\"\n",
    "feds_limit = 9000 # amount of features to consider for FEDS API access; warning appears if it misses any entries\n",
    "feds_filter = False\n",
    "feds_apply_finalfire = True\n",
    "\n",
    "# REFERENCE INPUT SETTINGS \n",
    "ref_title = \"InterAgencyFirePerimeterHistory_All_Years_View\"# \"nifc_interagency_history_local\" # this is a predefined set example\n",
    "ref_control_type = \"defined\" # or \"custom\"\n",
    "ref_custom_url = \"none\" # not custom for demo\n",
    "ref_custom_read_type = \"none\"  # not custom for demo\n",
    "ref_filter = False # False or a valid query\n",
    "\n",
    "# OUTPUT SETTINGS - User discretion advised for path functionality\n",
    "print_on = True\n",
    "plot_on = True\n",
    "name_for_output_file = \"2021_novdec_analysis\"\n",
    "output_format = \"csv\"\n",
    "user_path = \"/projects/my-public-bucket/VEDA-PEC/results/2021 analysis\"\n",
    "output_maap_url = f\"{user_path}/{name_for_output_file}.{output_format}\""
   ]
  },
  {
   "cell_type": "markdown",
   "id": "e4f11381-5d8e-42a0-af81-14368b1aa8a2",
   "metadata": {},
   "source": [
    "### Argument Processing: format and check to report any issues\n",
    "- Note: upon instance instantiation we can also get reports back of invalidity -> any warnings/errors should be addressed"
   ]
  },
  {
   "cell_type": "code",
   "execution_count": 3,
   "id": "1322886e-5f51-4552-b428-40a6e797bacd",
   "metadata": {
    "tags": []
   },
   "outputs": [],
   "source": [
    "\n",
    "# start date formatting\n",
    "search_start = Utilities.format_datetime(year_start, \n",
    "                                         month_start, \n",
    "                                         day_start, \n",
    "                                         hour_start, \n",
    "                                         minute_start, \n",
    "                                         second_start, \n",
    "                                         tz_offset_hours_start, \n",
    "                                         tz_offset_minutes_start,\n",
    "                                         utc_offset_start)\n",
    "# stop date formatting\n",
    "search_stop = Utilities.format_datetime(year_stop, \n",
    "                                        month_stop, \n",
    "                                        day_stop, \n",
    "                                        hour_stop, \n",
    "                                        minute_stop, \n",
    "                                        second_stop, \n",
    "                                        tz_offset_hours_stop, \n",
    "                                        tz_offset_minutes_stop,\n",
    "                                        utc_offset_stop)\n",
    "\n",
    "# bound check the bbox\n",
    "assert Utilities.check_bbox(search_bbox), f\"ERR: passed bbox {search_bbox} is not valid; check bounds\"\n",
    "assert  Utilities.check_crs(crs), f\"ERR: invalid crs provided {crs}; please enter valid ESPG CRS number\""
   ]
  },
  {
   "cell_type": "markdown",
   "id": "55724f7b-8b88-41cb-a755-7b6401060831",
   "metadata": {
    "tags": []
   },
   "source": [
    "### Using Inputs: Instantiate Inputs + Calculation Output\n",
    "\n",
    "With our inputs, we are ready to start; run this to get the program to fetch the FEDS candidates in the provided time/location window, along with an intersecting NIFC in the specific day range\n",
    "\n",
    "In this case, we get the latest object of FEDS in the kincade zone + its NIFC closest match, which is about 6 days away and heavily intersecting"
   ]
  },
  {
   "cell_type": "code",
   "execution_count": 4,
   "id": "2fa3c5a6-a37a-4913-b845-8e39b618e469",
   "metadata": {
    "tags": []
   },
   "outputs": [
    {
     "name": "stdout",
     "output_type": "stream",
     "text": [
      "You may see an ERROR 1 occur; ignore this unless block throws actual exception...\n"
     ]
    },
    {
     "name": "stderr",
     "output_type": "stream",
     "text": [
      "Running FEDS-Reference Match Algorithm: 100%|██████████| 118/118 [00:43<00:00,  2.70polygon/s]\n"
     ]
    },
    {
     "name": "stdout",
     "output_type": "stream",
     "text": [
      "DATE MATCHING COMPLETE\n",
      "NO CALCULATION RESULTS, SKIP FEDS INDEX 2963 & REFERENCE INDEX 2963\n",
      "NO CALCULATION RESULTS, SKIP FEDS INDEX 1873 & REFERENCE INDEX 1873\n",
      "NO CALCULATION RESULTS, SKIP FEDS INDEX 2220 & REFERENCE INDEX 2220\n",
      "NO CALCULATION RESULTS, SKIP FEDS INDEX 3077 & REFERENCE INDEX 3077\n",
      "NO CALCULATION RESULTS, SKIP FEDS INDEX 1462 & REFERENCE INDEX 1462\n",
      "NO CALCULATION RESULTS, SKIP FEDS INDEX 3162 & REFERENCE INDEX 3162\n",
      "NO CALCULATION RESULTS, SKIP FEDS INDEX 3304 & REFERENCE INDEX 3304\n",
      "NO CALCULATION RESULTS, SKIP FEDS INDEX 1076 & REFERENCE INDEX 1076\n",
      "NO CALCULATION RESULTS, SKIP FEDS INDEX 3681 & REFERENCE INDEX 3681\n",
      "NO CALCULATION RESULTS, SKIP FEDS INDEX 243 & REFERENCE INDEX 243\n",
      "NO CALCULATION RESULTS, SKIP FEDS INDEX 322 & REFERENCE INDEX 322\n",
      "NO CALCULATION RESULTS, SKIP FEDS INDEX 542 & REFERENCE INDEX 542\n",
      "NO CALCULATION RESULTS, SKIP FEDS INDEX 1004 & REFERENCE INDEX 1004\n",
      "NO CALCULATION RESULTS, SKIP FEDS INDEX 3499 & REFERENCE INDEX 3499\n",
      "NO CALCULATION RESULTS, SKIP FEDS INDEX 3408 & REFERENCE INDEX 3408\n",
      "NO CALCULATION RESULTS, SKIP FEDS INDEX 2832 & REFERENCE INDEX 2832\n",
      "NO CALCULATION RESULTS, SKIP FEDS INDEX 2951 & REFERENCE INDEX 2951\n",
      "NO CALCULATION RESULTS, SKIP FEDS INDEX 1572 & REFERENCE INDEX 1572\n",
      "NO CALCULATION RESULTS, SKIP FEDS INDEX 2362 & REFERENCE INDEX 2362\n",
      "NO CALCULATION RESULTS, SKIP FEDS INDEX 2469 & REFERENCE INDEX 2469\n",
      "NO CALCULATION RESULTS, SKIP FEDS INDEX 1743 & REFERENCE INDEX 1743\n",
      "NO CALCULATION RESULTS, SKIP FEDS INDEX 3764 & REFERENCE INDEX 3764\n",
      "NO CALCULATION RESULTS, SKIP FEDS INDEX 2359 & REFERENCE INDEX 2359\n",
      "NO CALCULATION RESULTS, SKIP FEDS INDEX 1248 & REFERENCE INDEX 1248\n",
      "NO CALCULATION RESULTS, SKIP FEDS INDEX 3550 & REFERENCE INDEX 3550\n",
      "NO CALCULATION RESULTS, SKIP FEDS INDEX 2550 & REFERENCE INDEX 2550\n",
      "NO CALCULATION RESULTS, SKIP FEDS INDEX 1266 & REFERENCE INDEX 1266\n",
      "NO CALCULATION RESULTS, SKIP FEDS INDEX 3753 & REFERENCE INDEX 3753\n",
      "NO CALCULATION RESULTS, SKIP FEDS INDEX 1107 & REFERENCE INDEX 1107\n",
      "NO CALCULATION RESULTS, SKIP FEDS INDEX 1414 & REFERENCE INDEX 1414\n",
      "NO CALCULATION RESULTS, SKIP FEDS INDEX 2356 & REFERENCE INDEX 2356\n",
      "NO CALCULATION RESULTS, SKIP FEDS INDEX 572 & REFERENCE INDEX 572\n",
      "NO CALCULATION RESULTS, SKIP FEDS INDEX 727 & REFERENCE INDEX 727\n",
      "NO CALCULATION RESULTS, SKIP FEDS INDEX 2586 & REFERENCE INDEX 2586\n",
      "NO CALCULATION RESULTS, SKIP FEDS INDEX 1776 & REFERENCE INDEX 1776\n",
      "NO CALCULATION RESULTS, SKIP FEDS INDEX 433 & REFERENCE INDEX 433\n",
      "NO CALCULATION RESULTS, SKIP FEDS INDEX 1480 & REFERENCE INDEX 1480\n",
      "NO CALCULATION RESULTS, SKIP FEDS INDEX 3455 & REFERENCE INDEX 3455\n",
      "NO CALCULATION RESULTS, SKIP FEDS INDEX 2696 & REFERENCE INDEX 2696\n",
      "NO CALCULATION RESULTS, SKIP FEDS INDEX 1438 & REFERENCE INDEX 1438\n",
      "NO CALCULATION RESULTS, SKIP FEDS INDEX 2338 & REFERENCE INDEX 2338\n",
      "NO CALCULATION RESULTS, SKIP FEDS INDEX 3322 & REFERENCE INDEX 3322\n",
      "NO CALCULATION RESULTS, SKIP FEDS INDEX 2380 & REFERENCE INDEX 2380\n",
      "NO CALCULATION RESULTS, SKIP FEDS INDEX 1794 & REFERENCE INDEX 1794\n",
      "NO CALCULATION RESULTS, SKIP FEDS INDEX 3142 & REFERENCE INDEX 3142\n",
      "NO CALCULATION RESULTS, SKIP FEDS INDEX 757 & REFERENCE INDEX 757\n",
      "NO CALCULATION RESULTS, SKIP FEDS INDEX 2460 & REFERENCE INDEX 2460\n",
      "NO CALCULATION RESULTS, SKIP FEDS INDEX 2568 & REFERENCE INDEX 2568\n",
      "NO CALCULATION RESULTS, SKIP FEDS INDEX 1644 & REFERENCE INDEX 1644\n",
      "NO CALCULATION RESULTS, SKIP FEDS INDEX 2129 & REFERENCE INDEX 2129\n",
      "NO CALCULATION RESULTS, SKIP FEDS INDEX 1696 & REFERENCE INDEX 1696\n",
      "NO CALCULATION RESULTS, SKIP FEDS INDEX 1676 & REFERENCE INDEX 1676\n",
      "NO CALCULATION RESULTS, SKIP FEDS INDEX 3546 & REFERENCE INDEX 3546\n",
      "NO CALCULATION RESULTS, SKIP FEDS INDEX 1890 & REFERENCE INDEX 1890\n",
      "NO CALCULATION RESULTS, SKIP FEDS INDEX 1811 & REFERENCE INDEX 1811\n",
      "NO CALCULATION RESULTS, SKIP FEDS INDEX 2237 & REFERENCE INDEX 2237\n",
      "NO CALCULATION RESULTS, SKIP FEDS INDEX 2396 & REFERENCE INDEX 2396\n",
      "NO CALCULATION RESULTS, SKIP FEDS INDEX 1659 & REFERENCE INDEX 1659\n",
      "NO CALCULATION RESULTS, SKIP FEDS INDEX 1758 & REFERENCE INDEX 1758\n",
      "NO CALCULATION RESULTS, SKIP FEDS INDEX 1826 & REFERENCE INDEX 1826\n",
      "NO CALCULATION RESULTS, SKIP FEDS INDEX 1280 & REFERENCE INDEX 1280\n",
      "NO CALCULATION RESULTS, SKIP FEDS INDEX 1017 & REFERENCE INDEX 1017\n",
      "NO CALCULATION RESULTS, SKIP FEDS INDEX 1089 & REFERENCE INDEX 1089\n",
      "NO CALCULATION RESULTS, SKIP FEDS INDEX 3694 & REFERENCE INDEX 3694\n",
      "NO CALCULATION RESULTS, SKIP FEDS INDEX 3066 & REFERENCE INDEX 3066\n",
      "NO CALCULATION RESULTS, SKIP FEDS INDEX 1444 & REFERENCE INDEX 1444\n",
      "NO CALCULATION RESULTS, SKIP FEDS INDEX 738 & REFERENCE INDEX 738\n",
      "NO CALCULATION RESULTS, SKIP FEDS INDEX 817 & REFERENCE INDEX 817\n",
      "NO CALCULATION RESULTS, SKIP FEDS INDEX 2738 & REFERENCE INDEX 2738\n",
      "NO CALCULATION RESULTS, SKIP FEDS INDEX 2596 & REFERENCE INDEX 2596\n",
      "NO CALCULATION RESULTS, SKIP FEDS INDEX 2177 & REFERENCE INDEX 2177\n",
      "NO CALCULATION RESULTS, SKIP FEDS INDEX 2532 & REFERENCE INDEX 2532\n",
      "NO CALCULATION RESULTS, SKIP FEDS INDEX 1679 & REFERENCE INDEX 1679\n",
      "NO CALCULATION RESULTS, SKIP FEDS INDEX 674 & REFERENCE INDEX 674\n",
      "NO CALCULATION RESULTS, SKIP FEDS INDEX 1148 & REFERENCE INDEX 1148\n",
      "NO CALCULATION RESULTS, SKIP FEDS INDEX 2640 & REFERENCE INDEX 2640\n",
      "NO CALCULATION RESULTS, SKIP FEDS INDEX 2110 & REFERENCE INDEX 2110\n",
      "NO CALCULATION RESULTS, SKIP FEDS INDEX 2069 & REFERENCE INDEX 2069\n",
      "NO CALCULATION RESULTS, SKIP FEDS INDEX 3363 & REFERENCE INDEX 3363\n",
      "NO CALCULATION RESULTS, SKIP FEDS INDEX 3053 & REFERENCE INDEX 3053\n",
      "NO CALCULATION RESULTS, SKIP FEDS INDEX 35 & REFERENCE INDEX 35\n",
      "NO CALCULATION RESULTS, SKIP FEDS INDEX 2907 & REFERENCE INDEX 2907\n",
      "NO CALCULATION RESULTS, SKIP FEDS INDEX 353 & REFERENCE INDEX 353\n",
      "NO CALCULATION RESULTS, SKIP FEDS INDEX 415 & REFERENCE INDEX 415\n",
      "NO CALCULATION RESULTS, SKIP FEDS INDEX 384 & REFERENCE INDEX 384\n",
      "NO CALCULATION RESULTS, SKIP FEDS INDEX 3231 & REFERENCE INDEX 3231\n",
      "NO CALCULATION RESULTS, SKIP FEDS INDEX 1626 & REFERENCE INDEX 1626\n",
      "NO CALCULATION RESULTS, SKIP FEDS INDEX 304 & REFERENCE INDEX 304\n",
      "NO CALCULATION RESULTS, SKIP FEDS INDEX 1281 & REFERENCE INDEX 1281\n",
      "NO CALCULATION RESULTS, SKIP FEDS INDEX 629 & REFERENCE INDEX 629\n",
      "NO CALCULATION RESULTS, SKIP FEDS INDEX 951 & REFERENCE INDEX 951\n",
      "NO CALCULATION RESULTS, SKIP FEDS INDEX 3739 & REFERENCE INDEX 3739\n",
      "NO CALCULATION RESULTS, SKIP FEDS INDEX 1195 & REFERENCE INDEX 1195\n",
      "NO CALCULATION RESULTS, SKIP FEDS INDEX 1987 & REFERENCE INDEX 1987\n",
      "NO CALCULATION RESULTS, SKIP FEDS INDEX 2028 & REFERENCE INDEX 2028\n",
      "NO CALCULATION RESULTS, SKIP FEDS INDEX 908 & REFERENCE INDEX 908\n",
      "NO CALCULATION RESULTS, SKIP FEDS INDEX 1371 & REFERENCE INDEX 1371\n",
      "NO CALCULATION RESULTS, SKIP FEDS INDEX 2441 & REFERENCE INDEX 2441\n",
      "NO CALCULATION RESULTS, SKIP FEDS INDEX 3640 & REFERENCE INDEX 3640\n",
      "NO CALCULATION RESULTS, SKIP FEDS INDEX 2176 & REFERENCE INDEX 2176\n",
      "NO CALCULATION RESULTS, SKIP FEDS INDEX 2781 & REFERENCE INDEX 2781\n",
      "NO CALCULATION RESULTS, SKIP FEDS INDEX 2526 & REFERENCE INDEX 2526\n",
      "NO CALCULATION RESULTS, SKIP FEDS INDEX 1523 & REFERENCE INDEX 1523\n",
      "NO CALCULATION RESULTS, SKIP FEDS INDEX 1564 & REFERENCE INDEX 1564\n",
      "NO CALCULATION RESULTS, SKIP FEDS INDEX 2874 & REFERENCE INDEX 2874\n",
      "NO CALCULATION RESULTS, SKIP FEDS INDEX 1932 & REFERENCE INDEX 1932\n",
      "NO CALCULATION RESULTS, SKIP FEDS INDEX 184 & REFERENCE INDEX 184\n",
      "NO CALCULATION RESULTS, SKIP FEDS INDEX 1328 & REFERENCE INDEX 1328\n",
      "NO CALCULATION RESULTS, SKIP FEDS INDEX 3599 & REFERENCE INDEX 3599\n",
      "NO CALCULATION RESULTS, SKIP FEDS INDEX 3286 & REFERENCE INDEX 3286\n",
      "NO CALCULATION RESULTS, SKIP FEDS INDEX 137 & REFERENCE INDEX 137\n",
      "NO CALCULATION RESULTS, SKIP FEDS INDEX 806 & REFERENCE INDEX 806\n",
      "NO CALCULATION RESULTS, SKIP FEDS INDEX 554 & REFERENCE INDEX 554\n",
      "NO CALCULATION RESULTS, SKIP FEDS INDEX 296 & REFERENCE INDEX 296\n",
      "NO CALCULATION RESULTS, SKIP FEDS INDEX 2287 & REFERENCE INDEX 2287\n",
      "NO CALCULATION RESULTS, SKIP FEDS INDEX 3012 & REFERENCE INDEX 3012\n",
      "NO CALCULATION RESULTS, SKIP FEDS INDEX 225 & REFERENCE INDEX 225\n",
      "NO CALCULATION RESULTS, SKIP FEDS INDEX 861 & REFERENCE INDEX 861\n",
      "\n",
      "\n",
      "PLOTTING ON: BEGIN PLOT OUTPUT\n",
      "PLOTTING COMPLETE\n",
      "\n",
      "\n",
      "CSV output complete! Check file /projects/my-public-bucket/VEDA-PEC/results/2021 analysis/2021_novdec_analysis.csv for results. NOTE: None result rows were excluded.\n"
     ]
    }
   ],
   "source": [
    "# create instances to track properties\n",
    "print('You may see an ERROR 1 occur; ignore this unless block throws actual exception...')\n",
    "\n",
    "feds_firenrt = InputFEDS(\n",
    "                 feds_title, \n",
    "                 feds_collection, \n",
    "                 search_start,\n",
    "                 search_stop,\n",
    "                 search_bbox,\n",
    "                 crs,\n",
    "                 feds_access_type,\n",
    "                 feds_limit,\n",
    "                 feds_filter,\n",
    "                 feds_apply_finalfire\n",
    "                )\n",
    "\n",
    "nifc_search = InputReference( \n",
    "                 search_start,\n",
    "                 search_stop,\n",
    "                 search_bbox,\n",
    "                 crs,\n",
    "                 ref_title,\n",
    "                 ref_control_type,\n",
    "                 ref_custom_url,\n",
    "                 ref_custom_read_type,\n",
    "                 ref_filter,\n",
    "                )\n",
    "\n",
    "my_output = OutputCalculation(\n",
    "                feds_firenrt,\n",
    "                nifc_search,\n",
    "                output_format, \n",
    "                output_maap_url,\n",
    "                day_search_range,\n",
    "                print_on,\n",
    "                plot_on\n",
    "                )"
   ]
  },
  {
   "cell_type": "markdown",
   "id": "010e990d-3c39-42d5-a0e8-bb4540bef9a2",
   "metadata": {
    "tags": []
   },
   "source": [
    "### Tif Analysis on Symmetric Difference Matches (Exceeding Areas of FEDS over Reference)\n",
    "\n",
    "This function built into the Output Class demonstrates research application uses of FEDS-PEC\n",
    "\n",
    "Given the output matches, give a tif path, calculations of interest, and optional time (in days) limit. This will return associated TIF values for the symmetric difference of FEDS over the reference (FEDS - reference)"
   ]
  },
  {
   "cell_type": "code",
   "execution_count": 5,
   "id": "b981d506-38c6-4242-9a80-82b9b0a88885",
   "metadata": {
    "tags": []
   },
   "outputs": [
    {
     "ename": "RasterioIOError",
     "evalue": "/projects/my-public-bucket/tif_files/slopeLF/LC20_SlpD_220.tif: TIFFReadDirectory:Failed to read directory at offset 3916994008",
     "output_type": "error",
     "traceback": [
      "\u001b[0;31m---------------------------------------------------------------------------\u001b[0m",
      "\u001b[0;31mCPLE_AppDefinedError\u001b[0m                      Traceback (most recent call last)",
      "File \u001b[0;32mrasterio/_base.pyx:302\u001b[0m, in \u001b[0;36mrasterio._base.DatasetBase.__init__\u001b[0;34m()\u001b[0m\n",
      "File \u001b[0;32mrasterio/_base.pyx:213\u001b[0m, in \u001b[0;36mrasterio._base.open_dataset\u001b[0;34m()\u001b[0m\n",
      "File \u001b[0;32mrasterio/_err.pyx:217\u001b[0m, in \u001b[0;36mrasterio._err.exc_wrap_pointer\u001b[0;34m()\u001b[0m\n",
      "\u001b[0;31mCPLE_AppDefinedError\u001b[0m: /projects/my-public-bucket/tif_files/slopeLF/LC20_SlpD_220.tif: TIFFReadDirectory:Failed to read directory at offset 3916994008",
      "\nDuring handling of the above exception, another exception occurred:\n",
      "\u001b[0;31mRasterioIOError\u001b[0m                           Traceback (most recent call last)",
      "Input \u001b[0;32mIn [5]\u001b[0m, in \u001b[0;36m<cell line: 5>\u001b[0;34m()\u001b[0m\n\u001b[1;32m      1\u001b[0m tif_path \u001b[38;5;241m=\u001b[39m \u001b[38;5;124m\"\u001b[39m\u001b[38;5;124m/projects/my-public-bucket/tif_files/slopeLF/LC20_SlpD_220.tif\u001b[39m\u001b[38;5;124m\"\u001b[39m\n\u001b[1;32m      3\u001b[0m \u001b[38;5;66;03m# \"/projects/shared-buckets/ksharonin/tif_files/slopeLF/LC20_SlpD_220.tif\"\u001b[39;00m\n\u001b[0;32m----> 5\u001b[0m get_res \u001b[38;5;241m=\u001b[39m \u001b[43mmy_output\u001b[49m\u001b[38;5;241;43m.\u001b[39;49m\u001b[43mtif_analysis\u001b[49m\u001b[43m(\u001b[49m\u001b[43mtif_path\u001b[49m\u001b[43m,\u001b[49m\u001b[43m \u001b[49m\u001b[38;5;124;43m\"\u001b[39;49m\u001b[38;5;124;43mMEDIAN\u001b[39;49m\u001b[38;5;124;43m\"\u001b[39;49m\u001b[43m,\u001b[49m\u001b[43m \u001b[49m\u001b[38;5;241;43m100\u001b[39;49m\u001b[43m)\u001b[49m\n",
      "File \u001b[0;32m~/my-public-bucket/VEDA-PEC/demos/../Output_Calculation.py:598\u001b[0m, in \u001b[0;36mOutputCalculation.tif_analysis\u001b[0;34m(self, tif_path, req_calc, date_restrict)\u001b[0m\n\u001b[1;32m    595\u001b[0m diff_area \u001b[38;5;241m=\u001b[39m feds_inst\u001b[38;5;241m.\u001b[39msymmetric_difference(ref_inst, align\u001b[38;5;241m=\u001b[39m\u001b[38;5;28;01mFalse\u001b[39;00m)\n\u001b[1;32m    597\u001b[0m \u001b[38;5;66;03m# open and generate mask tif\u001b[39;00m\n\u001b[0;32m--> 598\u001b[0m \u001b[38;5;28;01mwith\u001b[39;00m \u001b[43mrasterio\u001b[49m\u001b[38;5;241;43m.\u001b[39;49m\u001b[43mopen\u001b[49m\u001b[43m(\u001b[49m\u001b[43mtif_path\u001b[49m\u001b[43m)\u001b[49m \u001b[38;5;28;01mas\u001b[39;00m src:\n\u001b[1;32m    599\u001b[0m     masked_tif, _ \u001b[38;5;241m=\u001b[39m mask(src, intersection_area\u001b[38;5;241m.\u001b[39mgeometry, crop\u001b[38;5;241m=\u001b[39m\u001b[38;5;28;01mTrue\u001b[39;00m)\n\u001b[1;32m    601\u001b[0m \u001b[38;5;66;03m# append requested val generated from usr req\u001b[39;00m\n",
      "File \u001b[0;32m~/env-feds/lib/python3.10/site-packages/rasterio/env.py:442\u001b[0m, in \u001b[0;36mensure_env_with_credentials.<locals>.wrapper\u001b[0;34m(*args, **kwds)\u001b[0m\n\u001b[1;32m    439\u001b[0m     session \u001b[38;5;241m=\u001b[39m DummySession()\n\u001b[1;32m    441\u001b[0m \u001b[38;5;28;01mwith\u001b[39;00m env_ctor(session\u001b[38;5;241m=\u001b[39msession):\n\u001b[0;32m--> 442\u001b[0m     \u001b[38;5;28;01mreturn\u001b[39;00m \u001b[43mf\u001b[49m\u001b[43m(\u001b[49m\u001b[38;5;241;43m*\u001b[39;49m\u001b[43margs\u001b[49m\u001b[43m,\u001b[49m\u001b[43m \u001b[49m\u001b[38;5;241;43m*\u001b[39;49m\u001b[38;5;241;43m*\u001b[39;49m\u001b[43mkwds\u001b[49m\u001b[43m)\u001b[49m\n",
      "File \u001b[0;32m~/env-feds/lib/python3.10/site-packages/rasterio/__init__.py:277\u001b[0m, in \u001b[0;36mopen\u001b[0;34m(fp, mode, driver, width, height, count, crs, transform, dtype, nodata, sharing, **kwargs)\u001b[0m\n\u001b[1;32m    274\u001b[0m path \u001b[38;5;241m=\u001b[39m _parse_path(raw_dataset_path)\n\u001b[1;32m    276\u001b[0m \u001b[38;5;28;01mif\u001b[39;00m mode \u001b[38;5;241m==\u001b[39m \u001b[38;5;124m\"\u001b[39m\u001b[38;5;124mr\u001b[39m\u001b[38;5;124m\"\u001b[39m:\n\u001b[0;32m--> 277\u001b[0m     dataset \u001b[38;5;241m=\u001b[39m \u001b[43mDatasetReader\u001b[49m\u001b[43m(\u001b[49m\u001b[43mpath\u001b[49m\u001b[43m,\u001b[49m\u001b[43m \u001b[49m\u001b[43mdriver\u001b[49m\u001b[38;5;241;43m=\u001b[39;49m\u001b[43mdriver\u001b[49m\u001b[43m,\u001b[49m\u001b[43m \u001b[49m\u001b[43msharing\u001b[49m\u001b[38;5;241;43m=\u001b[39;49m\u001b[43msharing\u001b[49m\u001b[43m,\u001b[49m\u001b[43m \u001b[49m\u001b[38;5;241;43m*\u001b[39;49m\u001b[38;5;241;43m*\u001b[39;49m\u001b[43mkwargs\u001b[49m\u001b[43m)\u001b[49m\n\u001b[1;32m    278\u001b[0m \u001b[38;5;28;01melif\u001b[39;00m mode \u001b[38;5;241m==\u001b[39m \u001b[38;5;124m\"\u001b[39m\u001b[38;5;124mr+\u001b[39m\u001b[38;5;124m\"\u001b[39m:\n\u001b[1;32m    279\u001b[0m     dataset \u001b[38;5;241m=\u001b[39m get_writer_for_path(path, driver\u001b[38;5;241m=\u001b[39mdriver)(\n\u001b[1;32m    280\u001b[0m         path, mode, driver\u001b[38;5;241m=\u001b[39mdriver, sharing\u001b[38;5;241m=\u001b[39msharing, \u001b[38;5;241m*\u001b[39m\u001b[38;5;241m*\u001b[39mkwargs\n\u001b[1;32m    281\u001b[0m     )\n",
      "File \u001b[0;32mrasterio/_base.pyx:304\u001b[0m, in \u001b[0;36mrasterio._base.DatasetBase.__init__\u001b[0;34m()\u001b[0m\n",
      "\u001b[0;31mRasterioIOError\u001b[0m: /projects/my-public-bucket/tif_files/slopeLF/LC20_SlpD_220.tif: TIFFReadDirectory:Failed to read directory at offset 3916994008"
     ]
    }
   ],
   "source": [
    "tif_path = \"/projects/my-public-bucket/tif_files/slopeLF/LC20_SlpD_220.tif\"\n",
    "\n",
    "# \"/projects/shared-buckets/ksharonin/tif_files/slopeLF/LC20_SlpD_220.tif\"\n",
    "\n",
    "get_res = my_output.tif_analysis(tif_path, \"MEDIAN\", 100)"
   ]
  },
  {
   "cell_type": "markdown",
   "id": "134fdd2d-2bc4-4d92-b25b-9991605dab0c",
   "metadata": {
    "tags": []
   },
   "source": [
    "### Export Polygons\n",
    "\n",
    "Provide a path along with polygons, and then call on the `export_polygons` method for your OutputCalculation object"
   ]
  },
  {
   "cell_type": "code",
   "execution_count": null,
   "id": "30ab55a2-0785-4c1c-ac0a-67788b5210e9",
   "metadata": {
    "tags": []
   },
   "outputs": [],
   "source": [
    "# name your file\n",
    "shp_file_name = \"feds_used\"\n",
    "# resuses the same dir as the csv export \n",
    "output_shp_path = f\"{user_path}/{shp_file_name}.shp\"\n",
    "\n",
    "my_output.export_polygons(feds_firenrt.polygons, output_shp_path)"
   ]
  }
 ],
 "metadata": {
  "kernelspec": {
   "display_name": "envs-feds",
   "language": "python",
   "name": "envs-feds"
  },
  "language_info": {
   "codemirror_mode": {
    "name": "ipython",
    "version": 3
   },
   "file_extension": ".py",
   "mimetype": "text/x-python",
   "name": "python",
   "nbconvert_exporter": "python",
   "pygments_lexer": "ipython3",
   "version": "3.10.6"
  }
 },
 "nbformat": 4,
 "nbformat_minor": 5
}
