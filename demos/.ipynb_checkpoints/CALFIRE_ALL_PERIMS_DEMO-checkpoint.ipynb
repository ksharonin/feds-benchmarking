{
 "cells": [
  {
   "cell_type": "markdown",
   "id": "0016dae2-188f-4b16-981c-1dc9a895666f",
   "metadata": {},
   "source": [
    "# Demo 4: FEDS Archived V.S. CAL FIRE California Perimeter All Collection for 2020 August Complex"
   ]
  },
  {
   "cell_type": "markdown",
   "id": "5d9cbe8e-b17a-477c-807b-fe0d772837dc",
   "metadata": {},
   "source": [
    "### Summary\n",
    "\n",
    "This notebook demonstrates the capabilities of the FEDS-PEC module to compare a local CAL FIRE periemter to a local FEDS perimeter\n",
    "\n",
    "Sources for demonstration:\n",
    "- FEDS archived perimeters, labeled as `\"public.eis_fire_lf_perimeter_archive\"`\n",
    "- CAL FIRE all california perimeters, treated as historic, labeled as `\"california_fire_perimeters_all\"`\n",
    "\n",
    "\n",
    "The FEDS input and reference input can use either a pre-defined setting or can accept (valid) user-written paths to shape files. \n",
    "- For Input all settings, please see **section INPUT SETTINGS of README.md**  \n",
    "- Output settings can also be modified to control if calculations are printed, plotted, and/or stored into a file (with location and file type of choice); for more detail on outputs please see **section OUTPUT SETTINGS of README.md**\n",
    "\n",
    "### Selected Example + Disclaimer\n",
    "\n",
    "\n",
    "#### Motivation \n",
    "\n"
   ]
  },
  {
   "cell_type": "code",
   "execution_count": 2,
   "id": "c792e6c2-f738-403f-88eb-6c5eeecd21a2",
   "metadata": {
    "tags": []
   },
   "outputs": [],
   "source": [
    "import sys\n",
    "sys.path.append('../') # local path append\n",
    "\n",
    "import Utilities\n",
    "import Input_FEDS\n",
    "import Input_Reference\n",
    "import Output_Calculation\n",
    "\n",
    "from Input_FEDS import InputFEDS\n",
    "from Input_Reference import InputReference\n",
    "from Output_Calculation import OutputCalculation\n",
    "from Utilities import *"
   ]
  },
  {
   "cell_type": "code",
   "execution_count": 3,
   "id": "7d5e7e8f-4d16-459e-b9b1-aec32a5a6b8d",
   "metadata": {
    "tags": []
   },
   "outputs": [],
   "source": [
    "# this is the ONLY thing users are intended to modify!\n",
    "# inputs for searching FEDS and nifc sets\n",
    "\n",
    "# START TIME\n",
    "year_start = 2020\n",
    "month_start = 8\n",
    "day_start = 15\n",
    "hour_start = 0\n",
    "minute_start = 0\n",
    "second_start = 0\n",
    "tz_offset_hours_start = 0\n",
    "tz_offset_minutes_start = 0\n",
    "utc_offset_start = '00:00'\n",
    "\n",
    "# END TIME\n",
    "year_stop = 2020\n",
    "month_stop = 9\n",
    "day_stop = 20\n",
    "hour_stop = 0\n",
    "minute_stop = 0\n",
    "second_stop = 0\n",
    "tz_offset_hours_stop = 0\n",
    "tz_offset_minutes_stop = 0\n",
    "utc_offset_stop = '00:00'\n",
    "\n",
    "# CRS - 4326 RECOMMENDED FEDS FIRE PERIM DEFAULT\n",
    "crs = 3857 # 4326\n",
    "\n",
    "# BBOX FOR SEARCH - [lon, lat, lon, lat]\n",
    "# 40.634026, -123.894958\n",
    "# 39.529218, -122.290878\n",
    "search_bbox = [\"-123.894958\",\"40.634026\",\"-122.290878\",\"39.529218\"]\n",
    "\n",
    "\n",
    "day_search_range = 7 # acceptable distance to search from feds -> reference (e.g. if refernce polygon is 8 days away, it is not included in calculations)\n",
    "\n",
    "# FEDS INPUT SETTINGS  # [Change to FEDS Input settings]\n",
    "feds_title = \"firenrt\"\n",
    "feds_collection =  \"public.eis_fire_lf_perimeter_archive\"\n",
    "feds_access_type = \"api\" # or \"local\n",
    "feds_limit = 1000 # amount of features to consider for FEDS API access; warning appears if it misses any entries\n",
    "feds_filter = False # False or a valid query: e.g. \"farea>5 AND duration>2\"\n",
    "feds_apply_finalfire = True # set this to true if you want the only the latest fireID to be taken per unique FireID\n",
    "\n",
    "# REFERENCE INPUT SETTINGS \n",
    "ref_title = \"california_fire_perimeters_all\" # this is a predefined set example\n",
    "ref_control_type = \"defined\" # or \"custom\"\n",
    "ref_custom_url = \"none\" # not custom for demo\n",
    "ref_custom_read_type = \"none\"  # not custom for demo\n",
    "ref_filter = False # False or a valid query\n",
    "\n",
    "# OUTPUT SETTINGS\n",
    "maap_username = \"ksharonin\" # per user, in order to store into user's own public bucket\n",
    "name_for_output_file = f\"firenrt_vs_nifc_interagency_{year_start}_{search_bbox[0]}_{search_bbox[1]}_{search_bbox[2]}_{search_bbox[3]}\" # name for your file EXCLUDING PREFIX!\n",
    "output_format = \"txt\" # prefix txt, json, others coming\n",
    "print_on = True # print to jupyter nb\n",
    "plot_on = False # display plot of comparison\n",
    "\n",
    "# NOTE: for now don't modify this, just showing you how url is contructed\n",
    "# [ why would the output need to be maap? Why not just let the user pass a path?]\n",
    "output_maap_url = f\"s3://maap-ops-workspace/shared/{maap_username}/{name_for_output_file}.{output_format}\" # maap url to save; MUST BE MAAPS URL! (for now at least to make things simple"
   ]
  },
  {
   "cell_type": "markdown",
   "id": "e4f11381-5d8e-42a0-af81-14368b1aa8a2",
   "metadata": {},
   "source": [
    "### Argument Processing: format and check to report any issues\n",
    "- Note: upon instance instantiation we can also get reports back of invalidity -> any warnings/errors should be addressed"
   ]
  },
  {
   "cell_type": "code",
   "execution_count": 4,
   "id": "1322886e-5f51-4552-b428-40a6e797bacd",
   "metadata": {
    "tags": []
   },
   "outputs": [],
   "source": [
    "\n",
    "# start date formatting\n",
    "search_start = Utilities.format_datetime(year_start, \n",
    "                                         month_start, \n",
    "                                         day_start, \n",
    "                                         hour_start, \n",
    "                                         minute_start, \n",
    "                                         second_start, \n",
    "                                         tz_offset_hours_start, \n",
    "                                         tz_offset_minutes_start,\n",
    "                                         utc_offset_start)\n",
    "# stop date formatting\n",
    "search_stop = Utilities.format_datetime(year_stop, \n",
    "                                        month_stop, \n",
    "                                        day_stop, \n",
    "                                        hour_stop, \n",
    "                                        minute_stop, \n",
    "                                        second_stop, \n",
    "                                        tz_offset_hours_stop, \n",
    "                                        tz_offset_minutes_stop,\n",
    "                                        utc_offset_stop)\n",
    "\n",
    "# bound check the bbox\n",
    "assert Utilities.check_bbox(search_bbox), f\"ERR: passed bbox {search_bbox} is not valid; check bounds\"\n",
    "assert  Utilities.check_crs(crs), f\"ERR: invalid crs provided {crs}; please enter valid ESPG CRS number\""
   ]
  },
  {
   "cell_type": "markdown",
   "id": "55724f7b-8b88-41cb-a755-7b6401060831",
   "metadata": {
    "tags": []
   },
   "source": [
    "### Using Inputs: Instantiate Inputs + Calculation Output\n",
    "\n",
    "With our inputs, we are ready to start; run this to get the program to fetch the FEDS candidates in the provided time/location window, along with an intersecting NIFC in the specific day range\n",
    "\n",
    "In this case, we get the latest object of FEDS in the kincade zone + its NIFC closest match, which is about 6 days away and heavily intersecting"
   ]
  },
  {
   "cell_type": "code",
   "execution_count": 5,
   "id": "2fa3c5a6-a37a-4913-b845-8e39b618e469",
   "metadata": {
    "tags": []
   },
   "outputs": [
    {
     "name": "stdout",
     "output_type": "stream",
     "text": [
      "You may see an ERROR 1 occur; ignore this unless block throws actual exception...\n",
      "You may see WARNING:fiona.ogrext:Expecting property name enclosed in double quotes: line 1 column 2 (char 1); you can ignore this error safely\n"
     ]
    },
    {
     "name": "stderr",
     "output_type": "stream",
     "text": [
      "ERROR 1: PROJ: proj_create_from_database: Open of /projects/env-feds/share/proj failed\n",
      "WARNING:root:NO MATCHES FOUND FOR FEDS_POLYGON AT INDEX: 169; UNABLE TO FIND BEST DATE MATCHES, ATTACHING NONE FOR REFERENCE INDEX\n",
      "WARNING:root:NO MATCHES FOUND FOR FEDS_POLYGON AT INDEX: 82; UNABLE TO FIND BEST DATE MATCHES, ATTACHING NONE FOR REFERENCE INDEX\n",
      "WARNING:root:NO MATCHES FOUND FOR FEDS_POLYGON AT INDEX: 78; UNABLE TO FIND BEST DATE MATCHES, ATTACHING NONE FOR REFERENCE INDEX\n",
      "ERROR:root:FAILED: No matching dates found even with provided day search range window: 7, critical benchmarking failure.\n",
      "WARNING:root:Due to failing window, use first intersection as value\n",
      "ERROR:root:FAILED: No matching dates found even with provided day search range window: 7, critical benchmarking failure.\n",
      "WARNING:root:Due to failing window, use first intersection as value\n",
      "WARNING:root:NO MATCHES FOUND FOR FEDS_POLYGON AT INDEX: 171; UNABLE TO FIND BEST DATE MATCHES, ATTACHING NONE FOR REFERENCE INDEX\n",
      "WARNING:root:NO MATCHES FOUND FOR FEDS_POLYGON AT INDEX: 157; UNABLE TO FIND BEST DATE MATCHES, ATTACHING NONE FOR REFERENCE INDEX\n",
      "WARNING:root:NO MATCHES FOUND FOR FEDS_POLYGON AT INDEX: 148; UNABLE TO FIND BEST DATE MATCHES, ATTACHING NONE FOR REFERENCE INDEX\n"
     ]
    },
    {
     "name": "stdout",
     "output_type": "stream",
     "text": [
      "CALCULATED A RESULT: POLYGON FEDS AT INDEX 169 AGAINST REFERENCE POLYGON AT INDEX None:\n",
      "Ratio: None, Accuracy: None, Precision: None, Recall: None, IOU: None, F1 None, Symmetric Ratio: None\n",
      "All measurements in units metre\n",
      "CALCULATED A RESULT: POLYGON FEDS AT INDEX 82 AGAINST REFERENCE POLYGON AT INDEX None:\n",
      "Ratio: None, Accuracy: None, Precision: None, Recall: None, IOU: None, F1 None, Symmetric Ratio: None\n",
      "All measurements in units metre\n",
      "CALCULATED A RESULT: POLYGON FEDS AT INDEX 78 AGAINST REFERENCE POLYGON AT INDEX None:\n",
      "Ratio: None, Accuracy: None, Precision: None, Recall: None, IOU: None, F1 None, Symmetric Ratio: None\n",
      "All measurements in units metre\n",
      "CALCULATED A RESULT: POLYGON FEDS AT INDEX 37 AGAINST REFERENCE POLYGON AT INDEX 1349:\n",
      "Ratio: 64.50006149222688, Accuracy: 0.55832432550387, Precision: 0.0008982986587313467, Recall: 0.05794031872655678, IOU: 0, F1 0.0017691683765345095, Symmetric Ratio: 65.38418085477379\n",
      "All measurements in units metre\n",
      "CALCULATED A RESULT: POLYGON FEDS AT INDEX 214 AGAINST REFERENCE POLYGON AT INDEX 23:\n",
      "Ratio: 1.219209022973419, Accuracy: 0.8248219586114555, Precision: 0.745905415530306, Recall: 0.9094146128992864, IOU: 0, F1 0.8195844586832136, Symmetric Ratio: 0.40037979717484207\n",
      "All measurements in units metre\n",
      "CALCULATED A RESULT: POLYGON FEDS AT INDEX 171 AGAINST REFERENCE POLYGON AT INDEX None:\n",
      "Ratio: None, Accuracy: None, Precision: None, Recall: None, IOU: None, F1 None, Symmetric Ratio: None\n",
      "All measurements in units metre\n",
      "CALCULATED A RESULT: POLYGON FEDS AT INDEX 157 AGAINST REFERENCE POLYGON AT INDEX None:\n",
      "Ratio: None, Accuracy: None, Precision: None, Recall: None, IOU: None, F1 None, Symmetric Ratio: None\n",
      "All measurements in units metre\n",
      "CALCULATED A RESULT: POLYGON FEDS AT INDEX 148 AGAINST REFERENCE POLYGON AT INDEX None:\n",
      "Ratio: None, Accuracy: None, Precision: None, Recall: None, IOU: None, F1 None, Symmetric Ratio: None\n",
      "All measurements in units metre\n"
     ]
    }
   ],
   "source": [
    "# create instances to track properties\n",
    "print('You may see an ERROR 1 occur; ignore this unless block throws actual exception...')\n",
    "print('You may see WARNING:fiona.ogrext:Expecting property name enclosed in double quotes: line 1 column 2 (char 1); you can ignore this error safely')\n",
    "\n",
    "import warnings\n",
    "warnings.filterwarnings('ignore')\n",
    "    \n",
    "feds_firenrt = InputFEDS(\n",
    "                 feds_title, \n",
    "                 feds_collection, \n",
    "                 search_start,\n",
    "                 search_stop,\n",
    "                 search_bbox,\n",
    "                 crs,\n",
    "                 feds_access_type,\n",
    "                 feds_limit,\n",
    "                 feds_filter,\n",
    "                 feds_apply_finalfire\n",
    "                )\n",
    "\n",
    "nifc_search = InputReference( \n",
    "                 search_start,\n",
    "                 search_stop,\n",
    "                 search_bbox,\n",
    "                 crs,\n",
    "                 ref_title,\n",
    "                 ref_control_type,\n",
    "                 ref_custom_url,\n",
    "                 ref_custom_read_type,\n",
    "                 ref_filter,\n",
    "                )\n",
    "\n",
    "my_output = OutputCalculation(\n",
    "                feds_firenrt,\n",
    "                nifc_search,\n",
    "                output_format, \n",
    "                output_maap_url,\n",
    "                day_search_range,\n",
    "                print_on,\n",
    "                plot_on\n",
    "                )"
   ]
  },
  {
   "cell_type": "markdown",
   "id": "a2561df1-581b-4e39-9d67-3401875708f7",
   "metadata": {},
   "source": [
    "### Print Results with indices\n",
    "\n",
    "As noted above, this plotting will be moved into the classes. For now, it is demonstrating the same functionality it will have in the future. It uses the returned indices to pick out polygons of interest"
   ]
  },
  {
   "cell_type": "code",
   "execution_count": null,
   "id": "76784bf5-4555-485a-9b17-5abb6e2252a0",
   "metadata": {
    "tags": []
   },
   "outputs": [],
   "source": [
    "feds_nrt_match = feds_firenrt.polygons[feds_firenrt.polygons['index'] == 23] # <-- thats the index match\n",
    "feds_nrt_match.head()"
   ]
  },
  {
   "cell_type": "code",
   "execution_count": null,
   "id": "0bf69c80-d9f1-474d-b7cd-b26c28c31186",
   "metadata": {
    "tags": []
   },
   "outputs": [],
   "source": [
    "nifc_current_match = nifc_search._polygons[nifc_search.polygons['index'] == 44] # <-- thats the index match\n",
    "nifc_current_match.head()"
   ]
  },
  {
   "cell_type": "markdown",
   "id": "e0a184c3-f2f2-4715-a01b-afa1eeee1158",
   "metadata": {},
   "source": [
    "### Plot matching polygons"
   ]
  },
  {
   "cell_type": "code",
   "execution_count": null,
   "id": "6ef03c2e",
   "metadata": {
    "tags": []
   },
   "outputs": [],
   "source": [
    "# visualize\n",
    "import matplotlib.pyplot as plt\n",
    "\n",
    "fig, ax = plt.subplots(figsize=(15, 15))\n",
    "\n",
    "print('FEDS NRT Polygon Date', feds_nrt_match['t'])\n",
    "print('NIFC WFIGS Polygon Date',nifc_current_match['DATE_CUR_STAMP'])\n",
    "\n",
    "\n",
    "# search_bbox = [\"-120.17\", \"38.18\", \"-119.67\", \"37.9\"]\n",
    "# lon_min, lat_max, lon_max, lat_min = map(float, search_bbox)\n",
    "\n",
    "v = feds_nrt_match.plot(ax=ax, legend=True, label=\"FEDS NRT MATCH\", color=\"blue\",edgecolor=\"black\", linewidth=0.5 )\n",
    "n = nifc_current_match.plot(ax=ax, legend=True, label=\"WFIGS NIFC NRT\", color=\"gold\", edgecolor=\"black\", linewidth=0.5, alpha=0.7)\n",
    "\n",
    "# ax.set_xlim(lon_min, lon_max)\n",
    "# ax.set_ylim(lat_min, lat_max)\n",
    "ax.set_title(\"FEDS NRT for Quarry Fire vs NIFC Live Incident Polygon with closest date + touch\")\n",
    "ax.set_xlabel(\"Longitude\")\n",
    "ax.set_ylabel(\"Latitude\")\n",
    "plt.show()\n"
   ]
  },
  {
   "cell_type": "code",
   "execution_count": null,
   "id": "53c13588-9772-4a78-8c33-d7b2342f3e1d",
   "metadata": {},
   "outputs": [],
   "source": []
  }
 ],
 "metadata": {
  "kernelspec": {
   "display_name": "envs-feds",
   "language": "python",
   "name": "envs-feds"
  },
  "language_info": {
   "codemirror_mode": {
    "name": "ipython",
    "version": 3
   },
   "file_extension": ".py",
   "mimetype": "text/x-python",
   "name": "python",
   "nbconvert_exporter": "python",
   "pygments_lexer": "ipython3",
   "version": "3.10.6"
  }
 },
 "nbformat": 4,
 "nbformat_minor": 5
}
