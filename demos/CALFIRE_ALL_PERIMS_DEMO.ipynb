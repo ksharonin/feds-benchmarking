{
 "cells": [
  {
   "cell_type": "markdown",
   "id": "0016dae2-188f-4b16-981c-1dc9a895666f",
   "metadata": {},
   "source": [
    "# Demo 4: FEDS Archived V.S. CAL FIRE California Perimeter All Collection for 2017 Thomas Fire, CA"
   ]
  },
  {
   "cell_type": "markdown",
   "id": "5d9cbe8e-b17a-477c-807b-fe0d772837dc",
   "metadata": {},
   "source": [
    "### Summary\n",
    "\n",
    "This notebook demonstrates the capabilities of the FEDS-PEC module to function on\n",
    "\n",
    "Sources for demonstration:\n",
    "- FEDS archived perimeters, labeled as `\"public.eis_fire_lf_perimeter_archive\"`\n",
    "- CAL FIRE all california perimeters, treated as historic, labeled as `\"california_fire_perimeters_all\"`\n",
    "\n",
    "\n",
    "The FEDS input and reference input can use either a pre-defined setting or can accept (valid) user-written paths to shape files. \n",
    "- For Input all settings, please see **section INPUT SETTINGS of README.md**  \n",
    "- Output settings can also be modified to control if calculations are printed, plotted, and/or stored into a file (with location and file type of choice); for more detail on outputs please see **section OUTPUT SETTINGS of README.md**\n",
    "\n",
    "### Selected Example + Disclaimer\n",
    "\n",
    "\n",
    "#### Motivation \n",
    "\n"
   ]
  },
  {
   "cell_type": "code",
   "execution_count": 1,
   "id": "c792e6c2-f738-403f-88eb-6c5eeecd21a2",
   "metadata": {
    "tags": []
   },
   "outputs": [],
   "source": [
    "import sys\n",
    "sys.path.append('/projects/my-public-bucket/VEDA-PEC')\n",
    "\n",
    "import Utilities\n",
    "import Input_FEDS\n",
    "import Input_Reference\n",
    "import Output_Calculation\n",
    "\n",
    "from Input_FEDS import InputFEDS\n",
    "from Input_Reference import InputReference\n",
    "from Output_Calculation import OutputCalculation\n",
    "from Utilities import *"
   ]
  },
  {
   "cell_type": "code",
   "execution_count": 2,
   "id": "7d5e7e8f-4d16-459e-b9b1-aec32a5a6b8d",
   "metadata": {
    "tags": []
   },
   "outputs": [],
   "source": [
    "# this is the ONLY thing users are intended to modify!\n",
    "# inputs for searching FEDS and nifc sets\n",
    "\n",
    "# START TIME\n",
    "year_start = 2020\n",
    "month_start = 8\n",
    "day_start = 15\n",
    "hour_start = 0\n",
    "minute_start = 0\n",
    "second_start = 0\n",
    "tz_offset_hours_start = 0\n",
    "tz_offset_minutes_start = 0\n",
    "utc_offset_start = '00:00'\n",
    "\n",
    "# END TIME\n",
    "year_stop = 2020\n",
    "month_stop = 9\n",
    "day_stop = 20\n",
    "hour_stop = 0\n",
    "minute_stop = 0\n",
    "second_stop = 0\n",
    "tz_offset_hours_stop = 0\n",
    "tz_offset_minutes_stop = 0\n",
    "utc_offset_stop = '00:00'\n",
    "\n",
    "# CRS - 4326 RECOMMENDED FEDS FIRE PERIM DEFAULT\n",
    "crs = 3857 # 4326\n",
    "\n",
    "# BBOX FOR SEARCH - [lon, lat, lon, lat]\n",
    "# 40.634026, -123.894958\n",
    "# 39.529218, -122.290878\n",
    "search_bbox = [\"-123.894958\",\"40.634026\",\"-122.290878\",\"39.529218\"]\n",
    "\n",
    "\n",
    "day_search_range = 7 # acceptable distance to search from feds -> reference (e.g. if refernce polygon is 8 days away, it is not included in calculations)\n",
    "\n",
    "# FEDS INPUT SETTINGS  # [Change to FEDS Input settings]\n",
    "feds_title = \"firenrt\"\n",
    "feds_collection =  \"public.eis_fire_lf_perimeter_archive\"\n",
    "feds_access_type = \"api\" # or \"local\n",
    "feds_limit = 1000 # amount of features to consider for FEDS API access; warning appears if it misses any entries\n",
    "feds_filter = False # False or a valid query: e.g. \"farea>5 AND duration>2\"\n",
    "feds_apply_finalfire = True # set this to true if you want the only the latest fireID to be taken per unique FireID\n",
    "\n",
    "# REFERENCE INPUT SETTINGS \n",
    "ref_title = \"california_fire_perimeters_all\" # this is a predefined set example\n",
    "ref_control_type = \"defined\" # or \"custom\"\n",
    "ref_custom_url = \"none\" # not custom for demo\n",
    "ref_custom_read_type = \"none\"  # not custom for demo\n",
    "ref_filter = False # False or a valid query\n",
    "\n",
    "# OUTPUT SETTINGS\n",
    "maap_username = \"ksharonin\" # per user, in order to store into user's own public bucket\n",
    "name_for_output_file = f\"firenrt_vs_nifc_interagency_{year_start}_{search_bbox[0]}_{search_bbox[1]}_{search_bbox[2]}_{search_bbox[3]}\" # name for your file EXCLUDING PREFIX!\n",
    "output_format = \"txt\" # prefix txt, json, others coming\n",
    "print_on = True # print to jupyter nb\n",
    "plot_on = False # display plot of comparison\n",
    "\n",
    "# NOTE: for now don't modify this, just showing you how url is contructed\n",
    "# [ why would the output need to be maap? Why not just let the user pass a path?]\n",
    "output_maap_url = f\"s3://maap-ops-workspace/shared/{maap_username}/{name_for_output_file}.{output_format}\" # maap url to save; MUST BE MAAPS URL! (for now at least to make things simple"
   ]
  },
  {
   "cell_type": "markdown",
   "id": "e4f11381-5d8e-42a0-af81-14368b1aa8a2",
   "metadata": {},
   "source": [
    "### Argument Processing: format and check to report any issues\n",
    "- Note: upon instance instantiation we can also get reports back of invalidity -> any warnings/errors should be addressed"
   ]
  },
  {
   "cell_type": "code",
   "execution_count": 3,
   "id": "1322886e-5f51-4552-b428-40a6e797bacd",
   "metadata": {
    "tags": []
   },
   "outputs": [],
   "source": [
    "\n",
    "# start date formatting\n",
    "search_start = Utilities.format_datetime(year_start, \n",
    "                                         month_start, \n",
    "                                         day_start, \n",
    "                                         hour_start, \n",
    "                                         minute_start, \n",
    "                                         second_start, \n",
    "                                         tz_offset_hours_start, \n",
    "                                         tz_offset_minutes_start,\n",
    "                                         utc_offset_start)\n",
    "# stop date formatting\n",
    "search_stop = Utilities.format_datetime(year_stop, \n",
    "                                        month_stop, \n",
    "                                        day_stop, \n",
    "                                        hour_stop, \n",
    "                                        minute_stop, \n",
    "                                        second_stop, \n",
    "                                        tz_offset_hours_stop, \n",
    "                                        tz_offset_minutes_stop,\n",
    "                                        utc_offset_stop)\n",
    "\n",
    "# bound check the bbox\n",
    "assert Utilities.check_bbox(search_bbox), f\"ERR: passed bbox {search_bbox} is not valid; check bounds\"\n",
    "assert  Utilities.check_crs(crs), f\"ERR: invalid crs provided {crs}; please enter valid ESPG CRS number\""
   ]
  },
  {
   "cell_type": "markdown",
   "id": "55724f7b-8b88-41cb-a755-7b6401060831",
   "metadata": {
    "tags": []
   },
   "source": [
    "### Using Inputs: Instantiate Inputs + Calculation Output\n",
    "\n",
    "With our inputs, we are ready to start; run this to get the program to fetch the FEDS candidates in the provided time/location window, along with an intersecting NIFC in the specific day range\n",
    "\n",
    "In this case, we get the latest object of FEDS in the kincade zone + its NIFC closest match, which is about 6 days away and heavily intersecting"
   ]
  },
  {
   "cell_type": "code",
   "execution_count": 4,
   "id": "2fa3c5a6-a37a-4913-b845-8e39b618e469",
   "metadata": {
    "tags": []
   },
   "outputs": [
    {
     "name": "stdout",
     "output_type": "stream",
     "text": [
      "You may see an ERROR 1 occur; ignore this unless block throws actual exception...\n",
      "You may see WARNING:fiona.ogrext:Expecting property name enclosed in double quotes: line 1 column 2 (char 1); you can ignore this error safely\n"
     ]
    },
    {
     "name": "stderr",
     "output_type": "stream",
     "text": [
      "ERROR 1: PROJ: proj_create_from_database: Open of /projects/env-feds/share/proj failed\n",
      "ERROR:root:FAILED: No matching dates found even with provided day search range window: 7, critical benchmarking failure.\n",
      "WARNING:root:Due to failing window, use first intersection as value\n",
      "WARNING:root:FEDS polygon at index 37 has MULTIPLE qualifying polygons to compare against: 2 resulted. Select first polygon only; SUBJECT TO CHANGE!\n",
      "ERROR:root:FAILED: No matching dates found even with provided day search range window: 7, critical benchmarking failure.\n",
      "WARNING:root:Due to failing window, use first intersection as value\n",
      "ERROR:shapely.geos:TopologyException: Input geom 1 is invalid: Nested shells at -123.417088362482 40.3837443499866\n"
     ]
    },
    {
     "ename": "TopologicalError",
     "evalue": "The operation 'GEOSSymDifference_r' could not be performed. Likely cause is invalidity of the geometry <shapely.geometry.multipolygon.MultiPolygon object at 0x7f3b791779a0>",
     "output_type": "error",
     "traceback": [
      "\u001b[0;31m---------------------------------------------------------------------------\u001b[0m",
      "\u001b[0;31mTopologicalError\u001b[0m                          Traceback (most recent call last)",
      "Input \u001b[0;32mIn [4]\u001b[0m, in \u001b[0;36m<cell line: 33>\u001b[0;34m()\u001b[0m\n\u001b[1;32m      8\u001b[0m feds_firenrt \u001b[38;5;241m=\u001b[39m InputFEDS(\n\u001b[1;32m      9\u001b[0m                  feds_title, \n\u001b[1;32m     10\u001b[0m                  feds_collection, \n\u001b[0;32m   (...)\u001b[0m\n\u001b[1;32m     18\u001b[0m                  feds_apply_finalfire\n\u001b[1;32m     19\u001b[0m                 )\n\u001b[1;32m     21\u001b[0m nifc_search \u001b[38;5;241m=\u001b[39m InputReference( \n\u001b[1;32m     22\u001b[0m                  search_start,\n\u001b[1;32m     23\u001b[0m                  search_stop,\n\u001b[0;32m   (...)\u001b[0m\n\u001b[1;32m     30\u001b[0m                  ref_filter,\n\u001b[1;32m     31\u001b[0m                 )\n\u001b[0;32m---> 33\u001b[0m my_output \u001b[38;5;241m=\u001b[39m \u001b[43mOutputCalculation\u001b[49m\u001b[43m(\u001b[49m\n\u001b[1;32m     34\u001b[0m \u001b[43m                \u001b[49m\u001b[43mfeds_firenrt\u001b[49m\u001b[43m,\u001b[49m\n\u001b[1;32m     35\u001b[0m \u001b[43m                \u001b[49m\u001b[43mnifc_search\u001b[49m\u001b[43m,\u001b[49m\n\u001b[1;32m     36\u001b[0m \u001b[43m                \u001b[49m\u001b[43moutput_format\u001b[49m\u001b[43m,\u001b[49m\u001b[43m \u001b[49m\n\u001b[1;32m     37\u001b[0m \u001b[43m                \u001b[49m\u001b[43moutput_maap_url\u001b[49m\u001b[43m,\u001b[49m\n\u001b[1;32m     38\u001b[0m \u001b[43m                \u001b[49m\u001b[43mday_search_range\u001b[49m\u001b[43m,\u001b[49m\n\u001b[1;32m     39\u001b[0m \u001b[43m                \u001b[49m\u001b[43mprint_on\u001b[49m\u001b[43m,\u001b[49m\n\u001b[1;32m     40\u001b[0m \u001b[43m                \u001b[49m\u001b[43mplot_on\u001b[49m\n\u001b[1;32m     41\u001b[0m \u001b[43m                \u001b[49m\u001b[43m)\u001b[49m\n",
      "File \u001b[0;32m~/my-public-bucket/VEDA-PEC/Output_Calculation.py:61\u001b[0m, in \u001b[0;36mOutputCalculation.__init__\u001b[0;34m(self, feds_input, ref_input, output_format, output_maap_url, day_search_range, print_on, plot_on)\u001b[0m\n\u001b[1;32m     58\u001b[0m \u001b[38;5;28mself\u001b[39m\u001b[38;5;241m.\u001b[39m_s3_url \u001b[38;5;241m=\u001b[39m \u001b[38;5;28;01mNone\u001b[39;00m \u001b[38;5;66;03m# possibly delete?\u001b[39;00m\n\u001b[1;32m     60\u001b[0m \u001b[38;5;66;03m# SINGLE SETUP\u001b[39;00m\n\u001b[0;32m---> 61\u001b[0m \u001b[38;5;28;43mself\u001b[39;49m\u001b[38;5;241;43m.\u001b[39;49m\u001b[43m__set_up_master\u001b[49m\u001b[43m(\u001b[49m\u001b[43m)\u001b[49m\n",
      "File \u001b[0;32m~/my-public-bucket/VEDA-PEC/Output_Calculation.py:86\u001b[0m, in \u001b[0;36mOutputCalculation.__set_up_master\u001b[0;34m(self)\u001b[0m\n\u001b[1;32m     82\u001b[0m \u001b[38;5;28;01massert\u001b[39;00m \u001b[38;5;28mself\u001b[39m\u001b[38;5;241m.\u001b[39m_feds_input\u001b[38;5;241m.\u001b[39mcrs \u001b[38;5;241m==\u001b[39m \u001b[38;5;28mself\u001b[39m\u001b[38;5;241m.\u001b[39m_ref_input\u001b[38;5;241m.\u001b[39mcrs, \u001b[38;5;124mf\u001b[39m\u001b[38;5;124m\"\u001b[39m\u001b[38;5;124mMismatching CRS for FEDS and reference; must correct before continuing: feds: \u001b[39m\u001b[38;5;132;01m{\u001b[39;00m\u001b[38;5;28mself\u001b[39m\u001b[38;5;241m.\u001b[39m_feds_input\u001b[38;5;241m.\u001b[39mcrs\u001b[38;5;132;01m}\u001b[39;00m\u001b[38;5;124m vs ref: \u001b[39m\u001b[38;5;132;01m{\u001b[39;00m\u001b[38;5;28mself\u001b[39m\u001b[38;5;241m.\u001b[39m_ref_input\u001b[38;5;241m.\u001b[39mcrs\u001b[38;5;132;01m}\u001b[39;00m\u001b[38;5;124m\"\u001b[39m\n\u001b[1;32m     85\u001b[0m \u001b[38;5;66;03m# run calculations\u001b[39;00m\n\u001b[0;32m---> 86\u001b[0m \u001b[38;5;28;43mself\u001b[39;49m\u001b[38;5;241;43m.\u001b[39;49m\u001b[43m__run_calculations\u001b[49m\u001b[43m(\u001b[49m\u001b[43m)\u001b[49m \u001b[38;5;66;03m# --> internally finds best matches and runs on the best matches\u001b[39;00m\n\u001b[1;32m     88\u001b[0m \u001b[38;5;66;03m# TODO\u001b[39;00m\n\u001b[1;32m     89\u001b[0m \u001b[38;5;66;03m# self.__set_up_output_maap_file()\u001b[39;00m\n\u001b[1;32m     90\u001b[0m \u001b[38;5;66;03m# self.__write_to_output_file()\u001b[39;00m\n\u001b[1;32m     91\u001b[0m \n\u001b[1;32m     92\u001b[0m \u001b[38;5;66;03m# TODO\u001b[39;00m\n\u001b[1;32m     93\u001b[0m \u001b[38;5;28;01mif\u001b[39;00m \u001b[38;5;28mself\u001b[39m\u001b[38;5;241m.\u001b[39m_print_on:\n",
      "File \u001b[0;32m~/my-public-bucket/VEDA-PEC/Output_Calculation.py:181\u001b[0m, in \u001b[0;36mOutputCalculation.__run_calculations\u001b[0;34m(self)\u001b[0m\n\u001b[1;32m    179\u001b[0m iou\u001b[38;5;241m=\u001b[39m OutputCalculation\u001b[38;5;241m.\u001b[39mIOUCalculation(feds_poly, ref_poly)\n\u001b[1;32m    180\u001b[0m f1 \u001b[38;5;241m=\u001b[39m OutputCalculation\u001b[38;5;241m.\u001b[39mf1ScoreCalculation(feds_poly, ref_poly) \n\u001b[0;32m--> 181\u001b[0m symm_ratio \u001b[38;5;241m=\u001b[39m \u001b[43mOutputCalculation\u001b[49m\u001b[38;5;241;43m.\u001b[39;49m\u001b[43msymmDiffRatioCalculation\u001b[49m\u001b[43m(\u001b[49m\u001b[43mfeds_poly\u001b[49m\u001b[43m,\u001b[49m\u001b[43m \u001b[49m\u001b[43mref_poly\u001b[49m\u001b[43m)\u001b[49m \u001b[38;5;66;03m# indep calc\u001b[39;00m\n\u001b[1;32m    183\u001b[0m \u001b[38;5;66;03m# add to tracking arr                    \u001b[39;00m\n\u001b[1;32m    184\u001b[0m calculations[\u001b[38;5;124m'\u001b[39m\u001b[38;5;124mratio\u001b[39m\u001b[38;5;124m'\u001b[39m]\u001b[38;5;241m.\u001b[39mappend(ratio)\n",
      "File \u001b[0;32m~/my-public-bucket/VEDA-PEC/Output_Calculation.py:583\u001b[0m, in \u001b[0;36mOutputCalculation.symmDiffRatioCalculation\u001b[0;34m(feds_inst, nifc_inst)\u001b[0m\n\u001b[1;32m    579\u001b[0m \u001b[38;5;28;01mdef\u001b[39;00m \u001b[38;5;21msymmDiffRatioCalculation\u001b[39m(feds_inst, nifc_inst):\n\u001b[1;32m    580\u001b[0m     \u001b[38;5;124;03m\"\"\" symmetric difference calc, ratio \u001b[39;00m\n\u001b[1;32m    581\u001b[0m \u001b[38;5;124;03m        NOTE: error relative to NIFC/external soure\u001b[39;00m\n\u001b[1;32m    582\u001b[0m \u001b[38;5;124;03m    \"\"\"\u001b[39;00m\n\u001b[0;32m--> 583\u001b[0m     sym_diff \u001b[38;5;241m=\u001b[39m \u001b[43mfeds_inst\u001b[49m\u001b[38;5;241;43m.\u001b[39;49m\u001b[43msymmetric_difference\u001b[49m\u001b[43m(\u001b[49m\u001b[43mnifc_inst\u001b[49m\u001b[43m,\u001b[49m\u001b[43m \u001b[49m\u001b[43malign\u001b[49m\u001b[38;5;241;43m=\u001b[39;49m\u001b[38;5;28;43;01mFalse\u001b[39;49;00m\u001b[43m)\u001b[49m\n\u001b[1;32m    584\u001b[0m     \u001b[38;5;66;03m# use item() to fetch int out of values\u001b[39;00m\n\u001b[1;32m    585\u001b[0m     \u001b[38;5;28;01massert\u001b[39;00m sym_diff\u001b[38;5;241m.\u001b[39mshape[\u001b[38;5;241m0\u001b[39m] \u001b[38;5;241m==\u001b[39m \u001b[38;5;241m1\u001b[39m, \u001b[38;5;124m\"\u001b[39m\u001b[38;5;124mMultiple sym_diff entries identified; pair accuracy evaluation will fail.\u001b[39m\u001b[38;5;124m\"\u001b[39m\n",
      "File \u001b[0;32m~/env-feds/lib/python3.10/site-packages/geopandas/base.py:2311\u001b[0m, in \u001b[0;36mGeoPandasBase.symmetric_difference\u001b[0;34m(self, other, align)\u001b[0m\n\u001b[1;32m   2198\u001b[0m \u001b[38;5;28;01mdef\u001b[39;00m \u001b[38;5;21msymmetric_difference\u001b[39m(\u001b[38;5;28mself\u001b[39m, other, align\u001b[38;5;241m=\u001b[39m\u001b[38;5;28;01mTrue\u001b[39;00m):\n\u001b[1;32m   2199\u001b[0m     \u001b[38;5;124;03m\"\"\"Returns a ``GeoSeries`` of the symmetric difference of points in\u001b[39;00m\n\u001b[1;32m   2200\u001b[0m \u001b[38;5;124;03m    each aligned geometry with `other`.\u001b[39;00m\n\u001b[1;32m   2201\u001b[0m \n\u001b[0;32m   (...)\u001b[0m\n\u001b[1;32m   2309\u001b[0m \u001b[38;5;124;03m    GeoSeries.intersection\u001b[39;00m\n\u001b[1;32m   2310\u001b[0m \u001b[38;5;124;03m    \"\"\"\u001b[39;00m\n\u001b[0;32m-> 2311\u001b[0m     \u001b[38;5;28;01mreturn\u001b[39;00m \u001b[43m_binary_geo\u001b[49m\u001b[43m(\u001b[49m\u001b[38;5;124;43m\"\u001b[39;49m\u001b[38;5;124;43msymmetric_difference\u001b[39;49m\u001b[38;5;124;43m\"\u001b[39;49m\u001b[43m,\u001b[49m\u001b[43m \u001b[49m\u001b[38;5;28;43mself\u001b[39;49m\u001b[43m,\u001b[49m\u001b[43m \u001b[49m\u001b[43mother\u001b[49m\u001b[43m,\u001b[49m\u001b[43m \u001b[49m\u001b[43malign\u001b[49m\u001b[43m)\u001b[49m\n",
      "File \u001b[0;32m~/env-feds/lib/python3.10/site-packages/geopandas/base.py:52\u001b[0m, in \u001b[0;36m_binary_geo\u001b[0;34m(op, this, other, align)\u001b[0m\n\u001b[1;32m     49\u001b[0m \u001b[38;5;124;03m\"\"\"Binary operation on GeoSeries objects that returns a GeoSeries\"\"\"\u001b[39;00m\n\u001b[1;32m     50\u001b[0m \u001b[38;5;28;01mfrom\u001b[39;00m \u001b[38;5;21;01m.\u001b[39;00m\u001b[38;5;21;01mgeoseries\u001b[39;00m \u001b[38;5;28;01mimport\u001b[39;00m GeoSeries\n\u001b[0;32m---> 52\u001b[0m geoms, index \u001b[38;5;241m=\u001b[39m \u001b[43m_delegate_binary_method\u001b[49m\u001b[43m(\u001b[49m\u001b[43mop\u001b[49m\u001b[43m,\u001b[49m\u001b[43m \u001b[49m\u001b[43mthis\u001b[49m\u001b[43m,\u001b[49m\u001b[43m \u001b[49m\u001b[43mother\u001b[49m\u001b[43m,\u001b[49m\u001b[43m \u001b[49m\u001b[43malign\u001b[49m\u001b[43m)\u001b[49m\n\u001b[1;32m     53\u001b[0m \u001b[38;5;28;01mreturn\u001b[39;00m GeoSeries(geoms\u001b[38;5;241m.\u001b[39mdata, index\u001b[38;5;241m=\u001b[39mindex, crs\u001b[38;5;241m=\u001b[39mthis\u001b[38;5;241m.\u001b[39mcrs)\n",
      "File \u001b[0;32m~/env-feds/lib/python3.10/site-packages/geopandas/base.py:43\u001b[0m, in \u001b[0;36m_delegate_binary_method\u001b[0;34m(op, this, other, align, *args, **kwargs)\u001b[0m\n\u001b[1;32m     40\u001b[0m \u001b[38;5;28;01melse\u001b[39;00m:\n\u001b[1;32m     41\u001b[0m     \u001b[38;5;28;01mraise\u001b[39;00m \u001b[38;5;167;01mTypeError\u001b[39;00m(\u001b[38;5;28mtype\u001b[39m(this), \u001b[38;5;28mtype\u001b[39m(other))\n\u001b[0;32m---> 43\u001b[0m data \u001b[38;5;241m=\u001b[39m \u001b[38;5;28;43mgetattr\u001b[39;49m\u001b[43m(\u001b[49m\u001b[43ma_this\u001b[49m\u001b[43m,\u001b[49m\u001b[43m \u001b[49m\u001b[43mop\u001b[49m\u001b[43m)\u001b[49m\u001b[43m(\u001b[49m\u001b[43mother\u001b[49m\u001b[43m,\u001b[49m\u001b[43m \u001b[49m\u001b[38;5;241;43m*\u001b[39;49m\u001b[43margs\u001b[49m\u001b[43m,\u001b[49m\u001b[43m \u001b[49m\u001b[38;5;241;43m*\u001b[39;49m\u001b[38;5;241;43m*\u001b[39;49m\u001b[43mkwargs\u001b[49m\u001b[43m)\u001b[49m\n\u001b[1;32m     44\u001b[0m \u001b[38;5;28;01mreturn\u001b[39;00m data, this\u001b[38;5;241m.\u001b[39mindex\n",
      "File \u001b[0;32m~/env-feds/lib/python3.10/site-packages/geopandas/array.py:584\u001b[0m, in \u001b[0;36mGeometryArray.symmetric_difference\u001b[0;34m(self, other)\u001b[0m\n\u001b[1;32m    582\u001b[0m \u001b[38;5;28;01mdef\u001b[39;00m \u001b[38;5;21msymmetric_difference\u001b[39m(\u001b[38;5;28mself\u001b[39m, other):\n\u001b[1;32m    583\u001b[0m     \u001b[38;5;28;01mreturn\u001b[39;00m GeometryArray(\n\u001b[0;32m--> 584\u001b[0m         \u001b[38;5;28;43mself\u001b[39;49m\u001b[38;5;241;43m.\u001b[39;49m\u001b[43m_binary_method\u001b[49m\u001b[43m(\u001b[49m\u001b[38;5;124;43m\"\u001b[39;49m\u001b[38;5;124;43msymmetric_difference\u001b[39;49m\u001b[38;5;124;43m\"\u001b[39;49m\u001b[43m,\u001b[49m\u001b[43m \u001b[49m\u001b[38;5;28;43mself\u001b[39;49m\u001b[43m,\u001b[49m\u001b[43m \u001b[49m\u001b[43mother\u001b[49m\u001b[43m)\u001b[49m, crs\u001b[38;5;241m=\u001b[39m\u001b[38;5;28mself\u001b[39m\u001b[38;5;241m.\u001b[39mcrs\n\u001b[1;32m    585\u001b[0m     )\n",
      "File \u001b[0;32m~/env-feds/lib/python3.10/site-packages/geopandas/array.py:524\u001b[0m, in \u001b[0;36mGeometryArray._binary_method\u001b[0;34m(op, left, right, **kwargs)\u001b[0m\n\u001b[1;32m    521\u001b[0m         _crs_mismatch_warn(left, right, stacklevel\u001b[38;5;241m=\u001b[39m\u001b[38;5;241m7\u001b[39m)\n\u001b[1;32m    522\u001b[0m     right \u001b[38;5;241m=\u001b[39m right\u001b[38;5;241m.\u001b[39mdata\n\u001b[0;32m--> 524\u001b[0m \u001b[38;5;28;01mreturn\u001b[39;00m \u001b[38;5;28;43mgetattr\u001b[39;49m\u001b[43m(\u001b[49m\u001b[43mvectorized\u001b[49m\u001b[43m,\u001b[49m\u001b[43m \u001b[49m\u001b[43mop\u001b[49m\u001b[43m)\u001b[49m\u001b[43m(\u001b[49m\u001b[43mleft\u001b[49m\u001b[38;5;241;43m.\u001b[39;49m\u001b[43mdata\u001b[49m\u001b[43m,\u001b[49m\u001b[43m \u001b[49m\u001b[43mright\u001b[49m\u001b[43m,\u001b[49m\u001b[43m \u001b[49m\u001b[38;5;241;43m*\u001b[39;49m\u001b[38;5;241;43m*\u001b[39;49m\u001b[43mkwargs\u001b[49m\u001b[43m)\u001b[49m\n",
      "File \u001b[0;32m~/env-feds/lib/python3.10/site-packages/geopandas/_vectorized.py:764\u001b[0m, in \u001b[0;36msymmetric_difference\u001b[0;34m(data, other)\u001b[0m\n\u001b[1;32m    762\u001b[0m     \u001b[38;5;28;01mreturn\u001b[39;00m _binary_method(\u001b[38;5;124m\"\u001b[39m\u001b[38;5;124msymmetric_difference\u001b[39m\u001b[38;5;124m\"\u001b[39m, data, other)\n\u001b[1;32m    763\u001b[0m \u001b[38;5;28;01melse\u001b[39;00m:\n\u001b[0;32m--> 764\u001b[0m     \u001b[38;5;28;01mreturn\u001b[39;00m \u001b[43m_binary_geo\u001b[49m\u001b[43m(\u001b[49m\u001b[38;5;124;43m\"\u001b[39;49m\u001b[38;5;124;43msymmetric_difference\u001b[39;49m\u001b[38;5;124;43m\"\u001b[39;49m\u001b[43m,\u001b[49m\u001b[43m \u001b[49m\u001b[43mdata\u001b[49m\u001b[43m,\u001b[49m\u001b[43m \u001b[49m\u001b[43mother\u001b[49m\u001b[43m)\u001b[49m\n",
      "File \u001b[0;32m~/env-feds/lib/python3.10/site-packages/geopandas/_vectorized.py:305\u001b[0m, in \u001b[0;36m_binary_geo\u001b[0;34m(op, left, right)\u001b[0m\n\u001b[1;32m    303\u001b[0m     data \u001b[38;5;241m=\u001b[39m np\u001b[38;5;241m.\u001b[39mempty(\u001b[38;5;28mlen\u001b[39m(left), dtype\u001b[38;5;241m=\u001b[39m\u001b[38;5;28mobject\u001b[39m)\n\u001b[1;32m    304\u001b[0m     \u001b[38;5;28;01mwith\u001b[39;00m compat\u001b[38;5;241m.\u001b[39mignore_shapely2_warnings():\n\u001b[0;32m--> 305\u001b[0m         data[:] \u001b[38;5;241m=\u001b[39m [\n\u001b[1;32m    306\u001b[0m             \u001b[38;5;28mgetattr\u001b[39m(this_elem, op)(other_elem)\n\u001b[1;32m    307\u001b[0m             \u001b[38;5;28;01mif\u001b[39;00m this_elem \u001b[38;5;129;01mis\u001b[39;00m \u001b[38;5;129;01mnot\u001b[39;00m \u001b[38;5;28;01mNone\u001b[39;00m \u001b[38;5;129;01mand\u001b[39;00m other_elem \u001b[38;5;129;01mis\u001b[39;00m \u001b[38;5;129;01mnot\u001b[39;00m \u001b[38;5;28;01mNone\u001b[39;00m\n\u001b[1;32m    308\u001b[0m             \u001b[38;5;28;01melse\u001b[39;00m \u001b[38;5;28;01mNone\u001b[39;00m\n\u001b[1;32m    309\u001b[0m             \u001b[38;5;28;01mfor\u001b[39;00m this_elem, other_elem \u001b[38;5;129;01min\u001b[39;00m \u001b[38;5;28mzip\u001b[39m(left, right)\n\u001b[1;32m    310\u001b[0m         ]\n\u001b[1;32m    311\u001b[0m     \u001b[38;5;28;01mreturn\u001b[39;00m data\n\u001b[1;32m    312\u001b[0m \u001b[38;5;28;01melse\u001b[39;00m:\n",
      "File \u001b[0;32m~/env-feds/lib/python3.10/site-packages/geopandas/_vectorized.py:306\u001b[0m, in \u001b[0;36m<listcomp>\u001b[0;34m(.0)\u001b[0m\n\u001b[1;32m    303\u001b[0m     data \u001b[38;5;241m=\u001b[39m np\u001b[38;5;241m.\u001b[39mempty(\u001b[38;5;28mlen\u001b[39m(left), dtype\u001b[38;5;241m=\u001b[39m\u001b[38;5;28mobject\u001b[39m)\n\u001b[1;32m    304\u001b[0m     \u001b[38;5;28;01mwith\u001b[39;00m compat\u001b[38;5;241m.\u001b[39mignore_shapely2_warnings():\n\u001b[1;32m    305\u001b[0m         data[:] \u001b[38;5;241m=\u001b[39m [\n\u001b[0;32m--> 306\u001b[0m             \u001b[38;5;28;43mgetattr\u001b[39;49m\u001b[43m(\u001b[49m\u001b[43mthis_elem\u001b[49m\u001b[43m,\u001b[49m\u001b[43m \u001b[49m\u001b[43mop\u001b[49m\u001b[43m)\u001b[49m\u001b[43m(\u001b[49m\u001b[43mother_elem\u001b[49m\u001b[43m)\u001b[49m\n\u001b[1;32m    307\u001b[0m             \u001b[38;5;28;01mif\u001b[39;00m this_elem \u001b[38;5;129;01mis\u001b[39;00m \u001b[38;5;129;01mnot\u001b[39;00m \u001b[38;5;28;01mNone\u001b[39;00m \u001b[38;5;129;01mand\u001b[39;00m other_elem \u001b[38;5;129;01mis\u001b[39;00m \u001b[38;5;129;01mnot\u001b[39;00m \u001b[38;5;28;01mNone\u001b[39;00m\n\u001b[1;32m    308\u001b[0m             \u001b[38;5;28;01melse\u001b[39;00m \u001b[38;5;28;01mNone\u001b[39;00m\n\u001b[1;32m    309\u001b[0m             \u001b[38;5;28;01mfor\u001b[39;00m this_elem, other_elem \u001b[38;5;129;01min\u001b[39;00m \u001b[38;5;28mzip\u001b[39m(left, right)\n\u001b[1;32m    310\u001b[0m         ]\n\u001b[1;32m    311\u001b[0m     \u001b[38;5;28;01mreturn\u001b[39;00m data\n\u001b[1;32m    312\u001b[0m \u001b[38;5;28;01melse\u001b[39;00m:\n",
      "File \u001b[0;32m~/env-feds/lib/python3.10/site-packages/shapely/geometry/base.py:698\u001b[0m, in \u001b[0;36mBaseGeometry.symmetric_difference\u001b[0;34m(self, other)\u001b[0m\n\u001b[1;32m    695\u001b[0m \u001b[38;5;28;01mdef\u001b[39;00m \u001b[38;5;21msymmetric_difference\u001b[39m(\u001b[38;5;28mself\u001b[39m, other):\n\u001b[1;32m    696\u001b[0m     \u001b[38;5;124;03m\"\"\"Returns the symmetric difference of the geometries\u001b[39;00m\n\u001b[1;32m    697\u001b[0m \u001b[38;5;124;03m    (Shapely geometry)\"\"\"\u001b[39;00m\n\u001b[0;32m--> 698\u001b[0m     \u001b[38;5;28;01mreturn\u001b[39;00m geom_factory(\u001b[38;5;28;43mself\u001b[39;49m\u001b[38;5;241;43m.\u001b[39;49m\u001b[43mimpl\u001b[49m\u001b[43m[\u001b[49m\u001b[38;5;124;43m'\u001b[39;49m\u001b[38;5;124;43msymmetric_difference\u001b[39;49m\u001b[38;5;124;43m'\u001b[39;49m\u001b[43m]\u001b[49m\u001b[43m(\u001b[49m\u001b[38;5;28;43mself\u001b[39;49m\u001b[43m,\u001b[49m\u001b[43m \u001b[49m\u001b[43mother\u001b[49m\u001b[43m)\u001b[49m)\n",
      "File \u001b[0;32m~/env-feds/lib/python3.10/site-packages/shapely/topology.py:73\u001b[0m, in \u001b[0;36mBinaryTopologicalOp.__call__\u001b[0;34m(self, this, other, *args)\u001b[0m\n\u001b[1;32m     70\u001b[0m \u001b[38;5;28;01mif\u001b[39;00m product \u001b[38;5;129;01mis\u001b[39;00m \u001b[38;5;28;01mNone\u001b[39;00m:\n\u001b[1;32m     71\u001b[0m     err \u001b[38;5;241m=\u001b[39m TopologicalError(\n\u001b[1;32m     72\u001b[0m             \u001b[38;5;124m\"\u001b[39m\u001b[38;5;124mThis operation could not be performed. Reason: unknown\u001b[39m\u001b[38;5;124m\"\u001b[39m)\n\u001b[0;32m---> 73\u001b[0m     \u001b[38;5;28;43mself\u001b[39;49m\u001b[38;5;241;43m.\u001b[39;49m\u001b[43m_check_topology\u001b[49m\u001b[43m(\u001b[49m\u001b[43merr\u001b[49m\u001b[43m,\u001b[49m\u001b[43m \u001b[49m\u001b[43mthis\u001b[49m\u001b[43m,\u001b[49m\u001b[43m \u001b[49m\u001b[43mother\u001b[49m\u001b[43m)\u001b[49m\n\u001b[1;32m     74\u001b[0m \u001b[38;5;28;01mreturn\u001b[39;00m product\n",
      "File \u001b[0;32m~/env-feds/lib/python3.10/site-packages/shapely/topology.py:38\u001b[0m, in \u001b[0;36mDelegating._check_topology\u001b[0;34m(self, err, *geoms)\u001b[0m\n\u001b[1;32m     36\u001b[0m \u001b[38;5;28;01mfor\u001b[39;00m geom \u001b[38;5;129;01min\u001b[39;00m geoms:\n\u001b[1;32m     37\u001b[0m     \u001b[38;5;28;01mif\u001b[39;00m \u001b[38;5;129;01mnot\u001b[39;00m geom\u001b[38;5;241m.\u001b[39mis_valid:\n\u001b[0;32m---> 38\u001b[0m         \u001b[38;5;28;01mraise\u001b[39;00m TopologicalError(\n\u001b[1;32m     39\u001b[0m             \u001b[38;5;124m\"\u001b[39m\u001b[38;5;124mThe operation \u001b[39m\u001b[38;5;124m'\u001b[39m\u001b[38;5;132;01m%s\u001b[39;00m\u001b[38;5;124m'\u001b[39m\u001b[38;5;124m could not be performed. \u001b[39m\u001b[38;5;124m\"\u001b[39m\n\u001b[1;32m     40\u001b[0m             \u001b[38;5;124m\"\u001b[39m\u001b[38;5;124mLikely cause is invalidity of the geometry \u001b[39m\u001b[38;5;132;01m%s\u001b[39;00m\u001b[38;5;124m\"\u001b[39m \u001b[38;5;241m%\u001b[39m (\n\u001b[1;32m     41\u001b[0m                 \u001b[38;5;28mself\u001b[39m\u001b[38;5;241m.\u001b[39mfn\u001b[38;5;241m.\u001b[39m\u001b[38;5;18m__name__\u001b[39m, \u001b[38;5;28mrepr\u001b[39m(geom)))\n\u001b[1;32m     42\u001b[0m \u001b[38;5;28;01mraise\u001b[39;00m err\n",
      "\u001b[0;31mTopologicalError\u001b[0m: The operation 'GEOSSymDifference_r' could not be performed. Likely cause is invalidity of the geometry <shapely.geometry.multipolygon.MultiPolygon object at 0x7f3b791779a0>"
     ]
    }
   ],
   "source": [
    "# create instances to track properties\n",
    "print('You may see an ERROR 1 occur; ignore this unless block throws actual exception...')\n",
    "print('You may see WARNING:fiona.ogrext:Expecting property name enclosed in double quotes: line 1 column 2 (char 1); you can ignore this error safely')\n",
    "\n",
    "import warnings\n",
    "warnings.filterwarnings('ignore')\n",
    "    \n",
    "feds_firenrt = InputFEDS(\n",
    "                 feds_title, \n",
    "                 feds_collection, \n",
    "                 search_start,\n",
    "                 search_stop,\n",
    "                 search_bbox,\n",
    "                 crs,\n",
    "                 feds_access_type,\n",
    "                 feds_limit,\n",
    "                 feds_filter,\n",
    "                 feds_apply_finalfire\n",
    "                )\n",
    "\n",
    "nifc_search = InputReference( \n",
    "                 search_start,\n",
    "                 search_stop,\n",
    "                 search_bbox,\n",
    "                 crs,\n",
    "                 ref_title,\n",
    "                 ref_control_type,\n",
    "                 ref_custom_url,\n",
    "                 ref_custom_read_type,\n",
    "                 ref_filter,\n",
    "                )\n",
    "\n",
    "my_output = OutputCalculation(\n",
    "                feds_firenrt,\n",
    "                nifc_search,\n",
    "                output_format, \n",
    "                output_maap_url,\n",
    "                day_search_range,\n",
    "                print_on,\n",
    "                plot_on\n",
    "                )"
   ]
  },
  {
   "cell_type": "markdown",
   "id": "a2561df1-581b-4e39-9d67-3401875708f7",
   "metadata": {},
   "source": [
    "### Print Results with indices\n",
    "\n",
    "As noted above, this plotting will be moved into the classes. For now, it is demonstrating the same functionality it will have in the future. It uses the returned indices to pick out polygons of interest"
   ]
  },
  {
   "cell_type": "code",
   "execution_count": null,
   "id": "76784bf5-4555-485a-9b17-5abb6e2252a0",
   "metadata": {
    "tags": []
   },
   "outputs": [],
   "source": [
    "feds_nrt_match = feds_firenrt.polygons[feds_firenrt.polygons['index'] == 23] # <-- thats the index match\n",
    "feds_nrt_match.head()"
   ]
  },
  {
   "cell_type": "code",
   "execution_count": null,
   "id": "0bf69c80-d9f1-474d-b7cd-b26c28c31186",
   "metadata": {
    "tags": []
   },
   "outputs": [],
   "source": [
    "nifc_current_match = nifc_search._polygons[nifc_search.polygons['index'] == 44] # <-- thats the index match\n",
    "nifc_current_match.head()"
   ]
  },
  {
   "cell_type": "markdown",
   "id": "e0a184c3-f2f2-4715-a01b-afa1eeee1158",
   "metadata": {},
   "source": [
    "### Plot matching polygons"
   ]
  },
  {
   "cell_type": "code",
   "execution_count": null,
   "id": "6ef03c2e",
   "metadata": {
    "tags": []
   },
   "outputs": [],
   "source": [
    "# visualize\n",
    "import matplotlib.pyplot as plt\n",
    "\n",
    "fig, ax = plt.subplots(figsize=(15, 15))\n",
    "\n",
    "print('FEDS NRT Polygon Date', feds_nrt_match['t'])\n",
    "print('NIFC WFIGS Polygon Date',nifc_current_match['DATE_CUR_STAMP'])\n",
    "\n",
    "\n",
    "# search_bbox = [\"-120.17\", \"38.18\", \"-119.67\", \"37.9\"]\n",
    "# lon_min, lat_max, lon_max, lat_min = map(float, search_bbox)\n",
    "\n",
    "v = feds_nrt_match.plot(ax=ax, legend=True, label=\"FEDS NRT MATCH\", color=\"blue\",edgecolor=\"black\", linewidth=0.5 )\n",
    "n = nifc_current_match.plot(ax=ax, legend=True, label=\"WFIGS NIFC NRT\", color=\"gold\", edgecolor=\"black\", linewidth=0.5, alpha=0.7)\n",
    "\n",
    "# ax.set_xlim(lon_min, lon_max)\n",
    "# ax.set_ylim(lat_min, lat_max)\n",
    "ax.set_title(\"FEDS NRT for Quarry Fire vs NIFC Live Incident Polygon with closest date + touch\")\n",
    "ax.set_xlabel(\"Longitude\")\n",
    "ax.set_ylabel(\"Latitude\")\n",
    "plt.show()\n"
   ]
  },
  {
   "cell_type": "code",
   "execution_count": null,
   "id": "53c13588-9772-4a78-8c33-d7b2342f3e1d",
   "metadata": {},
   "outputs": [],
   "source": []
  }
 ],
 "metadata": {
  "kernelspec": {
   "display_name": "envs-feds",
   "language": "python",
   "name": "envs-feds"
  },
  "language_info": {
   "codemirror_mode": {
    "name": "ipython",
    "version": 3
   },
   "file_extension": ".py",
   "mimetype": "text/x-python",
   "name": "python",
   "nbconvert_exporter": "python",
   "pygments_lexer": "ipython3",
   "version": "3.10.6"
  }
 },
 "nbformat": 4,
 "nbformat_minor": 5
}
