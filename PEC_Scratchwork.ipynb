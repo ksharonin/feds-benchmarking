{
 "cells": [
  {
   "cell_type": "markdown",
   "id": "ae40076b-0b07-4dc1-aa2f-ec0533f6e272",
   "metadata": {},
   "source": [
    "### Scratchwork for PEC Development"
   ]
  },
  {
   "cell_type": "code",
   "execution_count": 3,
   "id": "aaa3d394-2c2e-4d04-8352-935b247d6b3c",
   "metadata": {
    "tags": []
   },
   "outputs": [
    {
     "name": "stdout",
     "output_type": "stream",
     "text": [
      "\u001b[33mWARNING: Running pip as the 'root' user can result in broken permissions and conflicting behaviour with the system package manager. It is recommended to use a virtual environment instead: https://pip.pypa.io/warnings/venv\u001b[0m\u001b[33m\n",
      "\u001b[0m"
     ]
    }
   ],
   "source": [
    "!pip install OWSLib==0.28.1 --quiet"
   ]
  },
  {
   "cell_type": "code",
   "execution_count": 4,
   "id": "241befff-a935-416b-a90a-1ce468a3f113",
   "metadata": {
    "tags": []
   },
   "outputs": [],
   "source": [
    "from owslib.ogcapi.features import Features\n",
    "import geopandas as gpd\n",
    "import datetime as dt\n",
    "from datetime import datetime, timedelta"
   ]
  },
  {
   "cell_type": "code",
   "execution_count": 5,
   "id": "a2ab0204-32d1-4840-9a3d-2ed9cced0492",
   "metadata": {
    "tags": []
   },
   "outputs": [
    {
     "data": {
      "text/plain": [
       "['public.eis_fire_lf_nfplist_nrt',\n",
       " 'public.eis_fire_snapshot_newfirepix_nrt',\n",
       " 'public.eis_fire_lf_fireline_archive',\n",
       " 'public.eis_fire_lf_perimeter_archive',\n",
       " 'public.eis_fire_snapshot_fireline_nrt',\n",
       " 'public.eis_fire_snapshot_perimeter_nrt',\n",
       " 'public.eis_fire_lf_newfirepix_nrt',\n",
       " 'public.eis_fire_lf_nfplist_archive',\n",
       " 'public.eis_fire_lf_newfirepix_archive',\n",
       " 'public.eis_fire_lf_fireline_nrt',\n",
       " 'public.eis_fire_fwi',\n",
       " 'public.eis_fire_lf_perimeter_nrt',\n",
       " 'public.st_squaregrid',\n",
       " 'public.st_hexagongrid',\n",
       " 'public.st_subdivide']"
      ]
     },
     "execution_count": 5,
     "metadata": {},
     "output_type": "execute_result"
    }
   ],
   "source": [
    "OGC_URL = \"https://firenrt.delta-backend.com\"\n",
    "\n",
    "w = Features(url=OGC_URL)\n",
    "w.feature_collections()"
   ]
  },
  {
   "cell_type": "code",
   "execution_count": 8,
   "id": "86c5622c-d79b-4b90-a79c-a37d866be1aa",
   "metadata": {
    "tags": []
   },
   "outputs": [
    {
     "name": "stdout",
     "output_type": "stream",
     "text": [
      "<class 'dict'>\n",
      "{'id': 'public.eis_fire_snapshot_perimeter_nrt', 'title': 'public.eis_fire_snapshot_perimeter_nrt', 'links': [{'href': 'https://firenrt.delta-backend.com/collections/public.eis_fire_snapshot_perimeter_nrt', 'rel': 'self', 'type': 'application/json'}, {'href': 'https://firenrt.delta-backend.com/collections/public.eis_fire_snapshot_perimeter_nrt/items', 'rel': 'items', 'type': 'application/geo+json', 'title': 'Items'}, {'href': 'https://firenrt.delta-backend.com/collections/public.eis_fire_snapshot_perimeter_nrt/items?f=csv', 'rel': 'alternate', 'type': 'text/csv', 'title': 'Items (CSV)'}, {'href': 'https://firenrt.delta-backend.com/collections/public.eis_fire_snapshot_perimeter_nrt/items?f=geojsonseq', 'rel': 'alternate', 'type': 'application/geo+json-seq', 'title': 'Items (GeoJSONSeq)'}, {'href': 'https://firenrt.delta-backend.com/collections/public.eis_fire_snapshot_perimeter_nrt/queryables', 'rel': 'queryables', 'type': 'application/schema+json', 'title': 'Queryables'}], 'extent': {'spatial': {'bbox': [[-124.7220687866211, 24.073118209838867, -61.888755798339844, 49.39781951904297]], 'crs': 'http://www.opengis.net/def/crs/OGC/1.3/CRS84'}, 'temporal': {'interval': [['2023-08-29T00:00:00+00:00', '2023-09-18T00:00:00+00:00']], 'trs': 'http://www.opengis.net/def/uom/ISO-8601/0/Gregorian'}}, 'itemType': 'feature', 'crs': ['http://www.opengis.net/def/crs/OGC/1.3/CRS84']}\n"
     ]
    }
   ],
   "source": [
    "perm = w.collection(\"public.eis_fire_snapshot_perimeter_nrt\")\n",
    "print(type(perm))\n",
    "print(perm)"
   ]
  },
  {
   "cell_type": "code",
   "execution_count": 21,
   "id": "4d4402fa-42f6-4f06-af4e-e6a89846bbf0",
   "metadata": {
    "tags": []
   },
   "outputs": [
    {
     "data": {
      "text/plain": [
       "['2023-08-29T00:00:00+00:00', '2023-09-18T00:00:00+00:00']"
      ]
     },
     "execution_count": 21,
     "metadata": {},
     "output_type": "execute_result"
    }
   ],
   "source": [
    "perm[\"extent\"][\"temporal\"][\"interval\"][0]"
   ]
  },
  {
   "cell_type": "code",
   "execution_count": null,
   "id": "9df14f00-a9fd-410e-875d-0993e798defd",
   "metadata": {},
   "outputs": [],
   "source": []
  }
 ],
 "metadata": {
  "kernelspec": {
   "display_name": "envs-feds",
   "language": "python",
   "name": "envs-feds"
  },
  "language_info": {
   "codemirror_mode": {
    "name": "ipython",
    "version": 3
   },
   "file_extension": ".py",
   "mimetype": "text/x-python",
   "name": "python",
   "nbconvert_exporter": "python",
   "pygments_lexer": "ipython3",
   "version": "3.10.6"
  }
 },
 "nbformat": 4,
 "nbformat_minor": 5
}
